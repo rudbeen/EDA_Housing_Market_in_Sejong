{
 "cells": [
  {
   "cell_type": "code",
   "execution_count": 1,
   "metadata": {},
   "outputs": [],
   "source": [
    "import pandas as pd \n",
    "import matplotlib.pyplot as plt\n",
    "%matplotlib inline\n",
    "import seaborn as sns \n",
    "import warnings\n",
    "warnings.filterwarnings('ignore')"
   ]
  },
  {
   "cell_type": "code",
   "execution_count": 2,
   "metadata": {},
   "outputs": [],
   "source": [
    "apt_price = pd.read_csv('../geocording_input/아파트_매매_실거래가_지오코딩_joined.csv', encoding='utf-8')\n",
    "apt_rent = pd.read_csv('../geocording_input/아파트_전월세_실거래가_지오코딩_joined.csv', encoding='utf-8')\n",
    "yunlip_price = pd.read_csv('../geocording_input/연립다세대_매매_실거래가_지오코딩_joined.csv', encoding='utf-8')\n",
    "yunlip_rent = pd.read_csv('../geocording_input/연립다세대_전월세_실거래가_지오코딩_joined.csv', encoding='utf-8')\n",
    "office_price = pd.read_csv('../geocording_input/오피스텔_매매_실거래가_지오코딩_joined.csv', encoding='utf-8')\n",
    "office_rent = pd.read_csv('../geocording_input/오피스텔_전월세_실거래가_지오코딩_joined.csv', encoding='utf-8')\n",
    "dan_price = pd.read_csv('../geocording_input/단독다가구_매매_실거래가_지오코딩_joined.csv', encoding='utf-8')\n",
    "dan_rent = pd.read_csv('../geocording_input/단독다가구_전월세_실거래가_지오코딩_joined.csv', encoding='utf-8')\n",
    "apt_lot = pd.read_csv('../geocording_input/분양권_실거래가_지오코딩_joined.csv', encoding='utf-8')"
   ]
  },
  {
   "cell_type": "code",
   "execution_count": 3,
   "metadata": {},
   "outputs": [],
   "source": [
    "세종시_전유부 = pd.read_csv('../input_raw/1.세종시_전유부.csv')\n",
    "세종시_표제부 = pd.read_csv('../input_raw/2.세종시_표제부.csv')\n",
    "세종시_상권정보 = pd.read_csv('../input_raw/14.세종시_상권정보.csv',encoding='UTF-8')\n",
    "세종시_상권정보_업종코드 = pd.read_csv('../input_raw/15.세종시_상권정보_업종코드.csv',encoding='UTF-8')\n",
    "세종시_전입자수 = pd.read_csv('../input_raw/20.세종시_전입자수.csv',encoding='UTF-8')\n",
    "세종시_전출자수 = pd.read_csv('../input_raw/21.세종시_전출자수.csv',encoding='UTF-8')\n",
    "세종시_연령별_인구현황 = pd.read_csv('../input_raw/22.세종시_연령별_인구현황.csv')\n",
    "\n",
    "세종시_가구_월평균_소비지출액 = pd.read_csv('../input_raw/25.세종시_가구_월평균_소비지출액.csv')\n",
    "세종시_거주기간 = pd.read_csv('../input_raw/26.세종시_거주기간.csv')\n",
    "세종시_월평균_가구소득 = pd.read_csv('../input_raw/27.세종시_월평균_가구소득.csv')\n",
    "세종시_지역별_세대원수별_세대수 = pd.read_csv('../input_raw/28.세종시_지역별_세대원수별_세대수.csv')\n",
    "세종시_거주의사_향후 = pd.read_csv('../input_raw/29.세종시_거주의사(향후).csv')"
   ]
  },
  {
   "cell_type": "markdown",
   "metadata": {},
   "source": [
    "# 연도열 추가"
   ]
  },
  {
   "cell_type": "code",
   "execution_count": 4,
   "metadata": {},
   "outputs": [],
   "source": [
    "apt_price['거래금액(만원)'] = apt_price['거래금액(만원)'].str.replace('[,]','')\n",
    "apt_price['거래금액(만원)'] = apt_price['거래금액(만원)'].astype('float')\n",
    "\n",
    "apt_price['전용면적당_가격'] = apt_price['거래금액(만원)'] * 10000 / apt_price['전용면적(㎡)']*3.3\n",
    "apt_price['계약년월'] = apt_price['계약년월'].astype('str')\n",
    "Year = []\n",
    "for i in range(len(apt_price)):\n",
    "    new = apt_price['계약년월'][i][:4]\n",
    "    Year.append(new)\n",
    "\n",
    "apt_price['계약년도'] = Year"
   ]
  },
  {
   "cell_type": "markdown",
   "metadata": {},
   "source": [
    "### 아파트 전월세"
   ]
  },
  {
   "cell_type": "code",
   "execution_count": 5,
   "metadata": {},
   "outputs": [],
   "source": [
    "apt_rent = apt_rent.reset_index(drop = True)\n",
    "\n",
    "apt_rent['보증금(만원)'] = apt_rent['보증금(만원)'].str.replace('[,]','')\n",
    "apt_rent['보증금(만원)'] = apt_rent['보증금(만원)'].astype('float')\n",
    "\n",
    "rent_price = []\n",
    "for i in range(apt_rent.shape[0]) :\n",
    "    if apt_rent['계약년월'][i] <= 202009 :\n",
    "        if apt_rent['전월세구분'][i] == '월세' :\n",
    "            rent_price.append(apt_rent['월세(만원)'][i]*12*25 + apt_rent['보증금(만원)'][i])\n",
    "        else :\n",
    "            rent_price.append(apt_rent['보증금(만원)'][i])\n",
    "    else :\n",
    "        if apt_rent['전월세구분'][i] == '월세' :\n",
    "            rent_price.append(apt_rent['월세(만원)'][i]*12*40 + apt_rent['보증금(만원)'][i])\n",
    "        else :\n",
    "            rent_price.append(apt_rent['보증금(만원)'][i])\n",
    "apt_rent['책정금액'] = rent_price\n",
    "\n",
    "apt_rent['전용면적당_가격'] = apt_rent['책정금액'] * 10000 / apt_rent['전용면적(㎡)'] * 3.3\n",
    "\n",
    "apt_rent['계약년월'] = apt_rent['계약년월'].astype('str')\n",
    "\n",
    "Year = []\n",
    "for i in range(len(apt_rent)):\n",
    "    new = apt_rent['계약년월'][i][:4]\n",
    "    Year.append(new)\n",
    "apt_rent['계약년도'] = Year"
   ]
  },
  {
   "cell_type": "markdown",
   "metadata": {},
   "source": [
    "### 연립다세대 매매"
   ]
  },
  {
   "cell_type": "code",
   "execution_count": 6,
   "metadata": {},
   "outputs": [],
   "source": [
    "price = []\n",
    "for i in yunlip_price['거래금액(만원)'] :\n",
    "    price.append(i.replace(',',''))\n",
    "yunlip_price['거래금액(만원)'] = price\n",
    "yunlip_price['거래금액(만원)'] = yunlip_price['거래금액(만원)'].astype('int')\n",
    "yunlip_price['전용면적당_가격'] = yunlip_price['거래금액(만원)'] * 10000 / yunlip_price['전용면적(㎡)'] * 3.3\n",
    "yunlip_price['계약년월'] = yunlip_price['계약년월'].astype('str')\n",
    "Year = []\n",
    "for i in range(len(yunlip_price)):\n",
    "    new = yunlip_price['계약년월'][i][:4]\n",
    "    Year.append(new)\n",
    "yunlip_price['계약년도'] = Year"
   ]
  },
  {
   "cell_type": "markdown",
   "metadata": {},
   "source": [
    "### 연립다세대 전월세"
   ]
  },
  {
   "cell_type": "code",
   "execution_count": 7,
   "metadata": {},
   "outputs": [],
   "source": [
    "yunlip_rent['보증금(만원)'] = yunlip_rent['보증금(만원)'].str.replace('[,]','')\n",
    "yunlip_rent['보증금(만원)'] = yunlip_rent['보증금(만원)'].astype('float')"
   ]
  },
  {
   "cell_type": "code",
   "execution_count": 8,
   "metadata": {},
   "outputs": [],
   "source": [
    "rent_price = []\n",
    "for i in range(yunlip_rent.shape[0]) :\n",
    "    if yunlip_rent['계약년월'][i] <= 202009 :\n",
    "        if yunlip_rent['전월세구분'][i] == '월세' :\n",
    "            rent_price.append(yunlip_rent['월세(만원)'][i]*12*25 + yunlip_rent['보증금(만원)'][i])\n",
    "        else :\n",
    "            rent_price.append(yunlip_rent['보증금(만원)'][i])\n",
    "    else :\n",
    "        if yunlip_rent['전월세구분'][i] == '월세' :\n",
    "            rent_price.append(yunlip_rent['월세(만원)'][i]*12*40 + yunlip_rent['보증금(만원)'][i])\n",
    "        else :\n",
    "            rent_price.append(yunlip_rent['보증금(만원)'][i])\n",
    "yunlip_rent['책정금액'] = rent_price\n",
    "yunlip_rent['전용면적당_가격'] = yunlip_rent['책정금액'] * 10000 / yunlip_rent['전용면적(㎡)'] * 3.3\n",
    "yunlip_rent['계약년월'] = yunlip_rent['계약년월'].astype('str')\n",
    "Year = []\n",
    "for i in range(len(yunlip_rent)):\n",
    "    new = yunlip_rent['계약년월'][i][:4]\n",
    "    Year.append(new)\n",
    "yunlip_rent['계약년도'] = Year"
   ]
  },
  {
   "cell_type": "markdown",
   "metadata": {},
   "source": [
    "### 오피스텔 매매"
   ]
  },
  {
   "cell_type": "code",
   "execution_count": 9,
   "metadata": {},
   "outputs": [],
   "source": [
    "office_price['거래금액(만원)'] = office_price['거래금액(만원)'].str.replace('[,]','')\n",
    "office_price['거래금액(만원)'] = office_price['거래금액(만원)'].astype('float')\n",
    "office_price['전용면적당_가격'] = office_price['거래금액(만원)'] * 10000 / office_price['전용면적(㎡)'] * 3.3\n",
    "office_price['계약년월'] = office_price['계약년월'].astype('str')\n",
    "Year = []\n",
    "for i in range(len(office_price)):\n",
    "    new = office_price['계약년월'][i][:4]\n",
    "    Year.append(new)\n",
    "office_price['계약년도'] = Year"
   ]
  },
  {
   "cell_type": "markdown",
   "metadata": {},
   "source": [
    "### 오피스텔 전월세"
   ]
  },
  {
   "cell_type": "code",
   "execution_count": 10,
   "metadata": {},
   "outputs": [],
   "source": [
    "office_rent['보증금(만원)'] = office_rent['보증금(만원)'].str.replace('[,]','')\n",
    "office_rent['보증금(만원)'] = office_rent['보증금(만원)'].astype('float')\n",
    "rent_price = []\n",
    "for i in range(office_rent.shape[0]) :\n",
    "    if office_rent['계약년월'][i] <= 202009 :\n",
    "        if office_rent['전월세구분'][i] == '월세' :\n",
    "            rent_price.append(office_rent['월세(만원)'][i]*12*25 + office_rent['보증금(만원)'][i])\n",
    "        else :\n",
    "            rent_price.append(office_rent['보증금(만원)'][i])\n",
    "    else :\n",
    "        if office_rent['전월세구분'][i] == '월세' :\n",
    "            rent_price.append(office_rent['월세(만원)'][i]*12*40 + office_rent['보증금(만원)'][i])\n",
    "        else :\n",
    "            rent_price.append(office_rent['보증금(만원)'][i])\n",
    "office_rent['책정금액'] = rent_price\n",
    "office_rent['전용면적당_가격'] = office_rent['책정금액'] * 10000 / office_rent['전용면적(㎡)'] * 3.3\n",
    "office_rent['계약년월'] = office_rent['계약년월'].astype('str')\n",
    "Year = []\n",
    "for i in range(len(office_rent)):\n",
    "    new = office_rent['계약년월'][i][:4]\n",
    "    Year.append(new)\n",
    "office_rent['계약년도'] = Year"
   ]
  },
  {
   "cell_type": "markdown",
   "metadata": {},
   "source": [
    "### 단독다가구 매매"
   ]
  },
  {
   "cell_type": "code",
   "execution_count": 11,
   "metadata": {},
   "outputs": [],
   "source": [
    "dan_price['거래금액(만원)'] = dan_price['거래금액(만원)'].str.replace('[,]','')\n",
    "dan_price['거래금액(만원)'] = dan_price['거래금액(만원)'].astype('float')\n",
    "\n",
    "dan_price['전용면적당_가격'] = dan_price['거래금액(만원)'] * 10000 / dan_price['연면적(㎡)']\n",
    "\n",
    "dan_price['계약년월'] = dan_price['계약년월'].astype('str')\n",
    "Year = []\n",
    "for i in range(len(dan_price)):\n",
    "    new = dan_price['계약년월'][i][:4]\n",
    "    Year.append(new)\n",
    "dan_price['계약년도'] = Year"
   ]
  },
  {
   "cell_type": "markdown",
   "metadata": {},
   "source": [
    "### 단독다가구 전월세"
   ]
  },
  {
   "cell_type": "code",
   "execution_count": 12,
   "metadata": {},
   "outputs": [],
   "source": [
    "dan_rent['보증금(만원)'] = dan_rent['보증금(만원)'].str.replace('[,]','')\n",
    "dan_rent['보증금(만원)'] = dan_rent['보증금(만원)'].astype('float')"
   ]
  },
  {
   "cell_type": "code",
   "execution_count": 13,
   "metadata": {},
   "outputs": [],
   "source": [
    "rent_price = []\n",
    "for i in range(dan_rent.shape[0]) :\n",
    "    if dan_rent['계약년월'][i] <= 202009 :\n",
    "        if dan_rent['전월세구분'][i] == '월세' :\n",
    "            rent_price.append(dan_rent['월세(만원)'][i]*12*25 + dan_rent['보증금(만원)'][i])\n",
    "        else :\n",
    "            rent_price.append(dan_rent['보증금(만원)'][i])\n",
    "    else :\n",
    "        if dan_rent['전월세구분'][i] == '월세' :\n",
    "            rent_price.append(dan_rent['월세(만원)'][i]*12*40 + dan_rent['보증금(만원)'][i])\n",
    "        else :\n",
    "            rent_price.append(dan_rent['보증금(만원)'][i])\n",
    "            \n",
    "dan_rent['책정금액'] = rent_price\n",
    "dan_rent['X.1'] = dan_rent['X.1'].astype('str')\n",
    "dan_rent['Y.1'] = dan_rent['Y.1'].astype('str')\n",
    "dan_rent['X_Y_joined'] = dan_rent['X.1'] + ' ' + dan_rent['Y.1']\n",
    "dan_rent['전용면적당_가격'] = dan_rent['책정금액'] * 10000 / dan_rent['계약면적(㎡)']\n",
    "\n",
    "dan_rent['계약년월'] = dan_rent['계약년월'].astype('str')\n",
    "Year = []\n",
    "for i in range(len(dan_rent)):\n",
    "    new = dan_rent['계약년월'][i][:4]\n",
    "    Year.append(new)\n",
    "dan_rent['계약년도'] = Year"
   ]
  },
  {
   "cell_type": "markdown",
   "metadata": {},
   "source": [
    "### 아파트 분양권"
   ]
  },
  {
   "cell_type": "code",
   "execution_count": 14,
   "metadata": {},
   "outputs": [],
   "source": [
    "apt_lot['거래금액(만원)'] = apt_lot['거래금액(만원)'].str.replace('[,]','')\n",
    "apt_lot['거래금액(만원)'] = apt_lot['거래금액(만원)'].astype('float')"
   ]
  },
  {
   "cell_type": "code",
   "execution_count": 15,
   "metadata": {},
   "outputs": [],
   "source": [
    "apt_lot['전용면적당_가격'] = apt_lot['거래금액(만원)'] * 10000 / apt_lot['전용면적(㎡)'] * 3.3\n",
    "\n",
    "apt_lot['계약년월'] = apt_lot['계약년월'].astype('str')\n",
    "Year = []\n",
    "for i in range(len(apt_lot)):\n",
    "    new = apt_lot['계약년월'][i][:4]\n",
    "    Year.append(new)\n",
    "apt_lot['계약년도'] = Year"
   ]
  },
  {
   "cell_type": "markdown",
   "metadata": {},
   "source": [
    "# 전출 대비 전입 비율"
   ]
  },
  {
   "cell_type": "markdown",
   "metadata": {},
   "source": [
    "#### 연도별 비율"
   ]
  },
  {
   "cell_type": "code",
   "execution_count": 16,
   "metadata": {},
   "outputs": [],
   "source": [
    "세종시_전입자수['년월'] = 세종시_전입자수['년월'].astype('str')\n",
    "Year = []\n",
    "for i in range(len(세종시_전입자수)):\n",
    "    new = 세종시_전입자수['년월'][i][:4]\n",
    "    Year.append(new)\n",
    "세종시_전입자수['계약년도'] = Year"
   ]
  },
  {
   "cell_type": "code",
   "execution_count": 17,
   "metadata": {
    "scrolled": true
   },
   "outputs": [],
   "source": [
    "세종시_행정동별_전입자수 = 세종시_전입자수.groupby(['세종전입행정동','계약년도'])['전입자수'].agg(sum).reset_index()"
   ]
  },
  {
   "cell_type": "code",
   "execution_count": 18,
   "metadata": {},
   "outputs": [],
   "source": [
    "세종시_행정동별_전입자수.columns = ['행정동','연도','전입자수']"
   ]
  },
  {
   "cell_type": "code",
   "execution_count": 19,
   "metadata": {},
   "outputs": [],
   "source": [
    "세종시_전출자수['년월'] = 세종시_전출자수['년월'].astype('str')\n",
    "Year = []\n",
    "for i in range(len(세종시_전출자수)):\n",
    "    new = 세종시_전출자수['년월'][i][:4]\n",
    "    Year.append(new)\n",
    "세종시_전출자수['계약년도'] = Year"
   ]
  },
  {
   "cell_type": "code",
   "execution_count": 20,
   "metadata": {
    "scrolled": true
   },
   "outputs": [],
   "source": [
    "세종시_행정동별_전출자수 = 세종시_전출자수.groupby(['세종전출행정동','계약년도'])['전출자수'].agg(sum).reset_index()\n",
    "\n",
    "세종시_행정동별_전출자수.columns = ['행정동','연도','전출자수']\n",
    "\n",
    "세종시_행정동별_전입전출자수 = pd.merge(세종시_행정동별_전출자수,세종시_행정동별_전입자수,on=['행정동','연도'],how='outer')\n",
    "\n",
    "세종시_행정동별_전입전출자수.loc[32] = 세종시_행정동별_전입전출자수.loc[32] + 세종시_행정동별_전입전출자수.loc[95]\n",
    "\n",
    "세종시_행정동별_전입전출자수.loc[34] = 세종시_행정동별_전입전출자수.loc[34] + 세종시_행정동별_전입전출자수.loc[10]\n",
    "\n",
    "세종시_행정동별_전입전출자수.loc[35] = 세종시_행정동별_전입전출자수.loc[35] + 세종시_행정동별_전입전출자수.loc[11]\n",
    "\n",
    "세종시_행정동별_전입전출자수 = 세종시_행정동별_전입전출자수.drop([95,10,11])"
   ]
  },
  {
   "cell_type": "code",
   "execution_count": 21,
   "metadata": {
    "scrolled": true
   },
   "outputs": [],
   "source": [
    "세종시_행정동별_전입전출자수.loc[32,'행정동'] = '새롬동'\n",
    "세종시_행정동별_전입전출자수.loc[34,'행정동'] = '새롬동'\n",
    "세종시_행정동별_전입전출자수.loc[35,'행정동'] = '새롬동'"
   ]
  },
  {
   "cell_type": "code",
   "execution_count": 22,
   "metadata": {},
   "outputs": [],
   "source": [
    "세종시_행정동별_전입전출자수.loc[32,'연도'] = '2018'\n",
    "세종시_행정동별_전입전출자수.loc[34,'연도'] = '2020'\n",
    "세종시_행정동별_전입전출자수.loc[35,'연도'] = '2021'"
   ]
  },
  {
   "cell_type": "code",
   "execution_count": 23,
   "metadata": {},
   "outputs": [],
   "source": [
    "세종시_행정동별_전입전출자수['전출_대비_전입_비율']=(세종시_행정동별_전입전출자수['전입자수']/세종시_행정동별_전입전출자수['전출자수'])*100"
   ]
  },
  {
   "cell_type": "code",
   "execution_count": 24,
   "metadata": {},
   "outputs": [],
   "source": [
    "_2017년_세종시_행정동별_전입전출자수 = 세종시_행정동별_전입전출자수.loc[세종시_행정동별_전입전출자수['연도']=='2017']\n",
    "_2017년_세종시_행정동별_전입전출자수.to_csv('./부동산_관련_자료/2017년_세종시_행정동별_전입전출자수.csv',encoding='utf-8')"
   ]
  },
  {
   "cell_type": "code",
   "execution_count": 25,
   "metadata": {},
   "outputs": [],
   "source": [
    "_2018년_세종시_행정동별_전입전출자수 = 세종시_행정동별_전입전출자수.loc[세종시_행정동별_전입전출자수['연도']=='2018']\n",
    "_2018년_세종시_행정동별_전입전출자수.to_csv('./부동산_관련_자료/2018년_세종시_행정동별_전입전출자수.csv',encoding='utf-8')"
   ]
  },
  {
   "cell_type": "code",
   "execution_count": 26,
   "metadata": {},
   "outputs": [],
   "source": [
    "_2019년_세종시_행정동별_전입전출자수 = 세종시_행정동별_전입전출자수.loc[세종시_행정동별_전입전출자수['연도']=='2019']\n",
    "_2019년_세종시_행정동별_전입전출자수.to_csv('./부동산_관련_자료/2019년_세종시_행정동별_전입전출자수.csv',encoding='utf-8')"
   ]
  },
  {
   "cell_type": "code",
   "execution_count": 27,
   "metadata": {},
   "outputs": [],
   "source": [
    "_2020년_세종시_행정동별_전입전출자수 = 세종시_행정동별_전입전출자수.loc[세종시_행정동별_전입전출자수['연도']=='2020']\n",
    "_2020년_세종시_행정동별_전입전출자수.to_csv('./부동산_관련_자료/2020년_세종시_행정동별_전입전출자수.csv',encoding='utf-8')"
   ]
  },
  {
   "cell_type": "code",
   "execution_count": 28,
   "metadata": {},
   "outputs": [],
   "source": [
    "_2021년_세종시_행정동별_전입전출자수 = 세종시_행정동별_전입전출자수.loc[세종시_행정동별_전입전출자수['연도']=='2021']\n",
    "_2021년_세종시_행정동별_전입전출자수.to_csv('./부동산_관련_자료/2021년_세종시_행정동별_전입전출자수.csv',encoding='utf-8')"
   ]
  },
  {
   "cell_type": "markdown",
   "metadata": {},
   "source": [
    "## 부동산 거래 횟수 및 주거 형태별 평균 거래 가격"
   ]
  },
  {
   "cell_type": "markdown",
   "metadata": {},
   "source": [
    "### 부동산 거래 횟수"
   ]
  },
  {
   "cell_type": "code",
   "execution_count": 233,
   "metadata": {
    "scrolled": true
   },
   "outputs": [],
   "source": [
    "연도별_아파트_매매_거래횟수 = apt_price.groupby(['ADM_DR_NM','계약년도'])['전용면적당_가격'].count().reset_index()\n",
    "연도별_아파트_매매_거래횟수.columns = ['행정동명','연도','거래횟수']\n",
    "\n",
    "Data1 = 연도별_아파트_매매_거래횟수[연도별_아파트_매매_거래횟수['연도']=='2017']\n",
    "Data2 = 연도별_아파트_매매_거래횟수[연도별_아파트_매매_거래횟수['연도']=='2018']\n",
    "Data3 = 연도별_아파트_매매_거래횟수[연도별_아파트_매매_거래횟수['연도']=='2019']\n",
    "Data4 = 연도별_아파트_매매_거래횟수[연도별_아파트_매매_거래횟수['연도']=='2020']\n",
    "\n",
    "Data_set = [Data1,Data2,Data3,Data4]\n",
    "\n",
    "for i in range(len(Data_set)-1) :\n",
    "    if i == 0 :\n",
    "        merged = pd.merge(Data_set[i], Data_set[i+1], how = 'outer', on = '행정동명')\n",
    "    else :\n",
    "        merged = pd.merge(merged, Data_set[i+1], how = 'outer', on = '행정동명')\n",
    "merged = merged.drop(['연도_x','연도_y'],axis=1)\n",
    "merged.columns = ['행정동명','2017_거래횟수','2018_거래횟수','2019_거래횟수','2020_거래횟수']\n",
    "merged = merged.fillna('거래 없음')\n",
    "merged_1 = merged \n",
    "merged.to_csv('./부동산_관련_자료/세종시_아파트_매매_연도별_부동산_거래_횟수.csv',encoding='utf-8', index = False)"
   ]
  },
  {
   "cell_type": "code",
   "execution_count": 234,
   "metadata": {},
   "outputs": [],
   "source": [
    "연도별_아파트_전월세_거래횟수 = apt_rent.groupby(['ADM_DR_NM','계약년도'])['전용면적당_가격'].count().reset_index()\n",
    "연도별_아파트_전월세_거래횟수.columns = ['행정동명','연도','거래횟수']\n",
    "\n",
    "Data1 = 연도별_아파트_전월세_거래횟수[연도별_아파트_전월세_거래횟수['연도']=='2017']\n",
    "Data2 = 연도별_아파트_전월세_거래횟수[연도별_아파트_전월세_거래횟수['연도']=='2018']\n",
    "Data3 = 연도별_아파트_전월세_거래횟수[연도별_아파트_전월세_거래횟수['연도']=='2019']\n",
    "Data4 = 연도별_아파트_전월세_거래횟수[연도별_아파트_전월세_거래횟수['연도']=='2020']\n",
    "\n",
    "Data_set = [Data1,Data2,Data3,Data4]\n",
    "\n",
    "for i in range(len(Data_set)-1) :\n",
    "    if i == 0 :\n",
    "        merged = pd.merge(Data_set[i], Data_set[i+1], how = 'outer', on = '행정동명')\n",
    "    else :\n",
    "        merged = pd.merge(merged, Data_set[i+1], how = 'outer', on = '행정동명')\n",
    "merged = merged.drop(['연도_x','연도_y'],axis=1)\n",
    "merged.columns = ['행정동명','2017_거래횟수','2018_거래횟수','2019_거래횟수','2020_거래횟수']\n",
    "merged = merged.fillna('거래 없음')\n",
    "merged_2 = merged \n",
    "\n",
    "merged.to_csv('./부동산_관련_자료/세종시_아파트_전월세_연도별_부동산_거래_횟수.csv',encoding='utf-8', index = False)"
   ]
  },
  {
   "cell_type": "code",
   "execution_count": 235,
   "metadata": {},
   "outputs": [],
   "source": [
    "연도별_연립다세대_매매_거래횟수 = yunlip_price.groupby(['ADM_DR_NM','계약년도'])['전용면적당_가격'].count().reset_index()\n",
    "연도별_연립다세대_매매_거래횟수.columns = ['행정동명','연도','거래횟수']\n",
    "\n",
    "Data1 = 연도별_연립다세대_매매_거래횟수[연도별_연립다세대_매매_거래횟수['연도']=='2017']\n",
    "Data2 = 연도별_연립다세대_매매_거래횟수[연도별_연립다세대_매매_거래횟수['연도']=='2018']\n",
    "Data3 = 연도별_연립다세대_매매_거래횟수[연도별_연립다세대_매매_거래횟수['연도']=='2019']\n",
    "Data4 = 연도별_연립다세대_매매_거래횟수[연도별_연립다세대_매매_거래횟수['연도']=='2020']\n",
    "\n",
    "Data_set = [Data1,Data2,Data3,Data4]\n",
    "\n",
    "for i in range(len(Data_set)-1) :\n",
    "    if i == 0 :\n",
    "        merged = pd.merge(Data_set[i], Data_set[i+1], how = 'outer', on = '행정동명')\n",
    "    else :\n",
    "        merged = pd.merge(merged, Data_set[i+1], how = 'outer', on = '행정동명')\n",
    "merged = merged.drop(['연도_x','연도_y'],axis=1)\n",
    "merged.columns = ['행정동명','2017_거래횟수','2018_거래횟수','2019_거래횟수','2020_거래횟수']\n",
    "merged = merged.fillna('거래 없음')\n",
    "merged_3 = merged \n",
    "\n",
    "merged.to_csv('./부동산_관련_자료/세종시_연립다세대_매매_연도별_부동산_거래_횟수.csv',encoding='utf-8', index = False)"
   ]
  },
  {
   "cell_type": "code",
   "execution_count": 236,
   "metadata": {},
   "outputs": [],
   "source": [
    "연도별_연립다세대_전월세_거래횟수 = yunlip_rent.groupby(['ADM_DR_NM','계약년도'])['전용면적당_가격'].count().reset_index()\n",
    "연도별_연립다세대_전월세_거래횟수.columns = ['행정동명','연도','거래횟수']\n",
    "\n",
    "Data1 = 연도별_연립다세대_전월세_거래횟수[연도별_연립다세대_전월세_거래횟수['연도']=='2017']\n",
    "Data2 = 연도별_연립다세대_전월세_거래횟수[연도별_연립다세대_전월세_거래횟수['연도']=='2018']\n",
    "Data3 = 연도별_연립다세대_전월세_거래횟수[연도별_연립다세대_전월세_거래횟수['연도']=='2019']\n",
    "Data4 = 연도별_연립다세대_전월세_거래횟수[연도별_연립다세대_전월세_거래횟수['연도']=='2020']\n",
    "\n",
    "Data_set = [Data1,Data2,Data3,Data4]\n",
    "\n",
    "for i in range(len(Data_set)-1) :\n",
    "    if i == 0 :\n",
    "        merged = pd.merge(Data_set[i], Data_set[i+1], how = 'outer', on = '행정동명')\n",
    "    else :\n",
    "        merged = pd.merge(merged, Data_set[i+1], how = 'outer', on = '행정동명')\n",
    "merged = merged.drop(['연도_x','연도_y'],axis=1)\n",
    "merged.columns = ['행정동명','2017_거래횟수','2018_거래횟수','2019_거래횟수','2020_거래횟수']\n",
    "merged = merged.fillna('거래 없음')\n",
    "merged_4 = merged #동별 분류용\n",
    "\n",
    "merged.to_csv('./부동산_관련_자료/세종시_연립다세대_전월세_연도별_부동산_거래_횟수.csv',encoding='utf-8', index = False)"
   ]
  },
  {
   "cell_type": "code",
   "execution_count": 237,
   "metadata": {},
   "outputs": [],
   "source": [
    "연도별_오피스텔_매매_거래횟수 = office_price.groupby(['ADM_DR_NM','계약년도'])['전용면적당_가격'].count().reset_index()\n",
    "연도별_오피스텔_매매_거래횟수.columns = ['행정동명','연도','거래횟수']\n",
    "\n",
    "Data1 = 연도별_오피스텔_매매_거래횟수[연도별_오피스텔_매매_거래횟수['연도']=='2017']\n",
    "Data2 = 연도별_오피스텔_매매_거래횟수[연도별_오피스텔_매매_거래횟수['연도']=='2018']\n",
    "Data3 = 연도별_오피스텔_매매_거래횟수[연도별_오피스텔_매매_거래횟수['연도']=='2019']\n",
    "Data4 = 연도별_오피스텔_매매_거래횟수[연도별_오피스텔_매매_거래횟수['연도']=='2020']\n",
    "\n",
    "Data_set = [Data1,Data2,Data3,Data4]\n",
    "\n",
    "for i in range(len(Data_set)-1) :\n",
    "    if i == 0 :\n",
    "        merged = pd.merge(Data_set[i], Data_set[i+1], how = 'outer', on = '행정동명')\n",
    "    else :\n",
    "        merged = pd.merge(merged, Data_set[i+1], how = 'outer', on = '행정동명')\n",
    "merged = merged.drop(['연도_x','연도_y'],axis=1)\n",
    "merged.columns = ['행정동명','2017_거래횟수','2018_거래횟수','2019_거래횟수','2020_거래횟수']\n",
    "merged = merged.fillna('거래 없음')\n",
    "merged_5 = merged #동별 분류용\n",
    "\n",
    "merged.to_csv('./부동산_관련_자료/세종시_오피스텔_매매_연도별_부동산_거래_횟수.csv',encoding='utf-8', index = False)"
   ]
  },
  {
   "cell_type": "code",
   "execution_count": 238,
   "metadata": {},
   "outputs": [],
   "source": [
    "연도별_오피스텔_전월세_거래횟수 = office_rent.groupby(['ADM_DR_NM','계약년도'])['전용면적당_가격'].count().reset_index()\n",
    "연도별_오피스텔_전월세_거래횟수.columns = ['행정동명','연도','거래횟수']\n",
    "\n",
    "Data1 = 연도별_오피스텔_전월세_거래횟수[연도별_오피스텔_전월세_거래횟수['연도']=='2017']\n",
    "Data2 = 연도별_오피스텔_전월세_거래횟수[연도별_오피스텔_전월세_거래횟수['연도']=='2018']\n",
    "Data3 = 연도별_오피스텔_전월세_거래횟수[연도별_오피스텔_전월세_거래횟수['연도']=='2019']\n",
    "Data4 = 연도별_오피스텔_전월세_거래횟수[연도별_오피스텔_전월세_거래횟수['연도']=='2020']\n",
    "\n",
    "Data_set = [Data1,Data2,Data3,Data4]\n",
    "\n",
    "for i in range(len(Data_set)-1) :\n",
    "    if i == 0 :\n",
    "        merged = pd.merge(Data_set[i], Data_set[i+1], how = 'outer', on = '행정동명')\n",
    "    else :\n",
    "        merged = pd.merge(merged, Data_set[i+1], how = 'outer', on = '행정동명')\n",
    "merged = merged.drop(['연도_x','연도_y'],axis=1)\n",
    "merged.columns = ['행정동명','2017_거래횟수','2018_거래횟수','2019_거래횟수','2020_거래횟수']\n",
    "merged = merged.fillna('거래 없음')\n",
    "merged_6 = merged #동별 분류용\n",
    "\n",
    "merged.to_csv('./부동산_관련_자료/세종시_오피스텔_전월세_연도별_부동산_거래_횟수.csv',encoding='utf-8', index = False)"
   ]
  },
  {
   "cell_type": "code",
   "execution_count": 239,
   "metadata": {},
   "outputs": [],
   "source": [
    "연도별_단독주택_매매_거래횟수 = dan_price.groupby(['ADM_DR_NM','계약년도'])['전용면적당_가격'].count().reset_index()\n",
    "연도별_단독주택_매매_거래횟수.columns = ['행정동명','연도','거래횟수']\n",
    "\n",
    "Data1 = 연도별_단독주택_매매_거래횟수[연도별_단독주택_매매_거래횟수['연도']=='2017']\n",
    "Data2 = 연도별_단독주택_매매_거래횟수[연도별_단독주택_매매_거래횟수['연도']=='2018']\n",
    "Data3 = 연도별_단독주택_매매_거래횟수[연도별_단독주택_매매_거래횟수['연도']=='2019']\n",
    "Data4 = 연도별_단독주택_매매_거래횟수[연도별_단독주택_매매_거래횟수['연도']=='2020']\n",
    "\n",
    "Data_set = [Data1,Data2,Data3,Data4]\n",
    "\n",
    "for i in range(len(Data_set)-1) :\n",
    "    if i == 0 :\n",
    "        merged = pd.merge(Data_set[i], Data_set[i+1], how = 'outer', on = '행정동명')\n",
    "    else :\n",
    "        merged = pd.merge(merged, Data_set[i+1], how = 'outer', on = '행정동명')\n",
    "merged = merged.drop(['연도_x','연도_y'],axis=1)\n",
    "merged.columns = ['행정동명','2017_거래횟수','2018_거래횟수','2019_거래횟수','2020_거래횟수']\n",
    "merged = merged.fillna('거래 없음')\n",
    "merged_7 = merged #동별 분류용\n",
    "\n",
    "merged.to_csv('./부동산_관련_자료/세종시_단독주택_매매_연도별_부동산_거래_횟수.csv',encoding='utf-8', index = False)"
   ]
  },
  {
   "cell_type": "code",
   "execution_count": 240,
   "metadata": {},
   "outputs": [],
   "source": [
    "연도별_단독주택_전월세_거래횟수 = dan_rent.groupby(['ADM_DR_NM','계약년도'])['전용면적당_가격'].count().reset_index()\n",
    "연도별_단독주택_전월세_거래횟수.columns = ['행정동명','연도','거래횟수']\n",
    "\n",
    "Data1 = 연도별_단독주택_전월세_거래횟수[연도별_단독주택_전월세_거래횟수['연도']=='2017']\n",
    "Data2 = 연도별_단독주택_전월세_거래횟수[연도별_단독주택_전월세_거래횟수['연도']=='2018']\n",
    "Data3 = 연도별_단독주택_전월세_거래횟수[연도별_단독주택_전월세_거래횟수['연도']=='2019']\n",
    "Data4 = 연도별_단독주택_전월세_거래횟수[연도별_단독주택_전월세_거래횟수['연도']=='2020']\n",
    "\n",
    "Data_set = [Data1,Data2,Data3,Data4]\n",
    "\n",
    "for i in range(len(Data_set)-1) :\n",
    "    if i == 0 :\n",
    "        merged = pd.merge(Data_set[i], Data_set[i+1], how = 'outer', on = '행정동명')\n",
    "    else :\n",
    "        merged = pd.merge(merged, Data_set[i+1], how = 'outer', on = '행정동명')\n",
    "merged = merged.drop(['연도_x','연도_y'],axis=1)\n",
    "merged.columns = ['행정동명','2017_거래횟수','2018_거래횟수','2019_거래횟수','2020_거래횟수']\n",
    "merged = merged.fillna('거래 없음')\n",
    "merged_8 = merged #동별 분류용\n",
    "\n",
    "merged.to_csv('./부동산_관련_자료/세종시_단독주택_전월세_연도별_부동산_거래_횟수.csv',encoding='utf-8', index = False)"
   ]
  },
  {
   "cell_type": "code",
   "execution_count": 241,
   "metadata": {},
   "outputs": [],
   "source": [
    "연도별_아파트_분양권_매매_거래횟수 = apt_lot.groupby(['ADM_DR_NM','계약년도'])['전용면적당_가격'].count().reset_index()\n",
    "연도별_아파트_분양권_매매_거래횟수.columns = ['행정동명','연도','거래횟수']\n",
    "\n",
    "Data1 = 연도별_아파트_분양권_매매_거래횟수[연도별_아파트_분양권_매매_거래횟수['연도']=='2017']\n",
    "Data2 = 연도별_아파트_분양권_매매_거래횟수[연도별_아파트_분양권_매매_거래횟수['연도']=='2018']\n",
    "Data3 = 연도별_아파트_분양권_매매_거래횟수[연도별_아파트_분양권_매매_거래횟수['연도']=='2019']\n",
    "Data4 = 연도별_아파트_분양권_매매_거래횟수[연도별_아파트_분양권_매매_거래횟수['연도']=='2020']\n",
    "\n",
    "Data_set = [Data1,Data2,Data3,Data4]\n",
    "\n",
    "for i in range(len(Data_set)-1) :\n",
    "    if i == 0 :\n",
    "        merged = pd.merge(Data_set[i], Data_set[i+1], how = 'outer', on = '행정동명')\n",
    "    else :\n",
    "        merged = pd.merge(merged, Data_set[i+1], how = 'outer', on = '행정동명')\n",
    "merged = merged.drop(['연도_x','연도_y'],axis=1)\n",
    "merged.columns = ['행정동명','2017_거래횟수','2018_거래횟수','2019_거래횟수','2020_거래횟수']\n",
    "merged = merged.fillna('거래 없음')\n",
    "merged_9 = merged #동별 분류용\n",
    "\n",
    "merged.to_csv('./부동산_관련_자료/세종시_아파트_분양권_매매_연도별_부동산_거래_횟수.csv',encoding='utf-8', index = False)"
   ]
  },
  {
   "cell_type": "code",
   "execution_count": 242,
   "metadata": {},
   "outputs": [],
   "source": [
    "merged_set = [merged_1, merged_2, merged_3, merged_4, merged_5, merged_6, merged_7, merged_8, merged_9]\n",
    "\n",
    "for i in range(len(merged_set)-1) :\n",
    "    if i == 0 :\n",
    "        merged = pd.merge(merged_set[i], merged_set[i+1], how = 'outer', on = '행정동명')\n",
    "    else :\n",
    "        merged = pd.merge(merged, merged_set[i+1], how = 'outer', on = '행정동명')\n",
    "merged = merged.fillna('거래없음')\n",
    "merged.columns = ['행정동명','2017_아파트_매매','2018_아파트_매매','2019_아파트_매매','2020_아파트_매매','2017_아파트_전월세','2018_아파트_전월세','2019_아파트_전월세','2020_아파트_전월세','2017_연립_매매','2018_연립_매매','2019_연립_매매','2020_연립_매매','2017_연립_전월세','2018_연립_전월세','2019_연립_전월세','2020_연립_전월세','2017_오피스텔_매매','2018_오피스텔_매매','2019_오피스텔_매매','2020_오피스텔_매매','2017_오피스텔_전월세','2018_오피스텔_전월세','2019_오피스텔_전월세','2020_오피스텔_전월세','2017_단독_매매','2018_단독_매매','2019_단독_매매','2020_단독_매매','2017_단독_전월세','2018_단독_전월세','2019_단독_전월세','2020_단독_전월세','2017_분양권_매매','2018_분양권_매매','2019_분양권_매매','2020_분양권_매매']\n",
    "merged.to_csv('./부동산_관련_자료/행정동별_연도별_거래횟수.csv',encoding='utf-8',index=False)"
   ]
  },
  {
   "cell_type": "markdown",
   "metadata": {},
   "source": [
    "### 주거 형태별 평균 거래 가격"
   ]
  },
  {
   "cell_type": "code",
   "execution_count": 243,
   "metadata": {
    "scrolled": true
   },
   "outputs": [],
   "source": [
    "아파트_매매_연도별_평균가 = apt_price.groupby(['ADM_DR_NM','계약년도'])['전용면적당_가격'].agg(lambda x: x.sum()/x.count()).reset_index()\n",
    "아파트_매매_연도별_평균가.columns = ['행정동명','연도','평균 거래 가격']\n",
    "\n",
    "Data1 = 아파트_매매_연도별_평균가.loc[아파트_매매_연도별_평균가['연도']=='2017']\n",
    "Data2 = 아파트_매매_연도별_평균가.loc[아파트_매매_연도별_평균가['연도']=='2018']\n",
    "Data3 = 아파트_매매_연도별_평균가.loc[아파트_매매_연도별_평균가['연도']=='2019']\n",
    "Data4 = 아파트_매매_연도별_평균가.loc[아파트_매매_연도별_평균가['연도']=='2020']\n",
    "\n",
    "data_set = [Data1,Data2,Data3,Data4]\n",
    "\n",
    "for i in range(len(data_set)-1) :\n",
    "    if i == 0 :\n",
    "        merged = pd.merge(data_set[i], data_set[i+1], how = 'outer', on = '행정동명')\n",
    "    else :\n",
    "        merged = pd.merge(merged, data_set[i+1], how = 'outer', on = '행정동명')\n",
    "merged = merged.drop(['연도_x','연도_y'],axis=1)\n",
    "merged.columns = ['행정동명','2017_평균거래가격','2018_평균거래가격','2019_평균거래가격','2020_평균거래가격']\n",
    "merged = merged.fillna('거래 없음')\n",
    "\n",
    "merged.to_csv('./부동산_관련_자료/세종시_아파트_매매_연도별_평균거래가격.csv',encoding='utf-8', index = False)"
   ]
  },
  {
   "cell_type": "code",
   "execution_count": 244,
   "metadata": {},
   "outputs": [],
   "source": [
    "아파트_전월세_연도별_평균가 = apt_rent.groupby(['ADM_DR_NM','계약년도'])['전용면적당_가격'].agg(lambda x: x.sum()/x.count()).reset_index()\n",
    "아파트_전월세_연도별_평균가.columns = ['행정동명','연도','평균 거래 가격']\n",
    "\n",
    "Data1 = 아파트_전월세_연도별_평균가.loc[아파트_전월세_연도별_평균가['연도']=='2017']\n",
    "Data2 = 아파트_전월세_연도별_평균가.loc[아파트_전월세_연도별_평균가['연도']=='2018']\n",
    "Data3 = 아파트_전월세_연도별_평균가.loc[아파트_전월세_연도별_평균가['연도']=='2019']\n",
    "Data4 = 아파트_전월세_연도별_평균가.loc[아파트_전월세_연도별_평균가['연도']=='2020']\n",
    "\n",
    "data_set = [Data1,Data2,Data3,Data4]\n",
    "\n",
    "for i in range(len(data_set)-1) :\n",
    "    if i == 0 :\n",
    "        merged = pd.merge(data_set[i], data_set[i+1], how = 'outer', on = '행정동명')\n",
    "    else :\n",
    "        merged = pd.merge(merged, data_set[i+1], how = 'outer', on = '행정동명')\n",
    "merged = merged.drop(['연도_x','연도_y'],axis=1)\n",
    "merged.columns = ['행정동명','2017_평균거래가격','2018_평균거래가격','2019_평균거래가격','2020_평균거래가격']\n",
    "merged = merged.fillna('거래 없음')\n",
    "\n",
    "merged.to_csv('./부동산_관련_자료/세종시_아파트_전월세_연도별_평균거래가격.csv',encoding='utf-8', index = False)"
   ]
  },
  {
   "cell_type": "code",
   "execution_count": 245,
   "metadata": {},
   "outputs": [],
   "source": [
    "연립다세대_매매_연도별_평균가 = yunlip_price.groupby(['ADM_DR_NM','계약년도'])['전용면적당_가격'].agg(lambda x: x.sum()/x.count()).reset_index()\n",
    "연립다세대_매매_연도별_평균가.columns = ['행정동명','연도','평균 거래 가격']\n",
    "\n",
    "Data1 = 연립다세대_매매_연도별_평균가.loc[연립다세대_매매_연도별_평균가['연도']=='2017']\n",
    "Data2 = 연립다세대_매매_연도별_평균가.loc[연립다세대_매매_연도별_평균가['연도']=='2018']\n",
    "Data3 = 연립다세대_매매_연도별_평균가.loc[연립다세대_매매_연도별_평균가['연도']=='2019']\n",
    "Data4 = 연립다세대_매매_연도별_평균가.loc[연립다세대_매매_연도별_평균가['연도']=='2020']\n",
    "data_set = [Data1,Data2,Data3,Data4]\n",
    "\n",
    "for i in range(len(data_set)-1) :\n",
    "    if i == 0 :\n",
    "        merged = pd.merge(data_set[i], data_set[i+1], how = 'outer', on = '행정동명')\n",
    "    else :\n",
    "        merged = pd.merge(merged, data_set[i+1], how = 'outer', on = '행정동명')\n",
    "merged = merged.drop(['연도_x','연도_y'],axis=1)\n",
    "merged.columns = ['행정동명','2017_평균거래가격','2018_평균거래가격','2019_평균거래가격','2020_평균거래가격']\n",
    "merged = merged.fillna('거래 없음')\n",
    "\n",
    "merged.to_csv('./부동산_관련_자료/세종시_연립다세대_매매_연도별_평균거래가격.csv',encoding='utf-8', index = False)"
   ]
  },
  {
   "cell_type": "code",
   "execution_count": 246,
   "metadata": {},
   "outputs": [],
   "source": [
    "연립다세대_전월세_연도별_평균가 = yunlip_rent.groupby(['ADM_DR_NM','계약년도'])['전용면적당_가격'].agg(lambda x: x.sum()/x.count()).reset_index()\n",
    "연립다세대_전월세_연도별_평균가.columns = ['행정동명','연도','평균 거래 가격']\n",
    "\n",
    "Data1 = 연립다세대_전월세_연도별_평균가.loc[연립다세대_전월세_연도별_평균가['연도']=='2017']\n",
    "Data2 = 연립다세대_전월세_연도별_평균가.loc[연립다세대_전월세_연도별_평균가['연도']=='2018']\n",
    "Data3 = 연립다세대_전월세_연도별_평균가.loc[연립다세대_전월세_연도별_평균가['연도']=='2019']\n",
    "Data4 = 연립다세대_전월세_연도별_평균가.loc[연립다세대_전월세_연도별_평균가['연도']=='2020']\n",
    "\n",
    "data_set = [Data1,Data2,Data3,Data4]\n",
    "\n",
    "for i in range(len(data_set)-1) :\n",
    "    if i == 0 :\n",
    "        merged = pd.merge(data_set[i], data_set[i+1], how = 'outer', on = '행정동명')\n",
    "    else :\n",
    "        merged = pd.merge(merged, data_set[i+1], how = 'outer', on = '행정동명')\n",
    "merged = merged.drop(['연도_x','연도_y'],axis=1)\n",
    "merged.columns = ['행정동명','2017_평균거래가격','2018_평균거래가격','2019_평균거래가격','2020_평균거래가격']\n",
    "merged = merged.fillna('거래 없음')\n",
    "\n",
    "merged.to_csv('./부동산_관련_자료/세종시_연립다세대_전월세_연도별_평균거래가격.csv',encoding='utf-8', index = False)"
   ]
  },
  {
   "cell_type": "code",
   "execution_count": 247,
   "metadata": {},
   "outputs": [],
   "source": [
    "오피스텔_매매_연도별_평균가 = office_price.groupby(['ADM_DR_NM','계약년도'])['전용면적당_가격'].agg(lambda x: x.sum()/x.count()).reset_index()\n",
    "오피스텔_매매_연도별_평균가.columns = ['행정동명','연도','평균 거래 가격']\n",
    "\n",
    "Data1 = 오피스텔_매매_연도별_평균가.loc[오피스텔_매매_연도별_평균가['연도']=='2017']\n",
    "Data2 = 오피스텔_매매_연도별_평균가.loc[오피스텔_매매_연도별_평균가['연도']=='2018']\n",
    "Data3 = 오피스텔_매매_연도별_평균가.loc[오피스텔_매매_연도별_평균가['연도']=='2019']\n",
    "Data4 = 오피스텔_매매_연도별_평균가.loc[오피스텔_매매_연도별_평균가['연도']=='2020']\n",
    "\n",
    "data_set = [Data1,Data2,Data3,Data4]\n",
    "\n",
    "for i in range(len(data_set)-1) :\n",
    "    if i == 0 :\n",
    "        merged = pd.merge(data_set[i], data_set[i+1], how = 'outer', on = '행정동명')\n",
    "    else :\n",
    "        merged = pd.merge(merged, data_set[i+1], how = 'outer', on = '행정동명')\n",
    "merged = merged.drop(['연도_x','연도_y'],axis=1)\n",
    "merged.columns = ['행정동명','2017_평균거래가격','2018_평균거래가격','2019_평균거래가격','2020_평균거래가격']\n",
    "merged = merged.fillna('거래 없음')\n",
    "\n",
    "merged.to_csv('./부동산_관련_자료/세종시_오피스텔_매매_연도별_평균거래가격.csv',encoding='utf-8', index = False)"
   ]
  },
  {
   "cell_type": "code",
   "execution_count": 248,
   "metadata": {},
   "outputs": [],
   "source": [
    "오피스텔_전월세_연도별_평균가 = office_rent.groupby(['ADM_DR_NM','계약년도'])['전용면적당_가격'].agg(lambda x: x.sum()/x.count()).reset_index()\n",
    "오피스텔_전월세_연도별_평균가.columns = ['행정동명','연도','평균 거래 가격']\n",
    "\n",
    "Data1 = 오피스텔_전월세_연도별_평균가.loc[오피스텔_전월세_연도별_평균가['연도']=='2017']\n",
    "Data2 = 오피스텔_전월세_연도별_평균가.loc[오피스텔_전월세_연도별_평균가['연도']=='2018']\n",
    "Data3 = 오피스텔_전월세_연도별_평균가.loc[오피스텔_전월세_연도별_평균가['연도']=='2019']\n",
    "Data4 = 오피스텔_전월세_연도별_평균가.loc[오피스텔_전월세_연도별_평균가['연도']=='2020']\n",
    "\n",
    "data_set = [Data1,Data2,Data3,Data4]\n",
    "\n",
    "for i in range(len(data_set)-1) :\n",
    "    if i == 0 :\n",
    "        merged = pd.merge(data_set[i], data_set[i+1], how = 'outer', on = '행정동명')\n",
    "    else :\n",
    "        merged = pd.merge(merged, data_set[i+1], how = 'outer', on = '행정동명')\n",
    "merged = merged.drop(['연도_x','연도_y'],axis=1)\n",
    "merged.columns = ['행정동명','2017_평균거래가격','2018_평균거래가격','2019_평균거래가격','2020_평균거래가격']\n",
    "merged = merged.fillna('거래 없음')\n",
    "\n",
    "merged.to_csv('./부동산_관련_자료/세종시_오피스텔_전월세_연도별_평균거래가격.csv',encoding='utf-8', index = False)"
   ]
  },
  {
   "cell_type": "code",
   "execution_count": 249,
   "metadata": {},
   "outputs": [],
   "source": [
    "단독주택_매매_연도별_평균가 = dan_price.groupby(['ADM_DR_NM','계약년도'])['전용면적당_가격'].agg(lambda x: x.sum()/x.count()).reset_index()\n",
    "단독주택_매매_연도별_평균가.columns = ['행정동명','연도','평균 거래 가격']\n",
    "\n",
    "Data1 = 단독주택_매매_연도별_평균가.loc[단독주택_매매_연도별_평균가['연도']=='2017']\n",
    "Data2 = 단독주택_매매_연도별_평균가.loc[단독주택_매매_연도별_평균가['연도']=='2018']\n",
    "Data3 = 단독주택_매매_연도별_평균가.loc[단독주택_매매_연도별_평균가['연도']=='2019']\n",
    "Data4 = 단독주택_매매_연도별_평균가.loc[단독주택_매매_연도별_평균가['연도']=='2020']\n",
    "\n",
    "data_set = [Data1,Data2,Data3,Data4]\n",
    "\n",
    "for i in range(len(data_set)-1) :\n",
    "    if i == 0 :\n",
    "        merged = pd.merge(data_set[i], data_set[i+1], how = 'outer', on = '행정동명')\n",
    "    else :\n",
    "        merged = pd.merge(merged, data_set[i+1], how = 'outer', on = '행정동명')\n",
    "merged = merged.drop(['연도_x','연도_y'],axis=1)\n",
    "merged.columns = ['행정동명','2017_평균거래가격','2018_평균거래가격','2019_평균거래가격','2020_평균거래가격']\n",
    "merged = merged.fillna('거래 없음')\n",
    "\n",
    "merged.to_csv('./부동산_관련_자료/세종시_단독주택_매매_연도별_평균거래가격.csv',encoding='utf-8', index = False)"
   ]
  },
  {
   "cell_type": "code",
   "execution_count": 250,
   "metadata": {},
   "outputs": [],
   "source": [
    "단독주택_전월세_연도별_평균가 = dan_rent.groupby(['ADM_DR_NM','계약년도'])['전용면적당_가격'].agg(lambda x: x.sum()/x.count()).reset_index()\n",
    "단독주택_전월세_연도별_평균가.columns = ['행정동명','연도','평균 거래 가격']\n",
    "\n",
    "Data1 = 단독주택_전월세_연도별_평균가.loc[단독주택_전월세_연도별_평균가['연도']=='2017']\n",
    "Data2 = 단독주택_전월세_연도별_평균가.loc[단독주택_전월세_연도별_평균가['연도']=='2018']\n",
    "Data3 = 단독주택_전월세_연도별_평균가.loc[단독주택_전월세_연도별_평균가['연도']=='2019']\n",
    "Data4 = 단독주택_전월세_연도별_평균가.loc[단독주택_전월세_연도별_평균가['연도']=='2020']\n",
    "\n",
    "data_set = [Data1,Data2,Data3,Data4]\n",
    "\n",
    "for i in range(len(data_set)-1) :\n",
    "    if i == 0 :\n",
    "        merged = pd.merge(data_set[i], data_set[i+1], how = 'outer', on = '행정동명')\n",
    "    else :\n",
    "        merged = pd.merge(merged, data_set[i+1], how = 'outer', on = '행정동명')\n",
    "merged = merged.drop(['연도_x','연도_y'],axis=1)\n",
    "merged.columns = ['행정동명','2017_평균거래가격','2018_평균거래가격','2019_평균거래가격','2020_평균거래가격']\n",
    "merged = merged.fillna('거래 없음')\n",
    "\n",
    "merged.to_csv('./부동산_관련_자료/세종시_단독주택_전월세_연도별_평균거래가격.csv',encoding='utf-8', index = False)"
   ]
  },
  {
   "cell_type": "code",
   "execution_count": 251,
   "metadata": {
    "scrolled": true
   },
   "outputs": [],
   "source": [
    "아파트_분양권_연도별_평균가 = apt_lot.groupby(['ADM_DR_NM','계약년도'])['전용면적당_가격'].agg(lambda x: x.sum()/x.count()).reset_index()\n",
    "아파트_분양권_연도별_평균가.columns = ['행정동명','연도','평균 거래 가격']\n",
    "\n",
    "Data1 = 아파트_분양권_연도별_평균가.loc[아파트_분양권_연도별_평균가['연도']=='2017']\n",
    "Data2 = 아파트_분양권_연도별_평균가.loc[아파트_분양권_연도별_평균가['연도']=='2018']\n",
    "Data3 = 아파트_분양권_연도별_평균가.loc[아파트_분양권_연도별_평균가['연도']=='2019']\n",
    "Data4 = 아파트_분양권_연도별_평균가.loc[아파트_분양권_연도별_평균가['연도']=='2020']\n",
    "\n",
    "data_set = [Data1,Data2,Data3,Data4]\n",
    "\n",
    "for i in range(len(data_set)-1) :\n",
    "    if i == 0 :\n",
    "        merged = pd.merge(data_set[i], data_set[i+1], how = 'outer', on = '행정동명')\n",
    "    else :\n",
    "        merged = pd.merge(merged, data_set[i+1], how = 'outer', on = '행정동명')\n",
    "merged = merged.drop(['연도_x','연도_y'],axis=1)\n",
    "merged.columns = ['행정동명','2017_평균거래가격','2018_평균거래가격','2019_평균거래가격','2020_평균거래가격']\n",
    "merged = merged.fillna('거래 없음')\n",
    "\n",
    "merged.to_csv('./부동산_관련_자료/세종시_아파트_분양권_연도별_평균거래가격.csv',encoding='utf-8', index = False)"
   ]
  },
  {
   "cell_type": "markdown",
   "metadata": {},
   "source": [
    "## 거주인구 수"
   ]
  },
  {
   "cell_type": "code",
   "execution_count": 252,
   "metadata": {},
   "outputs": [],
   "source": [
    "세종시_연령별_인구현황.loc[12] = 세종시_연령별_인구현황.loc[12] + 세종시_연령별_인구현황.loc[20]\n",
    "세종시_연령별_인구현황 = 세종시_연령별_인구현황.drop([20])\n",
    "세종시_연령별_인구현황.loc[12,'읍면동'] = '새롬동'\n",
    "\n",
    "세종시_연령별_인구현황 = 세종시_연령별_인구현황.set_index('읍면동').iloc[:,1222:]\n",
    "세종시_연령별_인구현황 =  세종시_연령별_인구현황.reset_index()\n",
    "세종시_연령별_인구현황 = 세종시_연령별_인구현황.drop(['202012_남자(연령구간인구수)','202012_여자(연령구간인구수)'],axis=1)\n",
    "세종시_연령별_인구현황.columns = ['행정동명','남자_총거주자수','남자인구(0~9세)','남자인구(10~19세)','남자인구(20~29세)','남자인구(30~39세)','남자인구(40~49세)','남자인구(50~59세)','남자인구(60~69세)','남자인구(70~79세)','남자인구(80~89세)','남자인구(90~99세)','남자인구(100세_이상)','여자_총거주자수','여자인구(0~9세)','여자인구(10~19세)','여자인구(20~29세)','여자인구(30~39세)','여자인구(40~49세)','여자인구(50~59세)','여자인구(60~69세)','여자인구(70~79세)','여자인구(80~89세)','여자인구(90~99세)','여자인구(100세_이상)']\n",
    "세종시_연령별_인구현황 = 세종시_연령별_인구현황.drop(0, axis=0)"
   ]
  },
  {
   "cell_type": "code",
   "execution_count": 253,
   "metadata": {},
   "outputs": [],
   "source": [
    "세종시_연령별_인구현황_남녀합본 = 세종시_연령별_인구현황"
   ]
  },
  {
   "cell_type": "code",
   "execution_count": 254,
   "metadata": {},
   "outputs": [],
   "source": [
    "세종시_연령별_인구현황 = 세종시_연령별_인구현황.drop(['남자_총거주자수','여자_총거주자수'], axis=1)\n",
    "\n",
    "세종시_연령별_인구현황.to_csv('./부동산_관련_자료/세종시_읍면동_인구현황.csv', encoding='utf-8', index = False)"
   ]
  },
  {
   "cell_type": "code",
   "execution_count": 255,
   "metadata": {},
   "outputs": [],
   "source": [
    "세종시_연령별_인구현황_남녀합본['202012_남자_총_거주자_수'] = 세종시_연령별_인구현황_남녀합본['남자_총거주자수'] +  세종시_연령별_인구현황_남녀합본['여자_총거주자수']\n",
    "세종시_연령별_인구현황_남녀합본['202012_남자(0~9세)'] = 세종시_연령별_인구현황_남녀합본['남자인구(0~9세)'] +  세종시_연령별_인구현황_남녀합본['여자인구(0~9세)']\n",
    "세종시_연령별_인구현황_남녀합본['202012_남자(10~19세)'] = 세종시_연령별_인구현황_남녀합본['남자인구(10~19세)'] +  세종시_연령별_인구현황_남녀합본['여자인구(10~19세)']\n",
    "세종시_연령별_인구현황_남녀합본['202012_남자(20~29세)'] = 세종시_연령별_인구현황_남녀합본['남자인구(20~29세)'] +  세종시_연령별_인구현황_남녀합본['여자인구(20~29세)']\n",
    "세종시_연령별_인구현황_남녀합본['202012_남자(30~39세)'] = 세종시_연령별_인구현황_남녀합본['남자인구(30~39세)'] +  세종시_연령별_인구현황_남녀합본['여자인구(30~39세)']\n",
    "세종시_연령별_인구현황_남녀합본['202012_남자(40~49세)'] = 세종시_연령별_인구현황_남녀합본['남자인구(40~49세)'] +  세종시_연령별_인구현황_남녀합본['여자인구(40~49세)']\n",
    "세종시_연령별_인구현황_남녀합본['202012_남자(50~59세)'] = 세종시_연령별_인구현황_남녀합본['남자인구(50~59세)'] +  세종시_연령별_인구현황_남녀합본['여자인구(50~59세)']\n",
    "세종시_연령별_인구현황_남녀합본['202012_남자(60~69세)'] = 세종시_연령별_인구현황_남녀합본['남자인구(60~69세)'] +  세종시_연령별_인구현황_남녀합본['여자인구(60~69세)']\n",
    "세종시_연령별_인구현황_남녀합본['202012_남자(70~79세)'] = 세종시_연령별_인구현황_남녀합본['남자인구(70~79세)'] +  세종시_연령별_인구현황_남녀합본['여자인구(70~79세)']\n",
    "세종시_연령별_인구현황_남녀합본['202012_남자(80~89세)'] = 세종시_연령별_인구현황_남녀합본['남자인구(80~89세)'] +  세종시_연령별_인구현황_남녀합본['여자인구(80~89세)']\n",
    "세종시_연령별_인구현황_남녀합본['202012_남자(90~99세)'] = 세종시_연령별_인구현황_남녀합본['남자인구(90~99세)'] +  세종시_연령별_인구현황_남녀합본['여자인구(90~99세)']\n",
    "세종시_연령별_인구현황_남녀합본['202012_남자(100세_이상)'] = 세종시_연령별_인구현황_남녀합본['남자인구(100세_이상)'] +  세종시_연령별_인구현황_남녀합본['여자인구(100세_이상)']"
   ]
  },
  {
   "cell_type": "code",
   "execution_count": 256,
   "metadata": {},
   "outputs": [],
   "source": [
    "drop_list=['여자_총거주자수','여자인구(0~9세)','여자인구(10~19세)','여자인구(20~29세)','여자인구(30~39세)','여자인구(40~49세)','여자인구(50~59세)','여자인구(60~69세)','여자인구(70~79세)','여자인구(80~89세)','여자인구(90~99세)','여자인구(100세_이상)']\n",
    "세종시_연령별_인구현황_남녀합본 = 세종시_연령별_인구현황_남녀합본.drop(drop_list,axis=1)\n",
    "\n",
    "세종시_연령별_인구현황_남녀합본 = pd.concat([세종시_연령별_인구현황_남녀합본['행정동명'],세종시_연령별_인구현황_남녀합본.iloc[:,13:]], axis = 1)\n",
    "\n",
    "세종시_연령별_인구현황_남녀합본.columns = ['행정동명','인구_총_거주자_수','0~9세','10~19세','20~29세','30~39세','40~49세','50~59세','60~69세','70~79세','80~89세','90~99세','100세_이상']\n",
    "세종시_연령별_인구현황_남녀합본 = 세종시_연령별_인구현황_남녀합본.drop(['인구_총_거주자_수'], axis=1)\n",
    "\n",
    "세종시_연령별_인구현황_남녀합본.to_csv('./부동산_관련_자료/세종시_읍면동_연령별_남녀인구현황.csv', encoding='utf-8', index = False)"
   ]
  },
  {
   "cell_type": "code",
   "execution_count": null,
   "metadata": {},
   "outputs": [],
   "source": []
  }
 ],
 "metadata": {
  "kernelspec": {
   "display_name": "Python 3",
   "language": "python",
   "name": "python3"
  },
  "language_info": {
   "codemirror_mode": {
    "name": "ipython",
    "version": 3
   },
   "file_extension": ".py",
   "mimetype": "text/x-python",
   "name": "python",
   "nbconvert_exporter": "python",
   "pygments_lexer": "ipython3",
   "version": "3.8.3"
  }
 },
 "nbformat": 4,
 "nbformat_minor": 4
}
