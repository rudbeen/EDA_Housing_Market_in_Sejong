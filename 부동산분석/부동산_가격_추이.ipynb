{
 "cells": [
  {
   "cell_type": "code",
   "execution_count": 54,
   "metadata": {},
   "outputs": [],
   "source": [
    "import pandas as pd\n",
    "import seaborn as sns\n",
    "import matplotlib.pylab as plt\n",
    "plt.rcParams['font.family'] = 'Malgun Gothic'"
   ]
  },
  {
   "cell_type": "code",
   "execution_count": 55,
   "metadata": {},
   "outputs": [],
   "source": [
    "apt_price = pd.read_csv('../geocording_input/아파트_매매_실거래가_지오코딩_joined.csv')\n",
    "apt_rent = pd.read_csv('../geocording_input/아파트_전월세_실거래가_지오코딩_joined.csv')\n",
    "yunlip_price = pd.read_csv('../geocording_input/연립다세대_매매_실거래가_지오코딩_joined.csv')\n",
    "yunlip_rent = pd.read_csv('../geocording_input/연립다세대_전월세_실거래가_지오코딩_joined.csv')\n",
    "office_price = pd.read_csv('../geocording_input/오피스텔_매매_실거래가_지오코딩_joined.csv')\n",
    "office_rent = pd.read_csv('../geocording_input/오피스텔_전월세_실거래가_지오코딩_joined.csv')\n",
    "dan_price = pd.read_csv('../geocording_input/단독다가구_매매_실거래가_지오코딩_joined.csv')\n",
    "dan_rent = pd.read_csv('../geocording_input/단독다가구_전월세_실거래가_지오코딩_joined.csv')\n",
    "apt_lot = pd.read_csv('../geocording_input/분양권_실거래가_지오코딩_joined.csv')"
   ]
  },
  {
   "cell_type": "markdown",
   "metadata": {},
   "source": [
    "# 아파트 매매 실거래가 분석"
   ]
  },
  {
   "cell_type": "markdown",
   "metadata": {},
   "source": [
    "## 아파트의 매매 가격의 측정 기준으로 단지명과 층을 설정함"
   ]
  },
  {
   "cell_type": "code",
   "execution_count": 56,
   "metadata": {},
   "outputs": [],
   "source": [
    "apt_price['층'] = apt_price['층'].astype('str')\n",
    "apt_price['단지명_층'] = apt_price['단지명'] + ' ' + apt_price['층'] +'층'"
   ]
  },
  {
   "cell_type": "markdown",
   "metadata": {},
   "source": [
    "## 아파트의 가격 추이를 보기 위해서 평당 가격을 측정한다"
   ]
  },
  {
   "cell_type": "code",
   "execution_count": 57,
   "metadata": {},
   "outputs": [],
   "source": [
    "apt_price_price = []\n",
    "for i in apt_price['거래금액(만원)'] :\n",
    "    apt_price_price.append(i.replace(',',''))\n",
    "apt_price['거래금액(만원)'] = apt_price_price\n",
    "apt_price['거래금액(만원)'] = apt_price['거래금액(만원)'].astype('float')"
   ]
  },
  {
   "cell_type": "markdown",
   "metadata": {},
   "source": [
    "- 전용 면적당 가격에 3.3 을 곱하여 평당 가격을 만들어 줍니다"
   ]
  },
  {
   "cell_type": "code",
   "execution_count": 58,
   "metadata": {},
   "outputs": [],
   "source": [
    "apt_price['전용면적당_가격'] = apt_price['거래금액(만원)'] * 10000 / apt_price['전용면적(㎡)'] * 3.3\n",
    "\n",
    "apt_price_diff = apt_price.groupby('단지명_층')[['전용면적당_가격','ADM_DR_NM']].agg(['first','last']).stack().reset_index()\n",
    "apt_price_diff.columns = ['단지명_층','firt_last','금액','해당_동']\n",
    "\n",
    "aa = apt_price.groupby('단지명_층')[['전용면적당_가격','ADM_DR_NM']].agg(['first']).stack().reset_index()"
   ]
  },
  {
   "cell_type": "code",
   "execution_count": 59,
   "metadata": {},
   "outputs": [],
   "source": [
    "name = []\n",
    "price_diff = []\n",
    "location = []\n",
    "per = []\n",
    "for i in range(apt_price_diff.shape[0]-1) :\n",
    "    if apt_price_diff['단지명_층'][i] == apt_price_diff['단지명_층'][i+1] :\n",
    "        name.append(apt_price_diff['단지명_층'][i])\n",
    "        price_diff.append(apt_price_diff['금액'][i+1] - apt_price_diff['금액'][i])\n",
    "        location.append(apt_price_diff['해당_동'][i])\n",
    "        per.append(100 * (apt_price_diff['금액'][i+1] - apt_price_diff['금액'][i])/apt_price_diff['금액'][i])\n",
    "        \n",
    "apt_price_final = pd.DataFrame({'단지명_층' : name,\n",
    "              '해당_동' : location,\n",
    "            '금액차이' : price_diff,\n",
    "            '금액차이비율' : per})"
   ]
  },
  {
   "cell_type": "code",
   "execution_count": 60,
   "metadata": {},
   "outputs": [],
   "source": [
    "apt_price_final_loc = apt_price_final.groupby('해당_동')[['금액차이']].mean().reset_index()\n",
    "\n",
    "minimum = apt_price['ADM_DR_NM'].value_counts().reset_index()\n",
    "zero_value = []\n",
    "\n",
    "for i in range(len(minimum)) :\n",
    "    if minimum['ADM_DR_NM'][i] <= 1:\n",
    "        zero_value.append(minimum['index'][i])\n",
    "        \n",
    "if len(zero_value) > 0 :\n",
    "    zero_value = pd.DataFrame({'해당_동' : zero_value,\n",
    "                 '금액차이' : 0})\n",
    "    apt_price_final_loc = apt_price_final_loc.append(zero_value)\n",
    "else :\n",
    "    pass"
   ]
  },
  {
   "cell_type": "code",
   "execution_count": 61,
   "metadata": {},
   "outputs": [
    {
     "data": {
      "text/plain": [
       "(array([ 0,  1,  2,  3,  4,  5,  6,  7,  8,  9, 10, 11, 12, 13, 14, 15, 16,\n",
       "        17, 18]), <a list of 19 Text xticklabel objects>)"
      ]
     },
     "execution_count": 61,
     "metadata": {},
     "output_type": "execute_result"
    },
    {
     "data": {
      "image/png": "[encoded data removed]",
      "text/plain": [
       "<Figure size 432x288 with 1 Axes>"
      ]
     },
     "metadata": {
      "needs_background": "light"
     },
     "output_type": "display_data"
    }
   ],
   "source": [
    "sns.barplot(apt_price_final_loc['해당_동'], apt_price_final_loc['금액차이'])\n",
    "plt.xticks(rotation = 50)"
   ]
  },
  {
   "cell_type": "markdown",
   "metadata": {},
   "source": [
    "## 비율차이"
   ]
  },
  {
   "cell_type": "code",
   "execution_count": 62,
   "metadata": {},
   "outputs": [],
   "source": [
    "apt_price_final_loc = apt_price_final.groupby('해당_동')['금액차이비율'].mean().reset_index()\n",
    "\n",
    "minimum = apt_price['ADM_DR_NM'].value_counts().reset_index()\n",
    "zero_value = []\n",
    "\n",
    "for i in range(len(minimum)) :\n",
    "    if minimum['ADM_DR_NM'][i] <= 1:\n",
    "        zero_value.append(minimum['index'][i])\n",
    "        \n",
    "if len(zero_value) > 0 :\n",
    "    zero_value = pd.DataFrame({'해당_동' : zero_value,\n",
    "                 '금액차이비율' : 0})\n",
    "    apt_price_final_loc = apt_price_final_loc.append(zero_value)\n",
    "else :\n",
    "    pass"
   ]
  },
  {
   "cell_type": "code",
   "execution_count": 63,
   "metadata": {},
   "outputs": [
    {
     "data": {
      "text/plain": [
       "(array([ 0,  1,  2,  3,  4,  5,  6,  7,  8,  9, 10, 11, 12, 13, 14, 15, 16,\n",
       "        17, 18]), <a list of 19 Text xticklabel objects>)"
      ]
     },
     "execution_count": 63,
     "metadata": {},
     "output_type": "execute_result"
    },
    {
     "data": {
      "image/png": "[encoded data removed]",
      "text/plain": [
       "<Figure size 432x288 with 1 Axes>"
      ]
     },
     "metadata": {
      "needs_background": "light"
     },
     "output_type": "display_data"
    }
   ],
   "source": [
    "sns.barplot(apt_price_final_loc['해당_동'], apt_price_final_loc['금액차이비율'])\n",
    "plt.xticks(rotation = 50)"
   ]
  },
  {
   "cell_type": "markdown",
   "metadata": {},
   "source": [
    "# 아파트 전월세 실거래가 분석"
   ]
  },
  {
   "cell_type": "markdown",
   "metadata": {},
   "source": [
    "## 법정 전월세 전환율을 사용하여 전세가격 추이 확인\n",
    "#### 법정 전월세 전환율이 2020년9월을 기준으로 4%에서 2.5%로\n",
    "#### 하락하였다 이에 따라 2020년9월 이전에 데이터 들은 4%로 계산\n",
    "#### 이후의 데이터는 2.5%로 계산 하였다"
   ]
  },
  {
   "cell_type": "code",
   "execution_count": 64,
   "metadata": {},
   "outputs": [],
   "source": [
    "apt_rent = apt_rent.reset_index(drop = True)"
   ]
  },
  {
   "cell_type": "code",
   "execution_count": 65,
   "metadata": {},
   "outputs": [],
   "source": [
    "apt_rent_dep = []\n",
    "for i in apt_rent['보증금(만원)'] :\n",
    "    apt_rent_dep.append(i.replace(',','',))\n",
    "apt_rent['보증금(만원)'] = apt_rent_dep\n",
    "apt_rent['보증금(만원)'] = apt_rent['보증금(만원)'].astype('int')"
   ]
  },
  {
   "cell_type": "code",
   "execution_count": 66,
   "metadata": {},
   "outputs": [],
   "source": [
    "rent_price = []\n",
    "for i in range(apt_rent.shape[0]) :\n",
    "    if apt_rent['계약년월'][i] <= 202009 :\n",
    "        if apt_rent['전월세구분'][i] == '월세' :\n",
    "            rent_price.append(apt_rent['월세(만원)'][i]*12*25 + apt_rent['보증금(만원)'][i])\n",
    "        else :\n",
    "            rent_price.append(apt_rent['보증금(만원)'][i])\n",
    "    else :\n",
    "        if apt_rent['전월세구분'][i] == '월세' :\n",
    "            rent_price.append(apt_rent['월세(만원)'][i]*12*40 + apt_rent['보증금(만원)'][i])\n",
    "        else :\n",
    "            rent_price.append(apt_rent['보증금(만원)'][i])\n",
    "apt_rent['책정금액'] = rent_price"
   ]
  },
  {
   "cell_type": "markdown",
   "metadata": {},
   "source": [
    "## 금액 변동 확인"
   ]
  },
  {
   "cell_type": "markdown",
   "metadata": {},
   "source": [
    "### 가격 책정을 위해 단지명과 층으로 나눈다"
   ]
  },
  {
   "cell_type": "code",
   "execution_count": 67,
   "metadata": {},
   "outputs": [],
   "source": [
    "apt_rent['층'] = apt_rent['층'].astype('str')\n",
    "apt_rent['단지명_층'] = apt_rent['단지명'] + ' ' + apt_rent['층'] +'층'\n"
   ]
  },
  {
   "cell_type": "code",
   "execution_count": 68,
   "metadata": {},
   "outputs": [],
   "source": [
    "apt_rent['전용면적당_가격'] = apt_rent['책정금액'] * 10000 / apt_rent['전용면적(㎡)'] *3.3\n",
    "apt_rent_diff = apt_rent.groupby('단지명_층')[['전용면적당_가격','ADM_DR_NM']].agg(['first','last']).stack().reset_index()\n",
    "apt_rent_diff.columns = ['단지명_층','firt_last','금액','해당_동']"
   ]
  },
  {
   "cell_type": "code",
   "execution_count": 69,
   "metadata": {},
   "outputs": [],
   "source": [
    "name = []\n",
    "price_diff = []\n",
    "location = []\n",
    "per = []\n",
    "for i in range(apt_rent_diff.shape[0]-1) :\n",
    "    if apt_rent_diff['단지명_층'][i] == apt_rent_diff['단지명_층'][i+1] :\n",
    "        name.append(apt_rent_diff['단지명_층'][i])\n",
    "        price_diff.append(apt_rent_diff['금액'][i+1] - apt_rent_diff['금액'][i])\n",
    "        location.append(apt_rent_diff['해당_동'][i])\n",
    "        per.append(100 * (apt_rent_diff['금액'][i+1] - apt_rent_diff['금액'][i])/apt_rent_diff['금액'][i])\n",
    "        \n",
    "apt_rent_final = pd.DataFrame({'단지명_층' : name,\n",
    "              '해당_동' : location,\n",
    "            '금액차이' : price_diff,\n",
    "            '금액차이비율' : per})\n",
    "        \n"
   ]
  },
  {
   "cell_type": "code",
   "execution_count": 70,
   "metadata": {},
   "outputs": [
    {
     "data": {
      "text/plain": [
       "(array([ 0,  1,  2,  3,  4,  5,  6,  7,  8,  9, 10, 11, 12, 13, 14, 15, 16,\n",
       "        17, 18]), <a list of 19 Text xticklabel objects>)"
      ]
     },
     "execution_count": 70,
     "metadata": {},
     "output_type": "execute_result"
    },
    {
     "data": {
      "image/png": "[encoded data removed]",
      "text/plain": [
       "<Figure size 432x288 with 1 Axes>"
      ]
     },
     "metadata": {
      "needs_background": "light"
     },
     "output_type": "display_data"
    }
   ],
   "source": [
    "apt_rent_final_loc = apt_rent_final.groupby('해당_동')['금액차이'].mean().reset_index()\n",
    "sns.barplot(apt_rent_final_loc['해당_동'], apt_rent_final_loc['금액차이'])\n",
    "plt.xticks(rotation = 50)"
   ]
  },
  {
   "cell_type": "code",
   "execution_count": 71,
   "metadata": {},
   "outputs": [
    {
     "data": {
      "text/plain": [
       "(array([ 0,  1,  2,  3,  4,  5,  6,  7,  8,  9, 10, 11, 12, 13, 14, 15, 16,\n",
       "        17, 18]), <a list of 19 Text xticklabel objects>)"
      ]
     },
     "execution_count": 71,
     "metadata": {},
     "output_type": "execute_result"
    },
    {
     "data": {
      "image/png": "[encoded data removed]",
      "text/plain": [
       "<Figure size 432x288 with 1 Axes>"
      ]
     },
     "metadata": {
      "needs_background": "light"
     },
     "output_type": "display_data"
    }
   ],
   "source": [
    "apt_rent_final_loc = apt_rent_final.groupby('해당_동')['금액차이비율'].mean().reset_index()\n",
    "sns.barplot(apt_rent_final_loc['해당_동'], apt_rent_final_loc['금액차이비율'])\n",
    "plt.xticks(rotation = 50)"
   ]
  },
  {
   "cell_type": "markdown",
   "metadata": {},
   "source": [
    "# 연립다세대_가격 변동 추이"
   ]
  },
  {
   "cell_type": "code",
   "execution_count": 72,
   "metadata": {},
   "outputs": [],
   "source": [
    "price = []\n",
    "for i in yunlip_price['거래금액(만원)'] :\n",
    "    price.append(i.replace(',',''))\n",
    "yunlip_price['거래금액(만원)'] = price\n",
    "yunlip_price['거래금액(만원)'] = yunlip_price['거래금액(만원)'].astype('int')"
   ]
  },
  {
   "cell_type": "code",
   "execution_count": 73,
   "metadata": {
    "scrolled": true
   },
   "outputs": [
    {
     "data": {
      "text/plain": [
       "(array([ 0,  1,  2,  3,  4,  5,  6,  7,  8,  9, 10, 11]),\n",
       " <a list of 12 Text xticklabel objects>)"
      ]
     },
     "execution_count": 73,
     "metadata": {},
     "output_type": "execute_result"
    },
    {
     "data": {
      "image/png": "[encoded data removed]",
      "text/plain": [
       "<Figure size 432x288 with 1 Axes>"
      ]
     },
     "metadata": {
      "needs_background": "light"
     },
     "output_type": "display_data"
    }
   ],
   "source": [
    "yunlip_price['층'] = yunlip_price['층'].astype('str')\n",
    "yunlip_price['건물명_층'] = yunlip_price['건물명'] + ' ' + yunlip_price['층'] +'층'\n",
    "yunlip_price['전용면적당_가격'] = yunlip_price['거래금액(만원)'] * 10000 / yunlip_price['전용면적(㎡)'] * 3.3\n",
    "yunlip_price_diff = yunlip_price.groupby('건물명_층')[['전용면적당_가격','ADM_DR_NM']].agg(['first','last']).stack().reset_index()\n",
    "yunlip_price_diff.columns = ['건물명_층','firt_last','금액','해당_동']\n",
    "name = []\n",
    "price_diff = []\n",
    "location = []\n",
    "per = []\n",
    "for i in range(yunlip_price_diff.shape[0]-1) :\n",
    "    if yunlip_price_diff['건물명_층'][i] == yunlip_price_diff['건물명_층'][i+1] :\n",
    "        name.append(yunlip_price_diff['건물명_층'][i])\n",
    "        price_diff.append(yunlip_price_diff['금액'][i+1] - yunlip_price_diff['금액'][i])\n",
    "        location.append(yunlip_price_diff['해당_동'][i])\n",
    "        per.append(100 * (yunlip_price_diff['금액'][i+1] - yunlip_price_diff['금액'][i])/yunlip_price_diff['금액'][i])\n",
    "        \n",
    "yunlip_price_final = pd.DataFrame({'단지명_층' : name,\n",
    "              '해당_동' : location,\n",
    "            '금액차이' : price_diff,\n",
    "            '금액차이비율' : per})\n",
    "        \n",
    "yunlip_price_final_loc = yunlip_price_final.groupby('해당_동')['금액차이'].mean().reset_index()\n",
    "sns.barplot(yunlip_price_final_loc['해당_동'], yunlip_price_final_loc['금액차이'])\n",
    "plt.xticks(rotation = 50)"
   ]
  },
  {
   "cell_type": "code",
   "execution_count": 74,
   "metadata": {},
   "outputs": [
    {
     "data": {
      "text/plain": [
       "(array([ 0,  1,  2,  3,  4,  5,  6,  7,  8,  9, 10, 11]),\n",
       " <a list of 12 Text xticklabel objects>)"
      ]
     },
     "execution_count": 74,
     "metadata": {},
     "output_type": "execute_result"
    },
    {
     "data": {
      "image/png": "[encoded data removed]",
      "text/plain": [
       "<Figure size 432x288 with 1 Axes>"
      ]
     },
     "metadata": {
      "needs_background": "light"
     },
     "output_type": "display_data"
    }
   ],
   "source": [
    "yunlip_price_final_loc = yunlip_price_final.groupby('해당_동')['금액차이비율'].mean().reset_index()\n",
    "sns.barplot(yunlip_price_final_loc['해당_동'], yunlip_price_final_loc['금액차이비율'])\n",
    "plt.xticks(rotation = 50)"
   ]
  },
  {
   "cell_type": "markdown",
   "metadata": {},
   "source": [
    "## 연립다세대 전월세"
   ]
  },
  {
   "cell_type": "code",
   "execution_count": 75,
   "metadata": {},
   "outputs": [],
   "source": [
    "yunlip_rent_dep = []\n",
    "for i in yunlip_rent['보증금(만원)'] :\n",
    "    yunlip_rent_dep.append(i.replace(',',''))\n",
    "yunlip_rent['보증금(만원)'] = yunlip_rent_dep\n",
    "yunlip_rent['보증금(만원)'] = yunlip_rent['보증금(만원)'].astype('int')"
   ]
  },
  {
   "cell_type": "code",
   "execution_count": 76,
   "metadata": {},
   "outputs": [
    {
     "data": {
      "text/plain": [
       "(array([0, 1, 2, 3, 4, 5, 6, 7, 8, 9]), <a list of 10 Text xticklabel objects>)"
      ]
     },
     "execution_count": 76,
     "metadata": {},
     "output_type": "execute_result"
    },
    {
     "data": {
      "image/png": "[encoded data removed]",
      "text/plain": [
       "<Figure size 432x288 with 1 Axes>"
      ]
     },
     "metadata": {
      "needs_background": "light"
     },
     "output_type": "display_data"
    }
   ],
   "source": [
    "rent_price = []\n",
    "for i in range(yunlip_rent.shape[0]) :\n",
    "    if yunlip_rent['계약년월'][i] <= 202009 :\n",
    "        if yunlip_rent['전월세구분'][i] == '월세' :\n",
    "            rent_price.append(yunlip_rent['월세(만원)'][i]*12*25 + yunlip_rent['보증금(만원)'][i])\n",
    "        else :\n",
    "            rent_price.append(yunlip_rent['보증금(만원)'][i])\n",
    "    else :\n",
    "        if yunlip_rent['전월세구분'][i] == '월세' :\n",
    "            rent_price.append(yunlip_rent['월세(만원)'][i]*12*40 + yunlip_rent['보증금(만원)'][i])\n",
    "        else :\n",
    "            rent_price.append(yunlip_rent['보증금(만원)'][i])\n",
    "yunlip_rent['책정금액'] = rent_price\n",
    "yunlip_rent['층'] = yunlip_rent['층'].astype('str')\n",
    "yunlip_rent['건물명_층'] = yunlip_rent['건물명'] + ' ' + yunlip_rent['층'] +'층'\n",
    "yunlip_rent['전용면적당_가격'] = yunlip_rent['책정금액'] * 10000 / yunlip_rent['전용면적(㎡)'] * 3.3\n",
    "yunlip_rent_diff = yunlip_rent.groupby('건물명_층')[['전용면적당_가격','ADM_DR_NM']].agg(['first','last']).stack().reset_index()\n",
    "yunlip_rent_diff.columns = ['건물명_층','firt_last','금액','해당_동']\n",
    "name = []\n",
    "price_diff = []\n",
    "location = []\n",
    "per = []\n",
    "for i in range(yunlip_rent_diff.shape[0]-1) :\n",
    "    if yunlip_rent_diff['건물명_층'][i] == yunlip_rent_diff['건물명_층'][i+1] :\n",
    "        name.append(yunlip_rent_diff['건물명_층'][i])\n",
    "        price_diff.append(yunlip_rent_diff['금액'][i+1] - yunlip_rent_diff['금액'][i])\n",
    "        location.append(yunlip_rent_diff['해당_동'][i])\n",
    "        per.append(100 * (yunlip_rent_diff['금액'][i+1] - yunlip_rent_diff['금액'][i])/yunlip_rent_diff['금액'][i])\n",
    "        \n",
    "yunlip_rent_final = pd.DataFrame({'단지명_층' : name,\n",
    "              '해당_동' : location,\n",
    "            '금액차이' : price_diff,\n",
    "            '금액차이비율' : per})\n",
    "        \n",
    "yunlip_rent_final_loc = yunlip_rent_final.groupby('해당_동')['금액차이'].mean().reset_index()\n",
    "sns.barplot(yunlip_rent_final_loc['해당_동'], yunlip_rent_final_loc['금액차이'])\n",
    "plt.xticks(rotation = 50)"
   ]
  },
  {
   "cell_type": "code",
   "execution_count": 77,
   "metadata": {},
   "outputs": [
    {
     "data": {
      "text/plain": [
       "(array([0, 1, 2, 3, 4, 5, 6, 7, 8, 9]), <a list of 10 Text xticklabel objects>)"
      ]
     },
     "execution_count": 77,
     "metadata": {},
     "output_type": "execute_result"
    },
    {
     "data": {
      "image/png": "[encoded data removed]",
      "text/plain": [
       "<Figure size 432x288 with 1 Axes>"
      ]
     },
     "metadata": {
      "needs_background": "light"
     },
     "output_type": "display_data"
    }
   ],
   "source": [
    "yunlip_rent_final_loc = yunlip_rent_final.groupby('해당_동')['금액차이비율'].mean().reset_index()\n",
    "sns.barplot(yunlip_rent_final_loc['해당_동'], yunlip_rent_final_loc['금액차이비율'])\n",
    "plt.xticks(rotation = 50)"
   ]
  },
  {
   "cell_type": "markdown",
   "metadata": {},
   "source": [
    "# 오피스텔 매매 실거래가"
   ]
  },
  {
   "cell_type": "code",
   "execution_count": 78,
   "metadata": {},
   "outputs": [
    {
     "data": {
      "text/plain": [
       "Index(['X', 'Y', '계약년월', '계약일', '시군구', '본번', '부번', '단지명', '전용면적(㎡)',\n",
       "       '거래금액(만원)', '층', '건축년도', '해제사유발생일', '주소', '입력주소', 'X.1', 'Y.1', 'CLSS',\n",
       "       'PNU', '주소구분', '표준신주소', '표준구주소', '우편번호', 'ADM_DR_CD', 'ADM_DR_NM',\n",
       "       '군집'],\n",
       "      dtype='object')"
      ]
     },
     "execution_count": 78,
     "metadata": {},
     "output_type": "execute_result"
    }
   ],
   "source": [
    "office_price.columns"
   ]
  },
  {
   "cell_type": "code",
   "execution_count": 79,
   "metadata": {},
   "outputs": [],
   "source": [
    "office_price_price = []\n",
    "for i in office_price['거래금액(만원)'] :\n",
    "    office_price_price.append(i.replace(',',''))\n",
    "office_price['거래금액(만원)'] = office_price_price\n",
    "office_price['거래금액(만원)'] = office_price['거래금액(만원)'].astype('int')"
   ]
  },
  {
   "cell_type": "code",
   "execution_count": 80,
   "metadata": {},
   "outputs": [
    {
     "data": {
      "text/plain": [
       "(array([0, 1, 2, 3]), <a list of 4 Text xticklabel objects>)"
      ]
     },
     "execution_count": 80,
     "metadata": {},
     "output_type": "execute_result"
    },
    {
     "data": {
      "image/png": "[encoded data removed]",
      "text/plain": [
       "<Figure size 432x288 with 1 Axes>"
      ]
     },
     "metadata": {
      "needs_background": "light"
     },
     "output_type": "display_data"
    }
   ],
   "source": [
    "office_price['층'] = office_price['층'].astype('str')\n",
    "office_price['단지명_층'] = office_price['단지명'] + ' ' + office_price['층'] +'층'\n",
    "office_price['전용면적당_가격'] = office_price['거래금액(만원)'] * 10000 / office_price['전용면적(㎡)'] * 3.3\n",
    "office_price_diff = office_price.groupby('단지명_층')[['전용면적당_가격','ADM_DR_NM']].agg(['first','last']).stack().reset_index()\n",
    "office_price_diff.columns = ['단지명_층','first_last','금액','해당_동']\n",
    "name = []\n",
    "price_diff = []\n",
    "location = []\n",
    "per = []\n",
    "for i in range(office_price_diff.shape[0]-1) :\n",
    "    if office_price_diff['단지명_층'][i] == office_price_diff['단지명_층'][i+1] :\n",
    "        name.append(office_price_diff['단지명_층'][i])\n",
    "        price_diff.append(office_price_diff['금액'][i+1] - office_price_diff['금액'][i])\n",
    "        location.append(office_price_diff['해당_동'][i])\n",
    "        per.append(100 * (office_price_diff['금액'][i+1] - office_price_diff['금액'][i])/office_price_diff['금액'][i])\n",
    "        \n",
    "office_price_final = pd.DataFrame({'단지명_층' : name,\n",
    "              '해당_동' : location,\n",
    "            '금액차이' : price_diff,\n",
    "            '금액차이비율' : per})\n",
    "        \n",
    "office_price_final_loc = office_price_final.groupby('해당_동')['금액차이'].mean().reset_index()\n",
    "sns.barplot(office_price_final_loc['해당_동'], office_price_final_loc['금액차이'])\n",
    "plt.xticks(rotation = 50)"
   ]
  },
  {
   "cell_type": "code",
   "execution_count": 81,
   "metadata": {},
   "outputs": [
    {
     "data": {
      "text/plain": [
       "(array([0, 1, 2, 3]), <a list of 4 Text xticklabel objects>)"
      ]
     },
     "execution_count": 81,
     "metadata": {},
     "output_type": "execute_result"
    },
    {
     "data": {
      "image/png": "[encoded data removed]",
      "text/plain": [
       "<Figure size 432x288 with 1 Axes>"
      ]
     },
     "metadata": {
      "needs_background": "light"
     },
     "output_type": "display_data"
    }
   ],
   "source": [
    "office_price_final_loc = office_price_final.groupby('해당_동')['금액차이비율'].mean().reset_index()\n",
    "sns.barplot(office_price_final_loc['해당_동'], office_price_final_loc['금액차이비율'])\n",
    "plt.xticks(rotation = 50)"
   ]
  },
  {
   "cell_type": "code",
   "execution_count": 82,
   "metadata": {},
   "outputs": [
    {
     "data": {
      "text/plain": [
       "-55638449.46289027"
      ]
     },
     "execution_count": 82,
     "metadata": {},
     "output_type": "execute_result"
    }
   ],
   "source": [
    "first = office_price_diff[office_price_diff['first_last'] == 'first']\n",
    "first = first[first['해당_동'] == '도담동']\n",
    "last = office_price_diff[office_price_diff['first_last'] == 'last']\n",
    "last = last[last['해당_동'] == '도담동']\n",
    "last['금액'].sum() - first['금액'].sum() "
   ]
  },
  {
   "cell_type": "markdown",
   "metadata": {},
   "source": [
    "## 오피스 전월세 가격추이"
   ]
  },
  {
   "cell_type": "code",
   "execution_count": 83,
   "metadata": {},
   "outputs": [],
   "source": [
    "office_rent_dep = []\n",
    "for i in office_rent['보증금(만원)'] :\n",
    "    office_rent_dep.append(i.replace(',',''))\n",
    "office_rent['보증금(만원)'] = office_rent_dep\n",
    "office_rent['보증금(만원)'] = office_rent['보증금(만원)'].astype('int')"
   ]
  },
  {
   "cell_type": "code",
   "execution_count": 84,
   "metadata": {},
   "outputs": [
    {
     "data": {
      "text/plain": [
       "(array([0, 1, 2, 3]), <a list of 4 Text xticklabel objects>)"
      ]
     },
     "execution_count": 84,
     "metadata": {},
     "output_type": "execute_result"
    },
    {
     "data": {
      "image/png": "[encoded data removed]",
      "text/plain": [
       "<Figure size 432x288 with 1 Axes>"
      ]
     },
     "metadata": {
      "needs_background": "light"
     },
     "output_type": "display_data"
    }
   ],
   "source": [
    "rent_price = []\n",
    "for i in range(office_rent.shape[0]) :\n",
    "    if office_rent['계약년월'][i] <= 202009 :\n",
    "        if office_rent['전월세구분'][i] == '월세' :\n",
    "            rent_price.append(office_rent['월세(만원)'][i]*12*25 + office_rent['보증금(만원)'][i])\n",
    "        else :\n",
    "            rent_price.append(office_rent['보증금(만원)'][i])\n",
    "    else :\n",
    "        if office_rent['전월세구분'][i] == '월세' :\n",
    "            rent_price.append(office_rent['월세(만원)'][i]*12*40 + office_rent['보증금(만원)'][i])\n",
    "        else :\n",
    "            rent_price.append(office_rent['보증금(만원)'][i])\n",
    "office_rent['책정금액'] = rent_price\n",
    "office_rent['층'] = office_rent['층'].astype('str')\n",
    "office_rent['단지명_층'] = office_rent['단지명'] + ' ' + office_rent['층'] +'층'\n",
    "office_rent['전용면적당_가격'] = office_rent['책정금액'] * 10000 / office_rent['전용면적(㎡)'] * 3.3\n",
    "office_rent_diff = office_rent.groupby('단지명_층')[['전용면적당_가격','ADM_DR_NM']].agg(['first','last']).stack().reset_index()\n",
    "office_rent_diff.columns = ['단지명_층','first_last','금액','해당_동']\n",
    "name = []\n",
    "price_diff = []\n",
    "location = []\n",
    "per = []\n",
    "for i in range(office_rent_diff.shape[0]-1) :\n",
    "    if office_rent_diff['단지명_층'][i] == office_rent_diff['단지명_층'][i+1] :\n",
    "        name.append(office_rent_diff['단지명_층'][i])\n",
    "        price_diff.append(office_rent_diff['금액'][i+1] - office_rent_diff['금액'][i])\n",
    "        location.append(office_rent_diff['해당_동'][i])\n",
    "        per.append(100 * (office_rent_diff['금액'][i+1] - office_rent_diff['금액'][i])/office_rent_diff['금액'][i])\n",
    "        \n",
    "office_rent_final = pd.DataFrame({'단지명_층' : name,\n",
    "              '해당_동' : location,\n",
    "            '금액차이' : price_diff,\n",
    "            '금액차이비율' : per})\n",
    "        \n",
    "office_rent_final_loc = office_rent_final.groupby('해당_동')['금액차이'].mean().reset_index()\n",
    "sns.barplot(office_rent_final_loc['해당_동'], office_rent_final_loc['금액차이'])\n",
    "plt.xticks(rotation = 50)"
   ]
  },
  {
   "cell_type": "code",
   "execution_count": 85,
   "metadata": {
    "scrolled": true
   },
   "outputs": [
    {
     "data": {
      "text/plain": [
       "(array([0, 1, 2, 3]), <a list of 4 Text xticklabel objects>)"
      ]
     },
     "execution_count": 85,
     "metadata": {},
     "output_type": "execute_result"
    },
    {
     "data": {
      "image/png": "[encoded data removed]",
      "text/plain": [
       "<Figure size 432x288 with 1 Axes>"
      ]
     },
     "metadata": {
      "needs_background": "light"
     },
     "output_type": "display_data"
    }
   ],
   "source": [
    "office_rent_final_loc = office_rent_final.groupby('해당_동')['금액차이비율'].mean().reset_index()\n",
    "sns.barplot(office_rent_final_loc['해당_동'], office_rent_final_loc['금액차이비율'])\n",
    "plt.xticks(rotation = 50)"
   ]
  },
  {
   "cell_type": "markdown",
   "metadata": {},
   "source": [
    "## 단독 다가구 매매"
   ]
  },
  {
   "cell_type": "code",
   "execution_count": 86,
   "metadata": {},
   "outputs": [],
   "source": [
    "dan_price_price = []\n",
    "for i in dan_price['거래금액(만원)'] :\n",
    "    dan_price_price.append(i.replace(',',''))\n",
    "dan_price['거래금액(만원)'] = dan_price_price\n",
    "dan_price['거래금액(만원)'] = dan_price['거래금액(만원)'].astype('int')"
   ]
  },
  {
   "cell_type": "code",
   "execution_count": 87,
   "metadata": {},
   "outputs": [
    {
     "data": {
      "text/plain": [
       "(array([ 0,  1,  2,  3,  4,  5,  6,  7,  8,  9, 10, 11, 12, 13, 14]),\n",
       " <a list of 15 Text xticklabel objects>)"
      ]
     },
     "execution_count": 87,
     "metadata": {},
     "output_type": "execute_result"
    },
    {
     "data": {
      "image/png": "[encoded data removed]",
      "text/plain": [
       "<Figure size 432x288 with 1 Axes>"
      ]
     },
     "metadata": {
      "needs_background": "light"
     },
     "output_type": "display_data"
    }
   ],
   "source": [
    "dan_price['X.1'] = dan_price['X.1'].astype('str')\n",
    "dan_price['Y.1'] = dan_price['Y.1'].astype('str')\n",
    "dan_price['X_Y_joined'] = dan_price['X.1'] + ' ' + dan_price['Y.1']\n",
    "dan_price['전용면적당_가격'] = dan_price['거래금액(만원)'] * 10000 / dan_price['연면적(㎡)'] * 3.3\n",
    "dan_price_diff = dan_price.groupby('X_Y_joined')[['전용면적당_가격','ADM_DR_NM']].agg(['first','last']).stack().reset_index()\n",
    "dan_price_diff.columns = ['고유주소','first_last','금액','해당_동']\n",
    "name = []\n",
    "price_diff = []\n",
    "location = []\n",
    "per = []\n",
    "for i in range(dan_price_diff.shape[0]-1) :\n",
    "    if dan_price_diff['고유주소'][i] == dan_price_diff['고유주소'][i+1] :\n",
    "        name.append(dan_price_diff['고유주소'][i])\n",
    "        price_diff.append(dan_price_diff['금액'][i+1] - dan_price_diff['금액'][i])\n",
    "        location.append(dan_price_diff['해당_동'][i])\n",
    "        per.append(100 * (dan_price_diff['금액'][i+1] - dan_price_diff['금액'][i])/dan_price_diff['금액'][i])\n",
    "        \n",
    "dan_price_final = pd.DataFrame({'단지명_층' : name,\n",
    "              '해당_동' : location,\n",
    "            '금액차이' : price_diff,\n",
    "            '금액차이비율' : per})\n",
    "        \n",
    "dan_price_final_loc = dan_price_final.groupby('해당_동')['금액차이'].mean().reset_index()\n",
    "sns.barplot(dan_price_final_loc['해당_동'], dan_price_final_loc['금액차이'])\n",
    "plt.xticks(rotation = 50)"
   ]
  },
  {
   "cell_type": "code",
   "execution_count": 88,
   "metadata": {},
   "outputs": [
    {
     "data": {
      "text/plain": [
       "(array([ 0,  1,  2,  3,  4,  5,  6,  7,  8,  9, 10, 11, 12, 13, 14]),\n",
       " <a list of 15 Text xticklabel objects>)"
      ]
     },
     "execution_count": 88,
     "metadata": {},
     "output_type": "execute_result"
    },
    {
     "data": {
      "image/png": "[encoded data removed]",
      "text/plain": [
       "<Figure size 432x288 with 1 Axes>"
      ]
     },
     "metadata": {
      "needs_background": "light"
     },
     "output_type": "display_data"
    }
   ],
   "source": [
    "dan_price_final_loc = dan_price_final.groupby('해당_동')['금액차이비율'].mean().reset_index()\n",
    "sns.barplot(dan_price_final_loc['해당_동'], dan_price_final_loc['금액차이비율'])\n",
    "plt.xticks(rotation = 50)"
   ]
  },
  {
   "cell_type": "markdown",
   "metadata": {},
   "source": [
    "## 단독다가구 전월세"
   ]
  },
  {
   "cell_type": "code",
   "execution_count": 89,
   "metadata": {},
   "outputs": [],
   "source": [
    "dan_rent_dep = []\n",
    "for i in dan_rent['보증금(만원)'] :\n",
    "    dan_rent_dep.append(i.replace(',',''))\n",
    "dan_rent['보증금(만원)'] = dan_rent_dep\n",
    "dan_rent['보증금(만원)'] = dan_rent['보증금(만원)'].astype('int')"
   ]
  },
  {
   "cell_type": "code",
   "execution_count": 90,
   "metadata": {},
   "outputs": [
    {
     "data": {
      "text/plain": [
       "(array([ 0,  1,  2,  3,  4,  5,  6,  7,  8,  9, 10, 11, 12, 13, 14, 15]),\n",
       " <a list of 16 Text xticklabel objects>)"
      ]
     },
     "execution_count": 90,
     "metadata": {},
     "output_type": "execute_result"
    },
    {
     "data": {
      "image/png": "[encoded data removed]",
      "text/plain": [
       "<Figure size 432x288 with 1 Axes>"
      ]
     },
     "metadata": {
      "needs_background": "light"
     },
     "output_type": "display_data"
    }
   ],
   "source": [
    "rent_price = []\n",
    "for i in range(dan_rent.shape[0]) :\n",
    "    if dan_rent['계약년월'][i] <= 202009 :\n",
    "        if dan_rent['전월세구분'][i] == '월세' :\n",
    "            rent_price.append(dan_rent['월세(만원)'][i]*12*25 + dan_rent['보증금(만원)'][i])\n",
    "        else :\n",
    "            rent_price.append(dan_rent['보증금(만원)'][i])\n",
    "    else :\n",
    "        if dan_rent['전월세구분'][i] == '월세' :\n",
    "            rent_price.append(dan_rent['월세(만원)'][i]*12*40 + dan_rent['보증금(만원)'][i])\n",
    "        else :\n",
    "            rent_price.append(dan_rent['보증금(만원)'][i])\n",
    "dan_rent['책정금액'] = rent_price\n",
    "dan_rent['X.1'] = dan_rent['X.1'].astype('str')\n",
    "dan_rent['Y.1'] = dan_rent['Y.1'].astype('str')\n",
    "dan_rent['X_Y_joined'] = dan_rent['X.1'] + ' ' + dan_rent['Y.1']\n",
    "dan_rent['전용면적당_가격'] = dan_rent['책정금액'] * 10000 / dan_rent['계약면적(㎡)'] * 3.3\n",
    "dan_rent_diff = dan_rent.groupby('X_Y_joined')[['전용면적당_가격','ADM_DR_NM']].agg(['first','last']).stack().reset_index()\n",
    "dan_rent_diff.columns = ['고유주소','first_last','금액','해당_동']\n",
    "name = []\n",
    "price_diff = []\n",
    "location = []\n",
    "per = []\n",
    "for i in range(dan_rent_diff.shape[0]-1) :\n",
    "    if dan_rent_diff['고유주소'][i] == dan_rent_diff['고유주소'][i+1] :\n",
    "        name.append(dan_rent_diff['고유주소'][i])\n",
    "        price_diff.append(dan_rent_diff['금액'][i+1] - dan_rent_diff['금액'][i])\n",
    "        location.append(dan_rent_diff['해당_동'][i])\n",
    "        per.append(100 * (dan_rent_diff['금액'][i+1] - dan_rent_diff['금액'][i])/dan_rent_diff['금액'][i])\n",
    "        \n",
    "dan_rent_final = pd.DataFrame({'고유주소' : name,\n",
    "              '해당_동' : location,\n",
    "            '금액차이' : price_diff,\n",
    "            '금액차이비율' : per})\n",
    "        \n",
    "dan_rent_final_loc = dan_rent_final.groupby('해당_동')['금액차이'].mean().reset_index()\n",
    "sns.barplot(dan_rent_final_loc['해당_동'], dan_rent_final_loc['금액차이'])\n",
    "plt.xticks(rotation = 50)"
   ]
  },
  {
   "cell_type": "code",
   "execution_count": 91,
   "metadata": {},
   "outputs": [
    {
     "data": {
      "text/plain": [
       "(array([ 0,  1,  2,  3,  4,  5,  6,  7,  8,  9, 10, 11, 12, 13, 14, 15]),\n",
       " <a list of 16 Text xticklabel objects>)"
      ]
     },
     "execution_count": 91,
     "metadata": {},
     "output_type": "execute_result"
    },
    {
     "data": {
      "image/png": "[encoded data removed]",
      "text/plain": [
       "<Figure size 432x288 with 1 Axes>"
      ]
     },
     "metadata": {
      "needs_background": "light"
     },
     "output_type": "display_data"
    }
   ],
   "source": [
    "dan_rent_final_loc = dan_rent_final.groupby('해당_동')['금액차이비율'].mean().reset_index()\n",
    "sns.barplot(dan_rent_final_loc['해당_동'], dan_rent_final_loc['금액차이비율'])\n",
    "plt.xticks(rotation = 50)"
   ]
  },
  {
   "cell_type": "markdown",
   "metadata": {},
   "source": [
    "## 아파트 분양권"
   ]
  },
  {
   "cell_type": "code",
   "execution_count": 92,
   "metadata": {},
   "outputs": [],
   "source": [
    "apt_lot_dep = []\n",
    "for i in apt_lot['거래금액(만원)'] :\n",
    "    apt_lot_dep.append(i.replace(',',''))\n",
    "apt_lot['거래금액(만원)'] = apt_lot_dep\n",
    "apt_lot['거래금액(만원)'] = apt_lot['거래금액(만원)'].astype('int')"
   ]
  },
  {
   "cell_type": "code",
   "execution_count": 93,
   "metadata": {},
   "outputs": [
    {
     "data": {
      "text/plain": [
       "(array([0, 1, 2, 3, 4, 5, 6, 7]), <a list of 8 Text xticklabel objects>)"
      ]
     },
     "execution_count": 93,
     "metadata": {},
     "output_type": "execute_result"
    },
    {
     "data": {
      "image/png": "[encoded data removed]",
      "text/plain": [
       "<Figure size 432x288 with 1 Axes>"
      ]
     },
     "metadata": {
      "needs_background": "light"
     },
     "output_type": "display_data"
    }
   ],
   "source": [
    "apt_lot['층'] = apt_lot['층'].astype('str')\n",
    "apt_lot['단지명_층'] = apt_lot['단지명'] + ' ' + apt_lot['층'] +'층'\n",
    "apt_lot['전용면적당_가격'] = apt_lot['거래금액(만원)'] * 10000 / apt_lot['전용면적(㎡)'] * 3.3\n",
    "apt_lot_diff = apt_lot.groupby('단지명_층')[['전용면적당_가격','ADM_DR_NM']].agg(['first','last']).stack().reset_index()\n",
    "apt_lot_diff.columns = ['단지명_층','firt_last','금액','해당_동']\n",
    "name = []\n",
    "price_diff = []\n",
    "location = []\n",
    "per = []\n",
    "for i in range(apt_lot_diff.shape[0]-1) :\n",
    "    if apt_lot_diff['단지명_층'][i] == apt_lot_diff['단지명_층'][i+1] :\n",
    "        name.append(apt_lot_diff['단지명_층'][i])\n",
    "        price_diff.append(apt_lot_diff['금액'][i+1] - apt_lot_diff['금액'][i])\n",
    "        location.append(apt_lot_diff['해당_동'][i])\n",
    "        per.append(100 * (apt_lot_diff['금액'][i+1] - apt_lot_diff['금액'][i])/apt_lot_diff['금액'][i])\n",
    "        \n",
    "apt_lot_final = pd.DataFrame({'단지명_층' : name,\n",
    "              '해당_동' : location,\n",
    "            '금액차이' : price_diff,\n",
    "            '금액차이비율' : per})\n",
    "        \n",
    "apt_lot_final_loc = apt_lot_final.groupby('해당_동')['금액차이'].mean().reset_index()\n",
    "sns.barplot(apt_lot_final_loc['해당_동'], apt_lot_final_loc['금액차이'])\n",
    "plt.xticks(rotation = 50)\n"
   ]
  },
  {
   "cell_type": "code",
   "execution_count": 94,
   "metadata": {},
   "outputs": [
    {
     "data": {
      "text/plain": [
       "(array([0, 1, 2, 3, 4, 5, 6, 7]), <a list of 8 Text xticklabel objects>)"
      ]
     },
     "execution_count": 94,
     "metadata": {},
     "output_type": "execute_result"
    },
    {
     "data": {
      "image/png": "[encoded data removed]",
      "text/plain": [
       "<Figure size 432x288 with 1 Axes>"
      ]
     },
     "metadata": {
      "needs_background": "light"
     },
     "output_type": "display_data"
    }
   ],
   "source": [
    "apt_lot_final_loc = apt_lot_final.groupby('해당_동')['금액차이비율'].mean().reset_index()\n",
    "sns.barplot(apt_lot_final_loc['해당_동'], apt_lot_final_loc['금액차이비율'])\n",
    "plt.xticks(rotation = 50)"
   ]
  },
  {
   "cell_type": "markdown",
   "metadata": {},
   "source": [
    "# 총 부동산 지표"
   ]
  },
  {
   "cell_type": "markdown",
   "metadata": {},
   "source": [
    "- 행정동 별 총 부동산 거래 금액에 항목별 비중에 따라 가중치를 해당 항목의 값에 곱하고 더해 세종시 내 해당 동의 부동산 가격의 상승 비율을 나타내는 지표"
   ]
  },
  {
   "cell_type": "code",
   "execution_count": 95,
   "metadata": {},
   "outputs": [],
   "source": [
    "apt_price_sum = apt_price.groupby('ADM_DR_NM')['거래금액(만원)'].sum().reset_index()\n",
    "apt_rent_sum = apt_rent.groupby('ADM_DR_NM')['책정금액'].sum().reset_index()\n",
    "yunlip_price_sum = yunlip_price.groupby('ADM_DR_NM')['거래금액(만원)'].sum().reset_index()\n",
    "yunlip_rent_sum = yunlip_rent.groupby('ADM_DR_NM')['책정금액'].sum().reset_index()\n",
    "office_price_sum = office_price.groupby('ADM_DR_NM')['거래금액(만원)'].sum().reset_index()\n",
    "office_rent_sum = office_rent.groupby('ADM_DR_NM')['책정금액'].sum().reset_index()\n",
    "dan_price_sum = dan_price.groupby('ADM_DR_NM')['거래금액(만원)'].sum().reset_index()\n",
    "dan_rent_sum = dan_rent.groupby('ADM_DR_NM')['책정금액'].sum().reset_index()\n",
    "apt_lot_sum = apt_lot.groupby('ADM_DR_NM')['거래금액(만원)'].sum().reset_index()"
   ]
  },
  {
   "cell_type": "code",
   "execution_count": 96,
   "metadata": {},
   "outputs": [],
   "source": [
    "apt_price_sum.columns = ['해당동','총금액']\n",
    "apt_rent_sum.columns = ['해당동','총금액']\n",
    "yunlip_price_sum.columns = ['해당동','총금액']\n",
    "yunlip_rent_sum.columns = ['해당동','총금액']\n",
    "office_price_sum.columns = ['해당동','총금액']\n",
    "office_rent_sum.columns = ['해당동','총금액']\n",
    "dan_price_sum.columns = ['해당동','총금액']\n",
    "dan_rent_sum.columns = ['해당동','총금액']\n",
    "apt_lot_sum.columns = ['해당동','총금액']\n",
    "\n",
    "dfs = [apt_price_sum,apt_rent_sum,yunlip_price_sum,yunlip_rent_sum,office_price_sum,office_rent_sum,dan_price_sum, dan_rent_sum, apt_lot_sum]"
   ]
  },
  {
   "cell_type": "code",
   "execution_count": 97,
   "metadata": {},
   "outputs": [],
   "source": [
    "sum_of_prices = []\n",
    "for i in dfs :\n",
    "    sum_of_prices.append(i['총금액'].sum(axis = 0))"
   ]
  },
  {
   "cell_type": "code",
   "execution_count": 98,
   "metadata": {},
   "outputs": [],
   "source": [
    "import numpy as np\n",
    "total_sum = np.array(sum_of_prices).sum()\n",
    "estate_cat = ['apt_price','apt_rent','yunlip_price','yunlip_rent','office_price','office_rent','dan_price','dan_rent','apt_lot']\n",
    "estate_ratio = pd.DataFrame({'부동산_종류' : estate_cat,\n",
    "             '비율' : sum_of_prices / total_sum})\n",
    "\n",
    "final_loc_list = [apt_price_final_loc,apt_rent_final_loc,yunlip_price_final_loc,yunlip_rent_final_loc,office_price_final_loc,office_price_final_loc, dan_price_final_loc, dan_rent_final_loc, apt_lot_final_loc]"
   ]
  },
  {
   "cell_type": "code",
   "execution_count": 100,
   "metadata": {},
   "outputs": [],
   "source": [
    "estate_ratio_ = estate_ratio.copy()\n",
    "estate_ratio_['부동산_종류'] = ['아파트_매매','아파트_전월세','연립다세대_매매','연립다세대_전월세','오피스텔_매매','오피스텔_전월세','단독다가구_매매','단독다가구_전월세','아파트_분양권']"
   ]
  },
  {
   "cell_type": "code",
   "execution_count": 101,
   "metadata": {},
   "outputs": [
    {
     "data": {
      "text/html": [
       "<div>\n",
       "<style scoped>\n",
       "    .dataframe tbody tr th:only-of-type {\n",
       "        vertical-align: middle;\n",
       "    }\n",
       "\n",
       "    .dataframe tbody tr th {\n",
       "        vertical-align: top;\n",
       "    }\n",
       "\n",
       "    .dataframe thead th {\n",
       "        text-align: right;\n",
       "    }\n",
       "</style>\n",
       "<table border=\"1\" class=\"dataframe\">\n",
       "  <thead>\n",
       "    <tr style=\"text-align: right;\">\n",
       "      <th></th>\n",
       "      <th>부동산_종류</th>\n",
       "      <th>비율</th>\n",
       "    </tr>\n",
       "  </thead>\n",
       "  <tbody>\n",
       "    <tr>\n",
       "      <th>0</th>\n",
       "      <td>아파트_매매</td>\n",
       "      <td>0.452692</td>\n",
       "    </tr>\n",
       "    <tr>\n",
       "      <th>1</th>\n",
       "      <td>아파트_전월세</td>\n",
       "      <td>0.348245</td>\n",
       "    </tr>\n",
       "    <tr>\n",
       "      <th>2</th>\n",
       "      <td>연립다세대_매매</td>\n",
       "      <td>0.002593</td>\n",
       "    </tr>\n",
       "    <tr>\n",
       "      <th>3</th>\n",
       "      <td>연립다세대_전월세</td>\n",
       "      <td>0.001867</td>\n",
       "    </tr>\n",
       "    <tr>\n",
       "      <th>4</th>\n",
       "      <td>오피스텔_매매</td>\n",
       "      <td>0.001687</td>\n",
       "    </tr>\n",
       "    <tr>\n",
       "      <th>5</th>\n",
       "      <td>오피스텔_전월세</td>\n",
       "      <td>0.006277</td>\n",
       "    </tr>\n",
       "    <tr>\n",
       "      <th>6</th>\n",
       "      <td>단독다가구_매매</td>\n",
       "      <td>0.022661</td>\n",
       "    </tr>\n",
       "    <tr>\n",
       "      <th>7</th>\n",
       "      <td>단독다가구_전월세</td>\n",
       "      <td>0.016574</td>\n",
       "    </tr>\n",
       "    <tr>\n",
       "      <th>8</th>\n",
       "      <td>아파트_분양권</td>\n",
       "      <td>0.147405</td>\n",
       "    </tr>\n",
       "  </tbody>\n",
       "</table>\n",
       "</div>"
      ],
      "text/plain": [
       "      부동산_종류        비율\n",
       "0     아파트_매매  0.452692\n",
       "1    아파트_전월세  0.348245\n",
       "2   연립다세대_매매  0.002593\n",
       "3  연립다세대_전월세  0.001867\n",
       "4    오피스텔_매매  0.001687\n",
       "5   오피스텔_전월세  0.006277\n",
       "6   단독다가구_매매  0.022661\n",
       "7  단독다가구_전월세  0.016574\n",
       "8    아파트_분양권  0.147405"
      ]
     },
     "execution_count": 101,
     "metadata": {},
     "output_type": "execute_result"
    }
   ],
   "source": [
    "estate_ratio_"
   ]
  },
  {
   "cell_type": "code",
   "execution_count": 49,
   "metadata": {},
   "outputs": [],
   "source": [
    "for i in range(len(final_loc_list)-1) :\n",
    "    if i == 0 :\n",
    "        merged = pd.merge(final_loc_list[i],final_loc_list[i+1], on = '해당_동', how = 'left')\n",
    "    else :\n",
    "        merged = pd.merge(merged, final_loc_list[i+1], on = '해당_동', how = 'left')\n",
    "\n",
    "merged.columns = ['동이름','아파트_매매_면적당_상승률','아파트_전월세_면적당_상승률','연립다세대_매매_면적당_상승률','연립다세대_전월세_면적당_상승률','오피스텔_매매_면적당_상승률','오피스텔_전월세_면적당_상승률','단독다가구_매매_면적당_상승률','단독다가구_전월세_면적당_상승률','아파트_분양권면적당_상승률']\n",
    "\n",
    "merged = merged.fillna(0)"
   ]
  },
  {
   "cell_type": "code",
   "execution_count": 102,
   "metadata": {},
   "outputs": [],
   "source": [
    "real_estate_indicator = []\n",
    "\n",
    "for j in range(merged.shape[0]) :\n",
    "    for i in range(len(estate_ratio)) :\n",
    "        real_estate_indicator.append(estate_ratio['비율'][i] * merged.iloc[j,1:][i])\n",
    "merged['부동산_지표'] = np.asarray(real_estate_indicator).reshape(19,9).sum(axis = 1)"
   ]
  },
  {
   "cell_type": "code",
   "execution_count": 349,
   "metadata": {},
   "outputs": [],
   "source": [
    "merged.to_csv('./부동산_관련_자료/동별_부동산_추이_지표.csv', index = False)"
   ]
  }
 ],
 "metadata": {
  "kernelspec": {
   "display_name": "Python 3",
   "language": "python",
   "name": "python3"
  },
  "language_info": {
   "codemirror_mode": {
    "name": "ipython",
    "version": 3
   },
   "file_extension": ".py",
   "mimetype": "text/x-python",
   "name": "python",
   "nbconvert_exporter": "python",
   "pygments_lexer": "ipython3",
   "version": "3.8.5"
  }
 },
 "nbformat": 4,
 "nbformat_minor": 2
}
