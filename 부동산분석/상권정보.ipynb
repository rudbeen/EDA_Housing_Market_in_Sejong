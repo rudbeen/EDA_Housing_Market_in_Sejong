{
 "cells": [
  {
   "cell_type": "code",
   "execution_count": 32,
   "metadata": {},
   "outputs": [],
   "source": [
    "import pandas as pd\n",
    "import numpy as np\n",
    "from IPython.display import display\n",
    "import matplotlib.pyplot as plt"
   ]
  },
  {
   "cell_type": "code",
   "execution_count": 33,
   "metadata": {},
   "outputs": [],
   "source": [
    "세종시_상권정보 = pd.read_csv('../input_raw/14.세종시_상권정보.csv',encoding='UTF-8')\n",
    "세종시_상권정보_업종코드 = pd.read_csv('../input_raw/15.세종시_상권정보_업종코드.csv',encoding='UTF-8')"
   ]
  },
  {
   "cell_type": "markdown",
   "metadata": {},
   "source": [
    "## 행정동별 상권업종 대분류 별로 세종시 내에 비율을 구해 주었습니다"
   ]
  },
  {
   "cell_type": "code",
   "execution_count": 34,
   "metadata": {},
   "outputs": [],
   "source": [
    "data1 = 세종시_상권정보.groupby(['행정동명','상권업종대분류명'])['행정동코드'].count()\n",
    "\n",
    "세종시_행정동별_상권정보 = pd.DataFrame(data1).reset_index()\n",
    "\n",
    "세종시_행정동별_상권정보.columns=['행정동명','상권업종대분류명','개수']\n",
    "\n",
    "data2=세종시_상권정보.groupby(['행정동명'])['행정동코드'].count()\n",
    "\n",
    "data3=(data1/data2)*100\n",
    "세종시_행정동별_상권정보_비율=pd.DataFrame(data3).reset_index()\n",
    "세종시_행정동별_상권정보_비율.columns=['행정동명','상권업종대분류명','비율']\n",
    "세종시_행정동별_상권정보_비율\n",
    "세종시_행정동별_상권정보_개수_비율 = pd.merge(세종시_행정동별_상권정보,세종시_행정동별_상권정보_비율)"
   ]
  },
  {
   "cell_type": "code",
   "execution_count": 35,
   "metadata": {},
   "outputs": [],
   "source": [
    "data1_1 = 세종시_상권정보.groupby(['행정동명','표준산업분류명'])['행정동코드'].count()\n",
    "\n",
    "data1_1_1=pd.DataFrame(data1_1).reset_index()\n",
    "data1_1_1.columns=['행정동명','표준산업분류명','개수']"
   ]
  },
  {
   "cell_type": "code",
   "execution_count": 36,
   "metadata": {},
   "outputs": [],
   "source": [
    "data3_3 = (data1_1/data2)*100"
   ]
  },
  {
   "cell_type": "code",
   "execution_count": 37,
   "metadata": {},
   "outputs": [],
   "source": [
    "data3_3_3 = pd.DataFrame(data3_3).reset_index()"
   ]
  },
  {
   "cell_type": "code",
   "execution_count": 38,
   "metadata": {},
   "outputs": [],
   "source": [
    "data3_3_3.columns=['행정동명','표준산업분류명','비율']"
   ]
  },
  {
   "cell_type": "code",
   "execution_count": 39,
   "metadata": {},
   "outputs": [],
   "source": [
    "세종시_행정동별_상권정보_표준_개수_비율 = pd.merge(data1_1_1,data3_3_3)"
   ]
  },
  {
   "cell_type": "code",
   "execution_count": 40,
   "metadata": {},
   "outputs": [],
   "source": [
    "세종시_행정동별_상권정보_표준_개수_비율.to_csv('./부동산_관련_자료/세종시_행정동별_상권정보_표준_개수_비율.csv', index = False)\n",
    "세종시_행정동별_상권정보_개수_비율.to_csv('./부동산_관련_자료/세종시_행정동별_상권정보_개수_비율.csv', index = False)"
   ]
  }
 ],
 "metadata": {
  "kernelspec": {
   "display_name": "Python 3",
   "language": "python",
   "name": "python3"
  },
  "language_info": {
   "codemirror_mode": {
    "name": "ipython",
    "version": 3
   },
   "file_extension": ".py",
   "mimetype": "text/x-python",
   "name": "python",
   "nbconvert_exporter": "python",
   "pygments_lexer": "ipython3",
   "version": "3.8.3"
  }
 },
 "nbformat": 4,
 "nbformat_minor": 5
}
