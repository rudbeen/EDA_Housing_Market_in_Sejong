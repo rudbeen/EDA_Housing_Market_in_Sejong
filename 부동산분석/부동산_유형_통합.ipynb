{
 "cells": [
  {
   "cell_type": "code",
   "execution_count": 1,
   "metadata": {},
   "outputs": [],
   "source": [
    "import pandas as pd"
   ]
  },
  {
   "cell_type": "code",
   "execution_count": 2,
   "metadata": {},
   "outputs": [],
   "source": [
    "apt_price = pd.read_csv('../geocording_input/아파트_매매_실거래가_지오코딩_joined.csv')\n",
    "apt_rent = pd.read_csv('../geocording_input/아파트_전월세_실거래가_지오코딩_joined.csv')\n",
    "yunlip_price = pd.read_csv('../geocording_input/연립다세대_매매_실거래가_지오코딩_joined.csv')\n",
    "yunlip_rent = pd.read_csv('../geocording_input/연립다세대_전월세_실거래가_지오코딩_joined.csv')\n",
    "office_price = pd.read_csv('../geocording_input/오피스텔_매매_실거래가_지오코딩_joined.csv')\n",
    "office_rent = pd.read_csv('../geocording_input/오피스텔_전월세_실거래가_지오코딩_joined.csv')\n",
    "dan_price = pd.read_csv('../geocording_input/단독다가구_매매_실거래가_지오코딩_joined.csv')\n",
    "dan_rent = pd.read_csv('../geocording_input/단독다가구_전월세_실거래가_지오코딩_joined.csv')\n",
    "apt_lot = pd.read_csv('../geocording_input/분양권_실거래가_지오코딩_joined.csv')\n",
    "datas = [apt_price, apt_rent, yunlip_price, yunlip_rent, office_price, office_rent,\n",
    "        dan_price, dan_rent, apt_lot]"
   ]
  },
  {
   "cell_type": "markdown",
   "metadata": {},
   "source": [
    "#### 아파트 전월세"
   ]
  },
  {
   "cell_type": "code",
   "execution_count": 3,
   "metadata": {},
   "outputs": [],
   "source": [
    "apt_rent_dep = []\n",
    "for i in apt_rent['보증금(만원)'] :\n",
    "    apt_rent_dep.append(i.replace(',',''))\n",
    "apt_rent['보증금(만원)'] = apt_rent_dep\n",
    "apt_rent['보증금(만원)'] = apt_rent['보증금(만원)'].astype('int')\n",
    "rent_price = []\n",
    "for i in range(apt_rent.shape[0]) :\n",
    "    if apt_rent['계약년월'][i] <= 202009 :\n",
    "        if apt_rent['전월세구분'][i] == '월세' :\n",
    "            rent_price.append(apt_rent['월세(만원)'][i]*12*25 + apt_rent['보증금(만원)'][i])\n",
    "        else :\n",
    "            rent_price.append(apt_rent['보증금(만원)'][i])\n",
    "    else :\n",
    "        if apt_rent['전월세구분'][i] == '월세' :\n",
    "            rent_price.append(apt_rent['월세(만원)'][i]*12*40 + apt_rent['보증금(만원)'][i])\n",
    "        else :\n",
    "            rent_price.append(apt_rent['보증금(만원)'][i])\n",
    "apt_rent['책정금액'] = rent_price"
   ]
  },
  {
   "cell_type": "markdown",
   "metadata": {},
   "source": [
    "#### 연립다세대 전월세"
   ]
  },
  {
   "cell_type": "code",
   "execution_count": 4,
   "metadata": {},
   "outputs": [],
   "source": [
    "yunlip_rent_dep = []\n",
    "for i in yunlip_rent['보증금(만원)'] :\n",
    "    yunlip_rent_dep.append(i.replace(',',''))\n",
    "yunlip_rent['보증금(만원)'] = yunlip_rent_dep\n",
    "yunlip_rent['보증금(만원)'] = yunlip_rent['보증금(만원)'].astype('int')\n",
    "rent_price = []\n",
    "for i in range(yunlip_rent.shape[0]) :\n",
    "    if yunlip_rent['계약년월'][i] <= 202009 :\n",
    "        if yunlip_rent['전월세구분'][i] == '월세' :\n",
    "            rent_price.append(yunlip_rent['월세(만원)'][i]*12*25 + yunlip_rent['보증금(만원)'][i])\n",
    "        else :\n",
    "            rent_price.append(yunlip_rent['보증금(만원)'][i])\n",
    "    else :\n",
    "        if yunlip_rent['전월세구분'][i] == '월세' :\n",
    "            rent_price.append(yunlip_rent['월세(만원)'][i]*12*40 + yunlip_rent['보증금(만원)'][i])\n",
    "        else :\n",
    "            rent_price.append(yunlip_rent['보증금(만원)'][i])\n",
    "yunlip_rent['책정금액'] = rent_price"
   ]
  },
  {
   "cell_type": "markdown",
   "metadata": {},
   "source": [
    "#### 오피스텔 전월세"
   ]
  },
  {
   "cell_type": "code",
   "execution_count": 5,
   "metadata": {},
   "outputs": [],
   "source": [
    "office_rent_dep = []\n",
    "for i in office_rent['보증금(만원)'] :\n",
    "    office_rent_dep.append(i.replace(',',''))\n",
    "office_rent['보증금(만원)'] = office_rent_dep\n",
    "office_rent['보증금(만원)'] = office_rent['보증금(만원)'].astype('int')\n",
    "rent_price = []\n",
    "for i in range(office_rent.shape[0]) :\n",
    "    if office_rent['계약년월'][i] <= 202009 :\n",
    "        if office_rent['전월세구분'][i] == '월세' :\n",
    "            rent_price.append(office_rent['월세(만원)'][i]*12*25 + office_rent['보증금(만원)'][i])\n",
    "        else :\n",
    "            rent_price.append(office_rent['보증금(만원)'][i])\n",
    "    else :\n",
    "        if office_rent['전월세구분'][i] == '월세' :\n",
    "            rent_price.append(office_rent['월세(만원)'][i]*12*40 + office_rent['보증금(만원)'][i])\n",
    "        else :\n",
    "            rent_price.append(office_rent['보증금(만원)'][i])\n",
    "office_rent['책정금액'] = rent_price"
   ]
  },
  {
   "cell_type": "markdown",
   "metadata": {},
   "source": [
    "#### 단독다가구 전월세"
   ]
  },
  {
   "cell_type": "code",
   "execution_count": 6,
   "metadata": {},
   "outputs": [],
   "source": [
    "dan_rent_dep = []\n",
    "for i in dan_rent['보증금(만원)'] :\n",
    "    dan_rent_dep.append(i.replace(',',''))\n",
    "dan_rent['보증금(만원)'] = dan_rent_dep\n",
    "dan_rent['보증금(만원)'] = dan_rent['보증금(만원)'].astype('int')\n",
    "rent_price = []\n",
    "for i in range(dan_rent.shape[0]) :\n",
    "    if dan_rent['계약년월'][i] <= 202009 :\n",
    "        if dan_rent['전월세구분'][i] == '월세' :\n",
    "            rent_price.append(dan_rent['월세(만원)'][i]*12*25 + dan_rent['보증금(만원)'][i])\n",
    "        else :\n",
    "            rent_price.append(dan_rent['보증금(만원)'][i])\n",
    "    else :\n",
    "        if dan_rent['전월세구분'][i] == '월세' :\n",
    "            rent_price.append(dan_rent['월세(만원)'][i]*12*40 + dan_rent['보증금(만원)'][i])\n",
    "        else :\n",
    "            rent_price.append(dan_rent['보증금(만원)'][i])\n",
    "dan_rent['책정금액'] = rent_price"
   ]
  },
  {
   "cell_type": "markdown",
   "metadata": {},
   "source": [
    "# 부동산 데이터 통합"
   ]
  },
  {
   "cell_type": "code",
   "execution_count": 7,
   "metadata": {},
   "outputs": [],
   "source": [
    "for i in range(len(datas)) :\n",
    "    if i in [0,2,4,6,8] :\n",
    "        datas[i]['거래금액(만원)'] = datas[i]['거래금액(만원)'].str.replace(',','')\n",
    "        datas[i]['거래금액(만원)'] = datas[i]['거래금액(만원)'].astype('float')"
   ]
  },
  {
   "cell_type": "code",
   "execution_count": 8,
   "metadata": {
    "scrolled": true
   },
   "outputs": [],
   "source": [
    "for i in range(len(datas)) :\n",
    "    if i in [0,2,4,8] :\n",
    "        datas[i]['평당금액'] = datas[i]['거래금액(만원)'] / datas[i]['전용면적(㎡)'] * 3.3\n",
    "    elif i == 6 :\n",
    "        datas[i]['평당금액'] = datas[i]['거래금액(만원)'] / datas[i]['연면적(㎡)'] * 3.3\n",
    "    elif i == 7 :\n",
    "        datas[i]['평당금액'] = datas[i]['책정금액'] / datas[i]['계약면적(㎡)'] * 3.3\n",
    "    else :\n",
    "        datas[i]['평당금액'] = datas[i]['책정금액'] / datas[i]['전용면적(㎡)'] * 3.3"
   ]
  },
  {
   "cell_type": "code",
   "execution_count": 9,
   "metadata": {},
   "outputs": [],
   "source": [
    "type_of_estate = ['아파트_매매','아파트_전월세','연립다세대_매매','연립다세대_전월세',\n",
    "                 '오피스텔_매매','오피스텔_전월세','단독다가구_매매','단독다가구_전월세','아파트_분양권']\n",
    "for i in range(len(type_of_estate)) :\n",
    "    datas[i]['유형'] = type_of_estate[i]"
   ]
  },
  {
   "cell_type": "code",
   "execution_count": 10,
   "metadata": {},
   "outputs": [
    {
     "name": "stderr",
     "output_type": "stream",
     "text": [
      "C:\\Users\\lucky\\anaconda3\\lib\\site-packages\\ipykernel_launcher.py:6: SettingWithCopyWarning: \n",
      "A value is trying to be set on a copy of a slice from a DataFrame\n",
      "\n",
      "See the caveats in the documentation: https://pandas.pydata.org/pandas-docs/stable/user_guide/indexing.html#returning-a-view-versus-a-copy\n",
      "  \n"
     ]
    }
   ],
   "source": [
    "for i in range(len(datas)) :\n",
    "    datas[i]['계약년월'] = datas[i]['계약년월'].astype('str')\n",
    "    datas[i]['계약일'] = datas[i]['계약일'].astype('str')\n",
    "    for j in range(len(datas[i])):\n",
    "        if len(datas[i]['계약일'][j]) == 1:\n",
    "            datas[i]['계약일'][j] = '0' + datas[i]['계약일'][j]\n",
    "    datas[i]['계약년월'] = datas[i]['계약년월'] + datas[i]['계약일']\n",
    "    datas[i]['계약년월'] = pd.to_datetime(datas[i]['계약년월'])"
   ]
  },
  {
   "cell_type": "code",
   "execution_count": 11,
   "metadata": {},
   "outputs": [],
   "source": [
    "data_0 = datas[0][['계약년월','계약일','시군구','전용면적(㎡)','거래금액(만원)','건축년도','평당금액','유형','ADM_DR_NM']]\n",
    "data_1 = datas[1][['계약년월','계약일','시군구','전용면적(㎡)','책정금액','건축년도','평당금액','유형','ADM_DR_NM']]\n",
    "data_2 = datas[2][['계약년월','계약일','시군구','전용면적(㎡)','거래금액(만원)','건축년도','평당금액','유형','ADM_DR_NM']]\n",
    "data_3 = datas[3][['계약년월','계약일','시군구','전용면적(㎡)','책정금액','건축년도','평당금액','유형','ADM_DR_NM']]\n",
    "data_4 = datas[4][['계약년월','계약일','시군구','전용면적(㎡)','거래금액(만원)','건축년도','평당금액','유형','ADM_DR_NM']]\n",
    "data_5 = datas[5][['계약년월','계약일','시군구','전용면적(㎡)','책정금액','건축년도','평당금액','유형','ADM_DR_NM']]\n",
    "data_6 = datas[6][['계약년월','계약일','시군구','연면적(㎡)','거래금액(만원)','건축년도','평당금액','유형','ADM_DR_NM']]\n",
    "data_7 = datas[7][['계약년월','계약일','시군구','계약면적(㎡)','책정금액','건축년도','평당금액','유형','ADM_DR_NM']]\n",
    "\n",
    "### 아파트 분양권은 건축년도가 없습니다 대신 분양권의 특징상 계약년월이\n",
    "### 곧 건축년도이기 때문에 계약년월로 표현해 주었습니다\n",
    "year = []\n",
    "for i in datas[8]['계약년월'].astype('str') :\n",
    "    year.append(i[:4])\n",
    "datas[8]['건축년도'] = year\n",
    "\n",
    "data_8 = datas[8][['계약년월','계약일','시군구','전용면적(㎡)','거래금액(만원)','건축년도','평당금액','유형','ADM_DR_NM']]"
   ]
  },
  {
   "cell_type": "code",
   "execution_count": 12,
   "metadata": {},
   "outputs": [],
   "source": [
    "final_dfs = [data_0,data_1,data_2,data_3,data_4,data_5,data_6,data_7,data_8]\n",
    "for i in final_dfs :\n",
    "    i.columns = ['계약년월','계약일','시군구','전용면적(㎡)','거래금액(만원)','건축년도','평당금액','유형','행정동명']"
   ]
  },
  {
   "cell_type": "code",
   "execution_count": 13,
   "metadata": {},
   "outputs": [],
   "source": [
    "for i in range(len(final_dfs)-1) :\n",
    "    if i == 0 :\n",
    "        merged = pd.concat([final_dfs[i],final_dfs[i+1]])\n",
    "    else :\n",
    "        merged = pd.concat([merged,final_dfs[i+1]])"
   ]
  },
  {
   "cell_type": "code",
   "execution_count": 137,
   "metadata": {},
   "outputs": [],
   "source": [
    "A = ['아름동', '연동면', '연서면', '금남면', '고운동', '도담동', '종촌동','조치원읍', '연기면']\n",
    "B = ['전동면', '부강면', '소정면', '전의면', '장군면']\n",
    "C = ['소담동', '한솔동', '새롬동', '대평동', '보람동']"
   ]
  },
  {
   "cell_type": "code",
   "execution_count": 138,
   "metadata": {},
   "outputs": [],
   "source": [
    "cluster_number = []\n",
    "for i in merged.행정동명 :\n",
    "    if i in A :\n",
    "        cluster_number.append('A')\n",
    "    elif i in B :\n",
    "        cluster_number.append('B')\n",
    "    elif i in C : \n",
    "        cluster_number.append('C')\n",
    "merged['군집번호'] = cluster_number"
   ]
  },
  {
   "cell_type": "code",
   "execution_count": 139,
   "metadata": {},
   "outputs": [],
   "source": [
    "merged.to_csv('./부동산_관련_자료/부동산_총합본.csv', index = False)"
   ]
  },
  {
   "cell_type": "code",
   "execution_count": null,
   "metadata": {},
   "outputs": [],
   "source": []
  }
 ],
 "metadata": {
  "kernelspec": {
   "display_name": "Python 3",
   "language": "python",
   "name": "python3"
  },
  "language_info": {
   "codemirror_mode": {
    "name": "ipython",
    "version": 3
   },
   "file_extension": ".py",
   "mimetype": "text/x-python",
   "name": "python",
   "nbconvert_exporter": "python",
   "pygments_lexer": "ipython3",
   "version": "3.8.3"
  }
 },
 "nbformat": 4,
 "nbformat_minor": 2
}
