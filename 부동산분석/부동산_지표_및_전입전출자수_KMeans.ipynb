{
 "cells": [
  {
   "cell_type": "code",
   "execution_count": 4,
   "metadata": {},
   "outputs": [],
   "source": [
    "import pandas as pd\n",
    "import numpy as np\n",
    "from IPython.display import display\n",
    "import matplotlib.pyplot as plt\n",
    "import xgboost\n",
    "from sklearn.cluster import KMeans\n",
    "import tensorflow as tf\n",
    "import seaborn as sns\n",
    "import matplotlib.pyplot as plt \n",
    "import matplotlib\n",
    "matplotlib.rcParams['axes.unicode_minus'] = False\n",
    "matplotlib.rcParams['font.family'] = \"Malgun Gothic\""
   ]
  },
  {
   "cell_type": "markdown",
   "metadata": {},
   "source": [
    "# 부동산 추이 지표 와 전입전출자 수를 활용한                         KMeans"
   ]
  },
  {
   "cell_type": "code",
   "execution_count": 8,
   "metadata": {},
   "outputs": [],
   "source": [
    "동별_부동산_추이_및_지표 = pd.read_csv('./부동산_관련_자료/동별_부동산_추이_지표.csv', encoding='utf-8')\n",
    "세종시_행정동별_전입전출자수 =pd.read_csv('./부동산_관련_자료/세종시_행정동별_전입전출자수.csv')"
   ]
  },
  {
   "cell_type": "code",
   "execution_count": 9,
   "metadata": {},
   "outputs": [],
   "source": [
    "data1 = 세종시_행정동별_전입전출자수[['행정동명','전출_대비_전입_비율']]\n",
    "data2 = 동별_부동산_추이_및_지표[['동이름','부동산_지표']]"
   ]
  },
  {
   "cell_type": "code",
   "execution_count": 10,
   "metadata": {},
   "outputs": [],
   "source": [
    "세종시_전출전입_부동산 = pd.merge(data1,data2,left_on='행정동명',right_on='동이름')\n",
    "\n",
    "세종시_전출전입_부동산=세종시_전출전입_부동산.drop('동이름',axis=1)\n",
    "\n",
    "세종시_전출전입_부동산['전출_대비_전입_비율'] = 세종시_전출전입_부동산['전출_대비_전입_비율'].astype('int')\n",
    "세종시_전출전입_부동산['부동산_지표'] = 세종시_전출전입_부동산['부동산_지표'].astype('int')"
   ]
  },
  {
   "cell_type": "markdown",
   "metadata": {},
   "source": [
    "## 극단값에 영향을 적게 받게 하기 위해 MinMax Scaler 적용 하였습니다"
   ]
  },
  {
   "cell_type": "code",
   "execution_count": 11,
   "metadata": {},
   "outputs": [],
   "source": [
    "from sklearn.preprocessing import MinMaxScaler\n",
    "scaler = MinMaxScaler()\n",
    "세종시_전출전입_부동산[['전출_대비_전입_비율','부동산_지표']] = scaler.fit_transform(세종시_전출전입_부동산[['전출_대비_전입_비율','부동산_지표']])"
   ]
  },
  {
   "cell_type": "code",
   "execution_count": 12,
   "metadata": {},
   "outputs": [],
   "source": [
    "세종시_군집 = 세종시_전출전입_부동산.copy()"
   ]
  },
  {
   "cell_type": "code",
   "execution_count": 13,
   "metadata": {},
   "outputs": [],
   "source": [
    "def elbow(X) :\n",
    "    sse = []\n",
    "    for i in range(1,11) :\n",
    "        km= KMeans(n_clusters=i, init='k-means++', random_state=0)\n",
    "        km.fit(X)\n",
    "        sse.append(km.inertia_)\n",
    "            \n",
    "    plt.plot(range(1, 11), sse, marker='o')\n",
    "    plt.xlabel('Cluster count')\n",
    "    plt.ylabel('SSE')\n",
    "    plt.axvline(x = 3, linestyle = '--', color = 'red')\n",
    "    plt.show()\n",
    "    "
   ]
  },
  {
   "cell_type": "markdown",
   "metadata": {},
   "source": [
    "## 군집화 갯수를 정하기 위해 Elbow graph를 그렸습니다"
   ]
  },
  {
   "cell_type": "code",
   "execution_count": 14,
   "metadata": {},
   "outputs": [
    {
     "data": {
      "image/png": "[encoded data removed]",
      "text/plain": [
       "<Figure size 432x288 with 1 Axes>"
      ]
     },
     "metadata": {
      "needs_background": "light"
     },
     "output_type": "display_data"
    }
   ],
   "source": [
    "elbow(세종시_군집[['전출_대비_전입_비율','부동산_지표']])"
   ]
  },
  {
   "cell_type": "code",
   "execution_count": 15,
   "metadata": {},
   "outputs": [
    {
     "data": {
      "text/plain": [
       "KMeans(n_clusters=3)"
      ]
     },
     "execution_count": 15,
     "metadata": {},
     "output_type": "execute_result"
    }
   ],
   "source": [
    "km1 = KMeans(n_clusters = 3)\n",
    "km1.fit(세종시_군집[['전출_대비_전입_비율','부동산_지표']])"
   ]
  },
  {
   "cell_type": "code",
   "execution_count": 16,
   "metadata": {},
   "outputs": [],
   "source": [
    "세종시_군집['K_label'] = km1.labels_"
   ]
  },
  {
   "cell_type": "code",
   "execution_count": 17,
   "metadata": {
    "scrolled": true
   },
   "outputs": [
    {
     "data": {
      "image/png": "[encoded data removed]",
      "text/plain": [
       "<Figure size 432x288 with 1 Axes>"
      ]
     },
     "metadata": {
      "needs_background": "light"
     },
     "output_type": "display_data"
    }
   ],
   "source": [
    "plt.scatter(세종시_군집['전출_대비_전입_비율'],세종시_군집['부동산_지표'], s =50, c=세종시_군집['K_label'])\n",
    "plt.scatter(0.10588235, 0.06197183, s=30, c='r', marker='s')\n",
    "plt.scatter(0.20023767, 0.59937402, s=30, c='r', marker='s')\n",
    "plt.scatter(0.77967914, 0.45633803, s=30, c='r', marker='s')\n",
    "plt.xlabel('전출_대비_전입_비울')\n",
    "plt.ylabel('부동산_지표')\n",
    "plt.title('세종시_행정동_군집')\n",
    "plt.show()"
   ]
  },
  {
   "cell_type": "code",
   "execution_count": 18,
   "metadata": {},
   "outputs": [],
   "source": [
    "세종시_군집.to_csv('./부동산_관련_자료/세종시_군집.csv',index = False)"
   ]
  },
  {
   "cell_type": "code",
   "execution_count": null,
   "metadata": {},
   "outputs": [],
   "source": []
  }
 ],
 "metadata": {
  "kernelspec": {
   "display_name": "Python 3",
   "language": "python",
   "name": "python3"
  },
  "language_info": {
   "codemirror_mode": {
    "name": "ipython",
    "version": 3
   },
   "file_extension": ".py",
   "mimetype": "text/x-python",
   "name": "python",
   "nbconvert_exporter": "python",
   "pygments_lexer": "ipython3",
   "version": "3.8.5"
  }
 },
 "nbformat": 4,
 "nbformat_minor": 5
}
