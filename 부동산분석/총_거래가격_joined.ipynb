{
 "cells": [
  {
   "cell_type": "code",
   "execution_count": 1,
   "metadata": {},
   "outputs": [],
   "source": [
    "import pandas as pd\n",
    "import seaborn as sns\n",
    "import matplotlib.pylab as plt"
   ]
  },
  {
   "cell_type": "code",
   "execution_count": 2,
   "metadata": {},
   "outputs": [],
   "source": [
    "apt_price = pd.read_csv('../geocording_input/아파트_매매_실거래가_지오코딩_joined.csv')\n",
    "apt_rent = pd.read_csv('../geocording_input/아파트_전월세_실거래가_지오코딩_joined.csv')\n",
    "yunlip_price = pd.read_csv('../geocording_input/연립다세대_매매_실거래가_지오코딩_joined.csv')\n",
    "yunlip_rent = pd.read_csv('../geocording_input/연립다세대_전월세_실거래가_지오코딩_joined.csv')\n",
    "office_price = pd.read_csv('../geocording_input/오피스텔_매매_실거래가_지오코딩_joined.csv')\n",
    "office_rent = pd.read_csv('../geocording_input/오피스텔_전월세_실거래가_지오코딩_joined.csv')\n",
    "dan_price = pd.read_csv('../geocording_input/단독다가구_매매_실거래가_지오코딩_joined.csv')\n",
    "dan_rent = pd.read_csv('../geocording_input/단독다가구_전월세_실거래가_지오코딩_joined.csv')\n",
    "apt_lot = pd.read_csv('../geocording_input/분양권_실거래가_지오코딩_joined.csv')"
   ]
  },
  {
   "cell_type": "markdown",
   "metadata": {},
   "source": [
    "## 월세가 있는 항목들은 법정 전월세 전환율로 월세를 보증금으로 치환하여 더해 책정금액을 표시"
   ]
  },
  {
   "cell_type": "markdown",
   "metadata": {},
   "source": [
    "#### 아파트 전월세"
   ]
  },
  {
   "cell_type": "code",
   "execution_count": 3,
   "metadata": {},
   "outputs": [],
   "source": [
    "apt_rent_dep = []\n",
    "for i in apt_rent['보증금(만원)'] :\n",
    "    apt_rent_dep.append(i.replace(',',''))\n",
    "apt_rent['보증금(만원)'] = apt_rent_dep\n",
    "apt_rent['보증금(만원)'] = apt_rent['보증금(만원)'].astype('int')\n",
    "rent_price = []\n",
    "for i in range(apt_rent.shape[0]) :\n",
    "    if apt_rent['계약년월'][i] <= 202009 :\n",
    "        if apt_rent['전월세구분'][i] == '월세' :\n",
    "            rent_price.append(apt_rent['월세(만원)'][i]*12*25 + apt_rent['보증금(만원)'][i])\n",
    "        else :\n",
    "            rent_price.append(apt_rent['보증금(만원)'][i])\n",
    "    else :\n",
    "        if apt_rent['전월세구분'][i] == '월세' :\n",
    "            rent_price.append(apt_rent['월세(만원)'][i]*12*40 + apt_rent['보증금(만원)'][i])\n",
    "        else :\n",
    "            rent_price.append(apt_rent['보증금(만원)'][i])\n",
    "apt_rent['책정금액'] = rent_price"
   ]
  },
  {
   "cell_type": "markdown",
   "metadata": {},
   "source": [
    "#### 연립다세대 전월세"
   ]
  },
  {
   "cell_type": "code",
   "execution_count": 4,
   "metadata": {},
   "outputs": [],
   "source": [
    "yunlip_rent_dep = []\n",
    "for i in yunlip_rent['보증금(만원)'] :\n",
    "    yunlip_rent_dep.append(i.replace(',',''))\n",
    "yunlip_rent['보증금(만원)'] = yunlip_rent_dep\n",
    "yunlip_rent['보증금(만원)'] = yunlip_rent['보증금(만원)'].astype('int')\n",
    "rent_price = []\n",
    "for i in range(yunlip_rent.shape[0]) :\n",
    "    if yunlip_rent['계약년월'][i] <= 202009 :\n",
    "        if yunlip_rent['전월세구분'][i] == '월세' :\n",
    "            rent_price.append(yunlip_rent['월세(만원)'][i]*12*25 + yunlip_rent['보증금(만원)'][i])\n",
    "        else :\n",
    "            rent_price.append(yunlip_rent['보증금(만원)'][i])\n",
    "    else :\n",
    "        if yunlip_rent['전월세구분'][i] == '월세' :\n",
    "            rent_price.append(yunlip_rent['월세(만원)'][i]*12*40 + yunlip_rent['보증금(만원)'][i])\n",
    "        else :\n",
    "            rent_price.append(yunlip_rent['보증금(만원)'][i])\n",
    "yunlip_rent['책정금액'] = rent_price"
   ]
  },
  {
   "cell_type": "markdown",
   "metadata": {},
   "source": [
    "#### 오피스텔 전월세"
   ]
  },
  {
   "cell_type": "code",
   "execution_count": 5,
   "metadata": {},
   "outputs": [],
   "source": [
    "office_rent_dep = []\n",
    "for i in office_rent['보증금(만원)'] :\n",
    "    office_rent_dep.append(i.replace(',',''))\n",
    "office_rent['보증금(만원)'] = office_rent_dep\n",
    "office_rent['보증금(만원)'] = office_rent['보증금(만원)'].astype('int')\n",
    "rent_price = []\n",
    "for i in range(office_rent.shape[0]) :\n",
    "    if office_rent['계약년월'][i] <= 202009 :\n",
    "        if office_rent['전월세구분'][i] == '월세' :\n",
    "            rent_price.append(office_rent['월세(만원)'][i]*12*25 + office_rent['보증금(만원)'][i])\n",
    "        else :\n",
    "            rent_price.append(office_rent['보증금(만원)'][i])\n",
    "    else :\n",
    "        if office_rent['전월세구분'][i] == '월세' :\n",
    "            rent_price.append(office_rent['월세(만원)'][i]*12*40 + office_rent['보증금(만원)'][i])\n",
    "        else :\n",
    "            rent_price.append(office_rent['보증금(만원)'][i])\n",
    "office_rent['책정금액'] = rent_price"
   ]
  },
  {
   "cell_type": "markdown",
   "metadata": {},
   "source": [
    "#### 단독다가구 전월세"
   ]
  },
  {
   "cell_type": "code",
   "execution_count": 6,
   "metadata": {},
   "outputs": [],
   "source": [
    "dan_rent_dep = []\n",
    "for i in dan_rent['보증금(만원)'] :\n",
    "    dan_rent_dep.append(i.replace(',',''))\n",
    "dan_rent['보증금(만원)'] = dan_rent_dep\n",
    "dan_rent['보증금(만원)'] = dan_rent['보증금(만원)'].astype('int')\n",
    "rent_price = []\n",
    "for i in range(dan_rent.shape[0]) :\n",
    "    if dan_rent['계약년월'][i] <= 202009 :\n",
    "        if dan_rent['전월세구분'][i] == '월세' :\n",
    "            rent_price.append(dan_rent['월세(만원)'][i]*12*25 + dan_rent['보증금(만원)'][i])\n",
    "        else :\n",
    "            rent_price.append(dan_rent['보증금(만원)'][i])\n",
    "    else :\n",
    "        if dan_rent['전월세구분'][i] == '월세' :\n",
    "            rent_price.append(dan_rent['월세(만원)'][i]*12*40 + dan_rent['보증금(만원)'][i])\n",
    "        else :\n",
    "            rent_price.append(dan_rent['보증금(만원)'][i])\n",
    "dan_rent['책정금액'] = rent_price"
   ]
  },
  {
   "cell_type": "code",
   "execution_count": 7,
   "metadata": {},
   "outputs": [],
   "source": [
    "apt_price_sum = apt_price.groupby('ADM_DR_NM')['거래금액(만원)'].sum().reset_index()\n",
    "apt_rent_sum = apt_rent.groupby('ADM_DR_NM')['책정금액'].sum().reset_index()\n",
    "yunlip_price_sum = yunlip_price.groupby('ADM_DR_NM')['거래금액(만원)'].sum().reset_index()\n",
    "yunlip_rent_sum = yunlip_rent.groupby('ADM_DR_NM')['책정금액'].sum().reset_index()\n",
    "office_price_sum = office_price.groupby('ADM_DR_NM')['거래금액(만원)'].sum().reset_index()\n",
    "office_rent_sum = office_rent.groupby('ADM_DR_NM')['책정금액'].sum().reset_index()\n",
    "dan_price_sum = dan_price.groupby('ADM_DR_NM')['거래금액(만원)'].sum().reset_index()\n",
    "dan_rent_sum = dan_rent.groupby('ADM_DR_NM')['책정금액'].sum().reset_index()\n",
    "apt_lot_sum = apt_lot.groupby('ADM_DR_NM')['거래금액(만원)'].sum().reset_index()"
   ]
  },
  {
   "cell_type": "code",
   "execution_count": 8,
   "metadata": {},
   "outputs": [],
   "source": [
    "apt_price_sum.columns = ['해당동','총금액']\n",
    "apt_rent_sum.columns = ['해당동','총금액']\n",
    "yunlip_price_sum.columns = ['해당동','총금액']\n",
    "yunlip_rent_sum.columns = ['해당동','총금액']\n",
    "office_price_sum.columns = ['해당동','총금액']\n",
    "office_rent_sum.columns = ['해당동','총금액']\n",
    "dan_price_sum.columns = ['해당동','총금액']\n",
    "dan_rent_sum.columns = ['해당동','총금액']\n",
    "apt_lot_sum.columns = ['해당동','총금액']\n",
    "\n",
    "dfs = [apt_price_sum,apt_rent_sum,yunlip_price_sum,yunlip_rent_sum,office_price_sum,office_rent_sum,dan_price_sum, dan_rent_sum, apt_lot_sum]"
   ]
  },
  {
   "cell_type": "code",
   "execution_count": null,
   "metadata": {},
   "outputs": [],
   "source": []
  }
 ],
 "metadata": {
  "kernelspec": {
   "display_name": "Python 3",
   "language": "python",
   "name": "python3"
  },
  "language_info": {
   "codemirror_mode": {
    "name": "ipython",
    "version": 3
   },
   "file_extension": ".py",
   "mimetype": "text/x-python",
   "name": "python",
   "nbconvert_exporter": "python",
   "pygments_lexer": "ipython3",
   "version": "3.8.3"
  }
 },
 "nbformat": 4,
 "nbformat_minor": 2
}
