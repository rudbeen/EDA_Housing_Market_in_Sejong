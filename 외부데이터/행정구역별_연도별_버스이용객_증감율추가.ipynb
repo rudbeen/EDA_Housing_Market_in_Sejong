{
 "cells": [
  {
   "cell_type": "code",
   "execution_count": 1,
   "metadata": {},
   "outputs": [],
   "source": [
    "import pandas as pd\n",
    "import numpy as np\n",
    "import seaborn as sns\n",
    "import matplotlib.pyplot as plt\n",
    "%matplotlib inline\n",
    "\n",
    "plt.rc('font', family='Malgun Gothic')\n",
    "import warnings\n",
    "warnings.filterwarnings(\"ignore\")"
   ]
  },
  {
   "cell_type": "code",
   "execution_count": 2,
   "metadata": {},
   "outputs": [],
   "source": [
    "세종시_버스인원 = pd.read_csv('./행정동_joined/1720_버스인원.csv')"
   ]
  },
  {
   "cell_type": "markdown",
   "metadata": {},
   "source": [
    "### 행정동 기준으로 데이터를 병합시켜주었습니다"
   ]
  },
  {
   "cell_type": "code",
   "execution_count": 3,
   "metadata": {},
   "outputs": [],
   "source": [
    "세종시_버스인원['행정구역'] = 세종시_버스인원.행정구역.str.replace('가람동', '한솔동')\n",
    "세종시_버스인원['행정구역'] = 세종시_버스인원.행정구역.str.replace('어진동', '도담동')\n",
    "세종시_버스인원['행정구역'] = 세종시_버스인원.행정구역.str.replace('다정동', '새롬동')\n",
    "세종시_버스인원['행정구역'] = 세종시_버스인원.행정구역.str.replace('나성동', '새롬동')\n",
    "세종시_버스인원['행정구역'] = 세종시_버스인원.행정구역.str.replace('반곡동', '소담동')"
   ]
  },
  {
   "cell_type": "markdown",
   "metadata": {},
   "source": [
    "### 반포면은 세종시 행정구역이 아니기 때문에 제거했습니다"
   ]
  },
  {
   "cell_type": "code",
   "execution_count": 4,
   "metadata": {},
   "outputs": [],
   "source": [
    "idx = 세종시_버스인원[세종시_버스인원['행정구역'] == \"반포면\"].index\n",
    "세종시_버스인원 = 세종시_버스인원.drop(idx)"
   ]
  },
  {
   "cell_type": "markdown",
   "metadata": {},
   "source": [
    "### 마지막 행은 전체 합계 데이터기 때문에 제거 하였습니다"
   ]
  },
  {
   "cell_type": "code",
   "execution_count": 5,
   "metadata": {},
   "outputs": [],
   "source": [
    "세종시_버스인원_총이용인원 = 세종시_버스인원.iloc[-1,:]\n",
    "세종시_버스인원 = 세종시_버스인원.iloc[:-1,:]"
   ]
  },
  {
   "cell_type": "markdown",
   "metadata": {},
   "source": [
    "### 행정동 별로 값을 구하기 때문에 의미가 합계 행을 제거 하였습니다"
   ]
  },
  {
   "cell_type": "code",
   "execution_count": 6,
   "metadata": {},
   "outputs": [],
   "source": [
    "idx = 세종시_버스인원[세종시_버스인원['행정구역'] == \"합계\"].index\n",
    "세종시_버스인원 = 세종시_버스인원.drop(idx)"
   ]
  },
  {
   "cell_type": "markdown",
   "metadata": {},
   "source": [
    "## 군집 추가"
   ]
  },
  {
   "cell_type": "code",
   "execution_count": 9,
   "metadata": {
    "scrolled": true
   },
   "outputs": [],
   "source": [
    "A = ['아름동', '연동면', '연서면', '금남면', '고운동', '도담동', '종촌동','조치원읍', '연기면']\n",
    "B = ['전동면', '부강면', '소정면', '전의면', '장군면']\n",
    "C = ['소담동', '한솔동', '새롬동', '대평동', '보람동']"
   ]
  },
  {
   "cell_type": "code",
   "execution_count": 10,
   "metadata": {},
   "outputs": [],
   "source": [
    "cluster_number = []\n",
    "for i in 세종시_버스인원.행정구역 :\n",
    "    if i in A :\n",
    "        cluster_number.append('A')\n",
    "    elif i in B :\n",
    "        cluster_number.append('B')\n",
    "    elif i in C : \n",
    "        cluster_number.append('C')\n",
    "세종시_버스인원['군집번호'] = cluster_number"
   ]
  },
  {
   "cell_type": "code",
   "execution_count": 12,
   "metadata": {},
   "outputs": [],
   "source": [
    "세종시_버스인원.to_csv('./행정동_joined/세종시_버스인원.csv', index = False)"
   ]
  },
  {
   "cell_type": "markdown",
   "metadata": {},
   "source": [
    "## 연도별 행정동의 버스인원의 추이를 보기 위해 \n",
    "## 연도 열을 추가해 주었습니다"
   ]
  },
  {
   "cell_type": "code",
   "execution_count": 7,
   "metadata": {},
   "outputs": [],
   "source": [
    "세종시_버스인원['연도'] = 세종시_버스인원.일자.str[0:4]"
   ]
  },
  {
   "cell_type": "code",
   "execution_count": 8,
   "metadata": {},
   "outputs": [],
   "source": [
    "세종시_버스인원['승차'] = 세종시_버스인원['승차'].str.replace(pat=r'[^\\w]', repl=r'', regex=True)\n",
    "세종시_버스인원['하차'] = 세종시_버스인원['하차'].str.replace(pat=r'[^\\w]', repl=r'', regex=True)\n",
    "세종시_버스인원['환승'] = 세종시_버스인원['환승'].str.replace(pat=r'[^\\w]', repl=r'', regex=True)\n",
    "#,없애줌"
   ]
  },
  {
   "cell_type": "code",
   "execution_count": 9,
   "metadata": {},
   "outputs": [],
   "source": [
    "세종시_버스인원 = 세종시_버스인원.fillna(0)"
   ]
  },
  {
   "cell_type": "code",
   "execution_count": 10,
   "metadata": {},
   "outputs": [],
   "source": [
    "세종시_버스인원['승차'] = 세종시_버스인원.승차.astype(int)\n",
    "세종시_버스인원['하차'] = 세종시_버스인원.하차.astype(int)\n",
    "세종시_버스인원['환승'] = 세종시_버스인원.환승.astype(int)"
   ]
  },
  {
   "cell_type": "code",
   "execution_count": 11,
   "metadata": {},
   "outputs": [],
   "source": [
    "승차 = pd.pivot_table(세종시_버스인원, index = '행정구역', columns = '연도', values = '승차' , aggfunc = 'sum').reset_index()\n",
    "하차 = pd.pivot_table(세종시_버스인원, index = '행정구역', columns = '연도', values = '하차' , aggfunc = 'sum').reset_index()\n",
    "환승 = pd.pivot_table(세종시_버스인원, index = '행정구역', columns = '연도', values = '환승' , aggfunc = 'sum').reset_index()"
   ]
  },
  {
   "cell_type": "code",
   "execution_count": 12,
   "metadata": {},
   "outputs": [],
   "source": [
    "행정동별 = 승차+하차+환승\n",
    "행정동별['행정구역'] = 행정동별.행정구역.str[0:3]\n",
    "행정동별['행정구역'] = 행정동별.행정구역.str.replace('조치원', '조치원읍')"
   ]
  },
  {
   "cell_type": "code",
   "execution_count": 13,
   "metadata": {},
   "outputs": [],
   "source": [
    "행정동별['증감율'] =(( 행정동별['2020'] - 행정동별['2017'] ) / 행정동별['2017'])* 100"
   ]
  },
  {
   "cell_type": "code",
   "execution_count": 14,
   "metadata": {},
   "outputs": [
    {
     "data": {
      "text/html": [
       "<div>\n",
       "<style scoped>\n",
       "    .dataframe tbody tr th:only-of-type {\n",
       "        vertical-align: middle;\n",
       "    }\n",
       "\n",
       "    .dataframe tbody tr th {\n",
       "        vertical-align: top;\n",
       "    }\n",
       "\n",
       "    .dataframe thead th {\n",
       "        text-align: right;\n",
       "    }\n",
       "</style>\n",
       "<table border=\"1\" class=\"dataframe\">\n",
       "  <thead>\n",
       "    <tr style=\"text-align: right;\">\n",
       "      <th>연도</th>\n",
       "      <th>행정구역</th>\n",
       "      <th>2017</th>\n",
       "      <th>2018</th>\n",
       "      <th>2019</th>\n",
       "      <th>2020</th>\n",
       "      <th>증감율</th>\n",
       "    </tr>\n",
       "  </thead>\n",
       "  <tbody>\n",
       "    <tr>\n",
       "      <th>2</th>\n",
       "      <td>대평동</td>\n",
       "      <td>375907</td>\n",
       "      <td>518129</td>\n",
       "      <td>1381561</td>\n",
       "      <td>1091579</td>\n",
       "      <td>190.385388</td>\n",
       "    </tr>\n",
       "    <tr>\n",
       "      <th>17</th>\n",
       "      <td>종촌동</td>\n",
       "      <td>325903</td>\n",
       "      <td>506267</td>\n",
       "      <td>1295201</td>\n",
       "      <td>948219</td>\n",
       "      <td>190.951295</td>\n",
       "    </tr>\n",
       "    <tr>\n",
       "      <th>1</th>\n",
       "      <td>금남면</td>\n",
       "      <td>183537</td>\n",
       "      <td>244089</td>\n",
       "      <td>683573</td>\n",
       "      <td>562023</td>\n",
       "      <td>206.217820</td>\n",
       "    </tr>\n",
       "    <tr>\n",
       "      <th>18</th>\n",
       "      <td>한솔동</td>\n",
       "      <td>550580</td>\n",
       "      <td>860768</td>\n",
       "      <td>2322807</td>\n",
       "      <td>1778972</td>\n",
       "      <td>223.108722</td>\n",
       "    </tr>\n",
       "    <tr>\n",
       "      <th>12</th>\n",
       "      <td>연서면</td>\n",
       "      <td>80318</td>\n",
       "      <td>109315</td>\n",
       "      <td>334031</td>\n",
       "      <td>271234</td>\n",
       "      <td>237.700142</td>\n",
       "    </tr>\n",
       "  </tbody>\n",
       "</table>\n",
       "</div>"
      ],
      "text/plain": [
       "연도 행정구역    2017    2018     2019     2020         증감율\n",
       "2   대평동  375907  518129  1381561  1091579  190.385388\n",
       "17  종촌동  325903  506267  1295201   948219  190.951295\n",
       "1   금남면  183537  244089   683573   562023  206.217820\n",
       "18  한솔동  550580  860768  2322807  1778972  223.108722\n",
       "12  연서면   80318  109315   334031   271234  237.700142"
      ]
     },
     "execution_count": 14,
     "metadata": {},
     "output_type": "execute_result"
    }
   ],
   "source": [
    "행정동별.sort_values('증감율').head()"
   ]
  },
  {
   "cell_type": "markdown",
   "metadata": {},
   "source": [
    "## Barplot으로 행정구역 별 버스이용객 증감율을 비교하였습니다"
   ]
  },
  {
   "cell_type": "code",
   "execution_count": 15,
   "metadata": {},
   "outputs": [
    {
     "data": {
      "image/png": "[encoded data removed]",
      "text/plain": [
       "<Figure size 432x288 with 1 Axes>"
      ]
     },
     "metadata": {
      "needs_background": "light"
     },
     "output_type": "display_data"
    }
   ],
   "source": [
    "sns.barplot(행정동별['행정구역'], 행정동별['증감율'])\n",
    "plt.xticks(rotation = 50);"
   ]
  },
  {
   "cell_type": "code",
   "execution_count": 16,
   "metadata": {},
   "outputs": [],
   "source": [
    "행정동별.to_csv('./행정동_joined/세종시_행정동별_연도별_버스이용객_증감율.csv', index =False)"
   ]
  },
  {
   "cell_type": "code",
   "execution_count": null,
   "metadata": {},
   "outputs": [],
   "source": []
  }
 ],
 "metadata": {
  "kernelspec": {
   "display_name": "Python 3",
   "language": "python",
   "name": "python3"
  },
  "language_info": {
   "codemirror_mode": {
    "name": "ipython",
    "version": 3
   },
   "file_extension": ".py",
   "mimetype": "text/x-python",
   "name": "python",
   "nbconvert_exporter": "python",
   "pygments_lexer": "ipython3",
   "version": "3.8.3"
  }
 },
 "nbformat": 4,
 "nbformat_minor": 4
}
