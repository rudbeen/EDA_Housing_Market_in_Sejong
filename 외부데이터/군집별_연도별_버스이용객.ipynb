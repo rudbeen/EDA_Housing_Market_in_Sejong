{
 "cells": [
  {
   "cell_type": "code",
   "execution_count": 1,
   "metadata": {},
   "outputs": [],
   "source": [
    "import pandas as pd\n",
    "import numpy as np\n",
    "import seaborn as sns\n",
    "import matplotlib.pyplot as plt\n",
    "%matplotlib inline\n",
    "plt.rc('font', family='AppleGothic')\n",
    "import warnings\n",
    "warnings.filterwarnings(\"ignore\")"
   ]
  },
  {
   "cell_type": "code",
   "execution_count": 2,
   "metadata": {},
   "outputs": [],
   "source": [
    "세종시_버스인원 = pd.read_csv('./행정동_joined//1720_버스인원.csv')"
   ]
  },
  {
   "cell_type": "code",
   "execution_count": 3,
   "metadata": {},
   "outputs": [],
   "source": [
    "#마지막 행 삭제\n",
    "세종시_버스인원_총이용인원 = 세종시_버스인원.iloc[-1,:]\n",
    "세종시_버스인원 = 세종시_버스인원.iloc[:-1,:]\n"
   ]
  },
  {
   "cell_type": "code",
   "execution_count": 4,
   "metadata": {},
   "outputs": [],
   "source": [
    "#합계 행들 삭제\n",
    "idx = 세종시_버스인원[세종시_버스인원['행정구역'] == \"합계\"].index\n",
    "세종시_버스인원 = 세종시_버스인원.drop(idx)"
   ]
  },
  {
   "cell_type": "code",
   "execution_count": 5,
   "metadata": {},
   "outputs": [],
   "source": [
    "# 부동산지표 및 전입전출자수 를 활용한 KMeans에서 얻은 라벨을 활용하여 Label을 붙여줍니다\n",
    "#A군집 : 아름동, 연동면, 연서면, 금남면, 고운동, 도담동, 종촌동, 조치원읍, 연기면\n",
    "#B군집 : 전동면, 부강면, 소정면, 전의면, 장군면\n",
    "#C군집 : 소담동, 한솔동, 새롬동, 대평동, 보람동"
   ]
  },
  {
   "cell_type": "code",
   "execution_count": 6,
   "metadata": {},
   "outputs": [],
   "source": [
    "#가람동 -> 힌솔동\n",
    "#어진동 -> 도담동\n",
    "#다정동, 나성동 -> 새롬동\n",
    "#반곡동 -> 소담동\n",
    "#반포면 -> 세종시 아님. 공주시 -> 삭제\n",
    "세종시_버스인원['행정구역'] = 세종시_버스인원.행정구역.str.replace('가람동', '한솔동')\n",
    "세종시_버스인원['행정구역'] = 세종시_버스인원.행정구역.str.replace('어진동', '도담동')\n",
    "세종시_버스인원['행정구역'] = 세종시_버스인원.행정구역.str.replace('다정동', '새롬동')\n",
    "세종시_버스인원['행정구역'] = 세종시_버스인원.행정구역.str.replace('나성동', '새롬동')\n",
    "세종시_버스인원['행정구역'] = 세종시_버스인원.행정구역.str.replace('반곡동', '소담동')"
   ]
  },
  {
   "cell_type": "markdown",
   "metadata": {},
   "source": [
    "### 해당 군집의 Label을 붙여줍니다"
   ]
  },
  {
   "cell_type": "code",
   "execution_count": 7,
   "metadata": {},
   "outputs": [],
   "source": [
    "A = ['아름동', '연동면', '연서면', '금남면', '고운동', '도담동', '종촌동','조치원읍', '연기면']\n",
    "B = ['전동면', '부강면', '소정면', '전의면', '장군면']\n",
    "C = ['소담동', '한솔동', '새롬동', '대평동', '보람동']\n",
    "\n",
    "\n",
    "for name in A:\n",
    "    세종시_버스인원['행정구역'] = 세종시_버스인원.행정구역.str.replace( name, 'A')\n",
    "\n",
    "for name in B:\n",
    "    세종시_버스인원['행정구역'] = 세종시_버스인원.행정구역.str.replace( name, 'B')\n",
    "    \n",
    "for name in C:\n",
    "    세종시_버스인원['행정구역'] = 세종시_버스인원.행정구역.str.replace( name, 'C')"
   ]
  },
  {
   "cell_type": "markdown",
   "metadata": {},
   "source": [
    "#### 반포면은 세종시의 행정구역이 아니여서 제거했습니다"
   ]
  },
  {
   "cell_type": "code",
   "execution_count": 8,
   "metadata": {},
   "outputs": [],
   "source": [
    "idx = 세종시_버스인원[세종시_버스인원['행정구역'] == \"반포면\"].index\n",
    "세종시_버스인원 = 세종시_버스인원.drop(idx)"
   ]
  },
  {
   "cell_type": "code",
   "execution_count": 9,
   "metadata": {},
   "outputs": [],
   "source": [
    "세종시_버스인원['연도'] = 세종시_버스인원.일자.str[0:4]"
   ]
  },
  {
   "cell_type": "markdown",
   "metadata": {},
   "source": [
    "#### 수치화하기 위해 1000에 붙어있는 콤마를 제거해 주었습니다"
   ]
  },
  {
   "cell_type": "code",
   "execution_count": 10,
   "metadata": {},
   "outputs": [],
   "source": [
    "세종시_버스인원['승차'] = 세종시_버스인원['승차'].str.replace(pat=r'[^\\w]', repl=r'', regex=True)\n",
    "세종시_버스인원['하차'] = 세종시_버스인원['하차'].str.replace(pat=r'[^\\w]', repl=r'', regex=True)\n",
    "세종시_버스인원['환승'] = 세종시_버스인원['환승'].str.replace(pat=r'[^\\w]', repl=r'', regex=True)"
   ]
  },
  {
   "cell_type": "markdown",
   "metadata": {},
   "source": [
    "#### 결측값은 0을 의미하는 것이기 때문에 0으로 대체해 주었습니다"
   ]
  },
  {
   "cell_type": "code",
   "execution_count": 11,
   "metadata": {},
   "outputs": [],
   "source": [
    "세종시_버스인원 = 세종시_버스인원.fillna(0)"
   ]
  },
  {
   "cell_type": "code",
   "execution_count": 12,
   "metadata": {},
   "outputs": [],
   "source": [
    "세종시_버스인원['승차'] = 세종시_버스인원.승차.astype(int)\n",
    "세종시_버스인원['하차'] = 세종시_버스인원.하차.astype(int)\n",
    "세종시_버스인원['환승'] = 세종시_버스인원.환승.astype(int)"
   ]
  },
  {
   "cell_type": "code",
   "execution_count": 13,
   "metadata": {},
   "outputs": [],
   "source": [
    "승차 = pd.pivot_table(세종시_버스인원, index = '연도', columns = '행정구역', values = '승차' , aggfunc = 'sum').reset_index()\n",
    "\n",
    "하차 = pd.pivot_table(세종시_버스인원, index = '연도', columns = '행정구역', values = '하차' , aggfunc = 'sum').reset_index()\n",
    "\n",
    "환승 = pd.pivot_table(세종시_버스인원, index = '연도', columns = '행정구역', values = '환승' , aggfunc = 'sum').reset_index()"
   ]
  },
  {
   "cell_type": "code",
   "execution_count": 14,
   "metadata": {},
   "outputs": [],
   "source": [
    "군집별 = 승차+하차+환승\n",
    "군집별['연도'] = 군집별.연도.str[0:4]"
   ]
  },
  {
   "cell_type": "code",
   "execution_count": 15,
   "metadata": {},
   "outputs": [],
   "source": [
    "군집별.to_csv('./군집화된_외부데이터/세종시_군집별_연도별_버스이용객.csv',index = False)"
   ]
  },
  {
   "cell_type": "markdown",
   "metadata": {},
   "source": [
    "## 군집별로 되어있는 데이터 합치기"
   ]
  },
  {
   "cell_type": "code",
   "execution_count": 16,
   "metadata": {},
   "outputs": [],
   "source": [
    "cluster_A = pd.read_csv('./군집화된_외부데이터/A군집_면적_버스정류장.csv')\n",
    "cluster_B = pd.read_csv('./군집화된_외부데이터/B군집_면적_버스정류장.csv')\n",
    "cluster_C = pd.read_csv('./군집화된_외부데이터/C군집_면적_버스정류장.csv')\n",
    "cluster_A['군집'] = 'A'\n",
    "cluster_B['군집'] = 'B'\n",
    "cluster_C['군집'] = 'C'\n",
    "merged = pd.concat([cluster_A,cluster_B,cluster_C])\n",
    "merged.to_csv('./군집화된_외부데이터/세종시_버스정류장_군집행정동추가.csv', index = False)"
   ]
  }
 ],
 "metadata": {
  "kernelspec": {
   "display_name": "Python 3",
   "language": "python",
   "name": "python3"
  },
  "language_info": {
   "codemirror_mode": {
    "name": "ipython",
    "version": 3
   },
   "file_extension": ".py",
   "mimetype": "text/x-python",
   "name": "python",
   "nbconvert_exporter": "python",
   "pygments_lexer": "ipython3",
   "version": "3.7.6"
  }
 },
 "nbformat": 4,
 "nbformat_minor": 4
}
