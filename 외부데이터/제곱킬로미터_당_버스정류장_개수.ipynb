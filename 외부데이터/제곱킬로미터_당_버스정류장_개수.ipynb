{
 "cells": [
  {
   "cell_type": "code",
   "execution_count": 2,
   "metadata": {},
   "outputs": [],
   "source": [
    "import pandas as pd\n",
    "import numpy as np\n",
    "import seaborn as sns\n",
    "import matplotlib.pyplot as plt\n",
    "%matplotlib inline\n",
    "\n",
    "plt.rc('font', family='AppleGothic')\n",
    "import warnings\n",
    "warnings.filterwarnings(\"ignore\")"
   ]
  },
  {
   "cell_type": "markdown",
   "metadata": {},
   "source": [
    "## QGIS 지오메트리 연산을 이용하여 면적을 구하고, 실제 면적과 같게 하기 위해 10000을 곱하여 군집별 해당 면적을 구하였습니다. 그 후 '세종시_군집별_연도별_버스이용객.csv'에서 군집별로 나누고 군집별로 면적을 붙여주었습니다"
   ]
  },
  {
   "cell_type": "markdown",
   "metadata": {},
   "source": [
    "### A군집의 제곱키로미터당 버스 정류장 개수"
   ]
  },
  {
   "cell_type": "code",
   "execution_count": 3,
   "metadata": {},
   "outputs": [],
   "source": [
    "A군집_면적_버스정류장 = pd.read_csv('./군집화된_외부데이터/A군집_면적_버스정류장.csv')\n",
    "B군집_면적_버스정류장 = pd.read_csv('./군집화된_외부데이터/B군집_면적_버스정류장.csv')\n",
    "C군집_면적_버스정류장 = pd.read_csv('./군집화된_외부데이터/C군집_면적_버스정류장.csv')"
   ]
  },
  {
   "cell_type": "code",
   "execution_count": 4,
   "metadata": {},
   "outputs": [],
   "source": [
    "A군집 = pd.pivot_table(A군집_면적_버스정류장, index = 'ADM_DR_NM', values = 'NODENM' , aggfunc = 'count').reset_index()\n",
    "\n",
    "A군집_면적 = pd.pivot_table(A군집_면적_버스정류장, index = 'ADM_DR_NM', values = '면적').reset_index()\n",
    "\n",
    "A군집['면적'] = A군집_면적['면적']\n",
    "\n",
    "A군집_제곱키로미터당_버스정류장_개수 = sum(A군집.NODENM) /sum(A군집.면적)"
   ]
  },
  {
   "cell_type": "code",
   "execution_count": 15,
   "metadata": {},
   "outputs": [
    {
     "data": {
      "text/plain": [
       "6.222477093666675"
      ]
     },
     "execution_count": 15,
     "metadata": {},
     "output_type": "execute_result"
    }
   ],
   "source": [
    "A군집_제곱키로미터당_버스정류장_개수"
   ]
  },
  {
   "cell_type": "markdown",
   "metadata": {},
   "source": [
    "### B군집의 제곱키로미터당 버스 정류장 개수"
   ]
  },
  {
   "cell_type": "code",
   "execution_count": 16,
   "metadata": {},
   "outputs": [],
   "source": [
    "B군집 = pd.pivot_table(B군집_면적_버스정류장, index = 'ADM_DR_NM', values = 'NODENM' , aggfunc = 'count').reset_index()"
   ]
  },
  {
   "cell_type": "code",
   "execution_count": 17,
   "metadata": {},
   "outputs": [],
   "source": [
    "B군집_면적 = pd.pivot_table(B군집_면적_버스정류장, index = 'ADM_DR_NM', values = '면적').reset_index()"
   ]
  },
  {
   "cell_type": "code",
   "execution_count": 18,
   "metadata": {},
   "outputs": [],
   "source": [
    "B군집['면적'] = B군집_면적['면적']"
   ]
  },
  {
   "cell_type": "code",
   "execution_count": 19,
   "metadata": {},
   "outputs": [],
   "source": [
    "B군집_제곱키로미터당_버스정류장_개수 = sum(B군집.NODENM) /sum(B군집.면적)"
   ]
  },
  {
   "cell_type": "code",
   "execution_count": 20,
   "metadata": {},
   "outputs": [
    {
     "data": {
      "text/plain": [
       "2.5631367038717587"
      ]
     },
     "execution_count": 20,
     "metadata": {},
     "output_type": "execute_result"
    }
   ],
   "source": [
    "B군집_제곱키로미터당_버스정류장_개수"
   ]
  },
  {
   "cell_type": "markdown",
   "metadata": {},
   "source": [
    "### C군집 제곱키로미터당 버스 정류장 개수"
   ]
  },
  {
   "cell_type": "code",
   "execution_count": 21,
   "metadata": {},
   "outputs": [],
   "source": [
    "C군집 = pd.pivot_table(C군집_면적_버스정류장, index = 'ADM_DR_NM', values = 'NODENM' , aggfunc = 'count').reset_index()"
   ]
  },
  {
   "cell_type": "code",
   "execution_count": 22,
   "metadata": {},
   "outputs": [],
   "source": [
    "C군집_면적 = pd.pivot_table(C군집_면적_버스정류장, index = 'ADM_DR_NM', values = '면적').reset_index()"
   ]
  },
  {
   "cell_type": "code",
   "execution_count": 23,
   "metadata": {},
   "outputs": [],
   "source": [
    "C군집['면적'] = C군집_면적['면적']"
   ]
  },
  {
   "cell_type": "code",
   "execution_count": 24,
   "metadata": {},
   "outputs": [],
   "source": [
    "C군집_제곱키로미터당_버스정류장_개수 = sum(C군집.NODENM) /sum(C군집.면적)"
   ]
  },
  {
   "cell_type": "code",
   "execution_count": 25,
   "metadata": {},
   "outputs": [
    {
     "data": {
      "text/plain": [
       "17.85131658474228"
      ]
     },
     "execution_count": 25,
     "metadata": {},
     "output_type": "execute_result"
    }
   ],
   "source": [
    "C군집_제곱키로미터당_버스정류장_개수"
   ]
  },
  {
   "cell_type": "markdown",
   "metadata": {},
   "source": [
    "## 군집별로 비교"
   ]
  },
  {
   "cell_type": "code",
   "execution_count": 26,
   "metadata": {},
   "outputs": [],
   "source": [
    "ABC = ['A','B','C']\n",
    "value = [A군집_제곱키로미터당_버스정류장_개수,B군집_제곱키로미터당_버스정류장_개수,C군집_제곱키로미터당_버스정류장_개수]"
   ]
  },
  {
   "cell_type": "code",
   "execution_count": 27,
   "metadata": {},
   "outputs": [
    {
     "data": {
      "image/png": "[encoded data removed]",
      "text/plain": [
       "<Figure size 432x288 with 1 Axes>"
      ]
     },
     "metadata": {
      "needs_background": "light"
     },
     "output_type": "display_data"
    }
   ],
   "source": [
    "sns.barplot(ABC,value);"
   ]
  },
  {
   "cell_type": "markdown",
   "metadata": {},
   "source": [
    "### 군집별_제곱키로미터당_버스정류장개수 저장"
   ]
  },
  {
   "cell_type": "code",
   "execution_count": 33,
   "metadata": {},
   "outputs": [],
   "source": [
    "data = {'A군집_제곱키로미터당_버스정류장_개수': [A군집_제곱키로미터당_버스정류장_개수],\n",
    "        'B군집_제곱키로미터당_버스정류장_개수' : [B군집_제곱키로미터당_버스정류장_개수],\n",
    "        'C군집_제곱키로미터당_버스정류장_개수' : [C군집_제곱키로미터당_버스정류장_개수]}\n",
    "\n",
    "군집별_제곱키로미터당_버스정류장개수 = pd.DataFrame(data)"
   ]
  },
  {
   "cell_type": "code",
   "execution_count": 34,
   "metadata": {},
   "outputs": [
    {
     "data": {
      "text/html": [
       "<div>\n",
       "<style scoped>\n",
       "    .dataframe tbody tr th:only-of-type {\n",
       "        vertical-align: middle;\n",
       "    }\n",
       "\n",
       "    .dataframe tbody tr th {\n",
       "        vertical-align: top;\n",
       "    }\n",
       "\n",
       "    .dataframe thead th {\n",
       "        text-align: right;\n",
       "    }\n",
       "</style>\n",
       "<table border=\"1\" class=\"dataframe\">\n",
       "  <thead>\n",
       "    <tr style=\"text-align: right;\">\n",
       "      <th></th>\n",
       "      <th>A군집_제곱키로미터당_버스정류장_개수</th>\n",
       "      <th>B군집_제곱키로미터당_버스정류장_개수</th>\n",
       "      <th>C군집_제곱키로미터당_버스정류장_개수</th>\n",
       "    </tr>\n",
       "  </thead>\n",
       "  <tbody>\n",
       "    <tr>\n",
       "      <th>0</th>\n",
       "      <td>6.222477</td>\n",
       "      <td>2.563137</td>\n",
       "      <td>17.851317</td>\n",
       "    </tr>\n",
       "  </tbody>\n",
       "</table>\n",
       "</div>"
      ],
      "text/plain": [
       "   A군집_제곱키로미터당_버스정류장_개수  B군집_제곱키로미터당_버스정류장_개수  C군집_제곱키로미터당_버스정류장_개수\n",
       "0              6.222477              2.563137             17.851317"
      ]
     },
     "execution_count": 34,
     "metadata": {},
     "output_type": "execute_result"
    }
   ],
   "source": [
    "군집별_제곱키로미터당_버스정류장개수"
   ]
  },
  {
   "cell_type": "code",
   "execution_count": 35,
   "metadata": {},
   "outputs": [],
   "source": [
    "군집별_제곱키로미터당_버스정류장개수.to_csv('./군집화된_외부데이터/군집별_제곱키로미터당_버스정류장개수.csv', index = False)"
   ]
  }
 ],
 "metadata": {
  "kernelspec": {
   "display_name": "Python 3",
   "language": "python",
   "name": "python3"
  },
  "language_info": {
   "codemirror_mode": {
    "name": "ipython",
    "version": 3
   },
   "file_extension": ".py",
   "mimetype": "text/x-python",
   "name": "python",
   "nbconvert_exporter": "python",
   "pygments_lexer": "ipython3",
   "version": "3.7.3"
  }
 },
 "nbformat": 4,
 "nbformat_minor": 4
}
