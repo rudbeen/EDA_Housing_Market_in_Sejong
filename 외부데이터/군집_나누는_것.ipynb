{
 "cells": [
  {
   "cell_type": "code",
   "execution_count": 1,
   "metadata": {},
   "outputs": [],
   "source": [
    "import pandas as pd"
   ]
  },
  {
   "cell_type": "code",
   "execution_count": 2,
   "metadata": {},
   "outputs": [],
   "source": [
    "건강증진센터= pd.read_csv('./행정동_joined/건강증진센터_.csv')\n",
    "교통약자이동지원센터 = pd.read_csv('./행정동_joined/교통약자이동지원센터_.csv')\n",
    "노인복지시설_현황 = pd.read_csv('./행정동_joined/노인복지시설_현황_.csv')\n",
    "도서관 = pd.read_csv('./행정동_joined/도서관_.csv')\n",
    "마을회관 = pd.read_csv('./행정동_joined/마을회관_.csv')\n",
    "아동복지시설 = pd.read_csv('./행정동_joined/아동복지시설_.csv')\n",
    "장애인복지시설 = pd.read_csv('./행정동_joined/장애인복지시설_.csv')\n",
    "장애인이용센터 = pd.read_csv('./행정동_joined/장애인이용센터_.csv')\n",
    "종합사회복지관 = pd.read_csv('./행정동_joined/종합사회복지관_.csv')\n",
    "치매센터 = pd.read_csv('./행정동_joined/치매센터_.csv')\n",
    "CCTV = pd.read_csv('./행정동_joined/CCTV_.csv')\n",
    "경찰_파출소 = pd.read_csv('./행정동_joined/경찰_파출소_치안센터_.csv')\n",
    "소방소 = pd.read_csv('./행정동_joined/소방소_.csv')\n",
    "병원 = pd.read_csv('./행정동_joined/세종시_병원현황_.csv')\n",
    "버스이용객 = pd.read_csv('./행정동_joined/1720_버스인원.csv')"
   ]
  },
  {
   "cell_type": "code",
   "execution_count": 3,
   "metadata": {},
   "outputs": [],
   "source": [
    "data = [건강증진센터, 교통약자이동지원센터, 노인복지시설_현황, 도서관, 마을회관, 아동복지시설, 장애인복지시설, 장애인이용센터, 종합사회복지관\n",
    "       , 치매센터, CCTV, 경찰_파출소, 소방소,병원]"
   ]
  },
  {
   "cell_type": "code",
   "execution_count": 4,
   "metadata": {},
   "outputs": [],
   "source": [
    "A = ['아름동', '연동면', '연서면', '금남면', '고운동', '도담동', '종촌동','조치원읍', '연기면']\n",
    "B = ['전동면', '부강면', '소정면', '전의면', '장군면']\n",
    "C = ['소담동', '한솔동', '새롬동', '대평동', '보람동']"
   ]
  },
  {
   "cell_type": "code",
   "execution_count": 5,
   "metadata": {
    "scrolled": true
   },
   "outputs": [],
   "source": [
    "for i in data :\n",
    "    cluster_number = []\n",
    "    for j in i.ADM_DR_NM :\n",
    "        if j in A :\n",
    "            cluster_number.append('A')\n",
    "        elif j in B :\n",
    "            cluster_number.append('B')\n",
    "        elif j in C : \n",
    "            cluster_number.append('C')\n",
    "    i['군집번호'] = cluster_number"
   ]
  },
  {
   "cell_type": "code",
   "execution_count": 6,
   "metadata": {},
   "outputs": [],
   "source": [
    "missed =[]\n",
    "for i in data :\n",
    "    missed.append(i.군집번호.isna().sum())"
   ]
  },
  {
   "cell_type": "code",
   "execution_count": 7,
   "metadata": {},
   "outputs": [],
   "source": [
    "복지시설 = data[0]\n",
    "교통약자이동지원센터 = data[1] \n",
    "노인복지시설_현황 = data[2]\n",
    "도서관 = data[3]\n",
    "마을회관 = data[4]\n",
    "아동복지시설 = data[5]\n",
    "장애인복지시설 = data[6]\n",
    "장애인이용센터 = data[7]\n",
    "종합사회복지관 = data[8]\n",
    "치매센터 =data[9]\n",
    "CCTV =data[10]\n",
    "경찰_파출소 = data[11] \n",
    "소방소 = data[12]\n",
    "병원 = data[13]"
   ]
  },
  {
   "cell_type": "code",
   "execution_count": 8,
   "metadata": {},
   "outputs": [],
   "source": [
    "건강증진센터.to_csv('./군집화된_외부데이터/건강증진센터.csv', index = False)\n",
    "교통약자이동지원센터.to_csv('./군집화된_외부데이터/교통약자이동지원센터.csv', index = False)\n",
    "노인복지시설_현황.to_csv('./군집화된_외부데이터/노인복지시설_현황.csv', index = False)\n",
    "도서관.to_csv('./군집화된_외부데이터/도서관.csv', index = False)\n",
    "마을회관.to_csv('./군집화된_외부데이터/마을회관.csv', index = False)\n",
    "아동복지시설.to_csv('./군집화된_외부데이터/아동복지시설.csv', index = False)\n",
    "장애인복지시설.to_csv('./군집화된_외부데이터/장애인복지시설.csv', index = False)\n",
    "장애인이용센터.to_csv('./군집화된_외부데이터/장애인이용센터.csv', index = False)\n",
    "종합사회복지관.to_csv('./군집화된_외부데이터/종합사회복지관.csv', index = False)\n",
    "치매센터.to_csv('./군집화된_외부데이터/치매센터.csv', index = False)\n",
    "CCTV.to_csv('./군집화된_외부데이터/CCTV.csv', index = False)\n",
    "경찰_파출소.to_csv('./군집화된_외부데이터/경찰_파출소.csv', index = False)\n",
    "소방소.to_csv('./군집화된_외부데이터/소방서.csv', index = False)\n",
    "병원.to_csv('./군집화된_외부데이터/병원.csv', index = False)"
   ]
  },
  {
   "cell_type": "markdown",
   "metadata": {},
   "source": [
    "### 사회 인프라 데이터 열 이름 통일"
   ]
  },
  {
   "cell_type": "code",
   "execution_count": 9,
   "metadata": {},
   "outputs": [],
   "source": [
    "유치원= pd.read_csv('./군집화된_외부데이터/유치원.csv')\n",
    "초등학교= pd.read_csv('./군집화된_외부데이터/초등학교.csv')\n",
    "중학교= pd.read_csv('./군집화된_외부데이터/중학교.csv')\n",
    "고등학교= pd.read_csv('./군집화된_외부데이터/고등학교.csv')\n",
    "특수학교= pd.read_csv('./군집화된_외부데이터/특수학교.csv')\n",
    "병원= pd.read_csv('./군집화된_외부데이터/병원.csv')\n",
    "약국= pd.read_csv('./군집화된_외부데이터/약국_현황.csv')\n",
    "보건기관= pd.read_csv('./군집화된_외부데이터/보건기관_현황.csv')\n",
    "소방서= pd.read_csv('./군집화된_외부데이터/소방서.csv')\n",
    "CCTV= pd.read_csv('./군집화된_외부데이터/CCTV.csv')\n",
    "경찰_파출소= pd.read_csv('./군집화된_외부데이터/경찰_파출소.csv')\n",
    "도서관= pd.read_csv('./군집화된_외부데이터/도서관.csv')\n",
    "마을회관= pd.read_csv('./군집화된_외부데이터/마을회관.csv')\n",
    "치매센터= pd.read_csv('./군집화된_외부데이터/치매센터.csv')\n",
    "건강증진센터= pd.read_csv('./군집화된_외부데이터/건강증진센터.csv')\n",
    "교통약자지원센터= pd.read_csv('./군집화된_외부데이터/교통약자이동지원센터.csv')\n",
    "공공기관= pd.read_csv('./군집화된_외부데이터/공공기관_현황.csv')\n",
    "상하수도처리시설= pd.read_csv('./군집화된_외부데이터/상하수도_처리시설_현황.csv')\n",
    "장애인이용센터= pd.read_csv('./군집화된_외부데이터/장애인이용센터.csv')\n",
    "아동복지시설=pd.read_csv('./군집화된_외부데이터/아동복지시설.csv')\n",
    "장애인복지시설= pd.read_csv('./군집화된_외부데이터/장애인복지시설.csv')\n",
    "청소년복지시설= pd.read_csv('./군집화된_외부데이터/청소년_복지시설_현황.csv')\n",
    "노인복지시설= pd.read_csv('./군집화된_외부데이터/노인복지시설_현황.csv')\n",
    "종합사회복지시설= pd.read_csv('./군집화된_외부데이터/종합사회복지관.csv')"
   ]
  },
  {
   "cell_type": "code",
   "execution_count": 10,
   "metadata": {},
   "outputs": [],
   "source": [
    "data_set = [유치원,초등학교,중학교,고등학교,특수학교,병원,약국,보건기관,소방서,CCTV,경찰_파출소,도서관,마을회관,치매센터,건강증진센터,교통약자지원센터,공공기관,상하수도처리시설,장애인이용센터,아동복지시설,장애인복지시설,청소년복지시설,노인복지시설,종합사회복지시설]"
   ]
  },
  {
   "cell_type": "code",
   "execution_count": 11,
   "metadata": {},
   "outputs": [],
   "source": [
    "for i in range(len(data_set)):\n",
    "    data_set[i].rename(columns = {\"ADM_DR_NM\": \"행정동명\"}, inplace = True)\n",
    "    try:\n",
    "        data_set[i].rename(columns = {\"군집\" : \"군집번호\"}, inplace = True)\n",
    "    except:\n",
    "        pass"
   ]
  },
  {
   "cell_type": "code",
   "execution_count": 12,
   "metadata": {},
   "outputs": [],
   "source": [
    "유치원.to_csv('./군집화된_외부데이터/유치원.csv', index = False)\n",
    "초등학교.to_csv('./군집화된_외부데이터/초등학교.csv', index = False)\n",
    "중학교.to_csv('./군집화된_외부데이터/중학교.csv', index = False)\n",
    "고등학교.to_csv('./군집화된_외부데이터/고등학교.csv', index = False)\n",
    "특수학교.to_csv('./군집화된_외부데이터/특수학교.csv', index = False)\n",
    "병원.to_csv('./군집화된_외부데이터/병원.csv', index = False)\n",
    "약국.to_csv('./군집화된_외부데이터/약국_현황.csv', index = False)\n",
    "보건기관.to_csv('./군집화된_외부데이터/보건기관_현황.csv', index = False)\n",
    "소방서.to_csv('./군집화된_외부데이터/소방서.csv', index = False)\n",
    "CCTV.to_csv('./군집화된_외부데이터/CCTV.csv', index = False)\n",
    "경찰_파출소.to_csv('./군집화된_외부데이터/경찰_파출소.csv', index = False)\n",
    "도서관.to_csv('./군집화된_외부데이터/도서관.csv', index = False)\n",
    "마을회관.to_csv('./군집화된_외부데이터/마을회관.csv', index = False)\n",
    "치매센터.to_csv('./군집화된_외부데이터/치매센터.csv', index = False)\n",
    "건강증진센터.to_csv('./군집화된_외부데이터/건강증진센터.csv', index = False)\n",
    "교통약자지원센터.to_csv('./군집화된_외부데이터/교통약자이동지원센터.csv', index = False)\n",
    "공공기관.to_csv('./군집화된_외부데이터/공공기관_현황.csv', index = False)\n",
    "상하수도처리시설.to_csv('./군집화된_외부데이터/상하수도_처리시설_현황.csv', index = False)\n",
    "장애인이용센터.to_csv('./군집화된_외부데이터/장애인이용센터.csv', index = False)\n",
    "아동복지시설.to_csv('./군집화된_외부데이터/아동복지시설.csv', index = False)\n",
    "장애인복지시설.to_csv('./군집화된_외부데이터/장애인복지시설.csv', index = False)\n",
    "청소년복지시설.to_csv('./군집화된_외부데이터/청소년_복지시설_현황.csv', index = False)\n",
    "노인복지시설.to_csv('./군집화된_외부데이터/노인복지시설_현황.csv', index = False)\n",
    "종합사회복지시설.to_csv('./군집화된_외부데이터/종합사회복지관.csv', index = False)"
   ]
  },
  {
   "cell_type": "code",
   "execution_count": null,
   "metadata": {},
   "outputs": [],
   "source": []
  }
 ],
 "metadata": {
  "kernelspec": {
   "display_name": "Python 3",
   "language": "python",
   "name": "python3"
  },
  "language_info": {
   "codemirror_mode": {
    "name": "ipython",
    "version": 3
   },
   "file_extension": ".py",
   "mimetype": "text/x-python",
   "name": "python",
   "nbconvert_exporter": "python",
   "pygments_lexer": "ipython3",
   "version": "3.8.3"
  }
 },
 "nbformat": 4,
 "nbformat_minor": 2
}
