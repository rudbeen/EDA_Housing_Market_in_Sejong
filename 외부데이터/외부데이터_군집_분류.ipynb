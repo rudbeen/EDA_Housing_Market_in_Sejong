{
 "cells": [
  {
   "cell_type": "code",
   "execution_count": 1,
   "metadata": {},
   "outputs": [],
   "source": [
    "import pandas as pd \n",
    "import matplotlib.pyplot as plt\n",
    "%matplotlib inline\n",
    "import seaborn as sns "
   ]
  },
  {
   "cell_type": "markdown",
   "metadata": {},
   "source": [
    "### CCTV"
   ]
  },
  {
   "cell_type": "code",
   "execution_count": 2,
   "metadata": {},
   "outputs": [],
   "source": [
    "cctv = pd.read_csv('./군집화된_외부데이터/CCTV.csv')"
   ]
  },
  {
   "cell_type": "code",
   "execution_count": 3,
   "metadata": {},
   "outputs": [],
   "source": [
    "cctv_1 = cctv.groupby(['행정동명'])['ADM_DR_CD'].count().reset_index()\n",
    "cctv_1.to_csv('./군집화된_외부데이터/군집CCTV_행정동별_분포.csv', encoding='utf-8', index=False)\n",
    "\n",
    "cctv_2 = cctv.groupby(['군집번호'])['ADM_DR_CD'].count().reset_index()\n",
    "cctv_2.to_csv('./군집화된_외부데이터/CCTV_군집별_분포.csv', encoding='utf-8', index=False)"
   ]
  },
  {
   "cell_type": "markdown",
   "metadata": {},
   "source": [
    "### 경찰_파출소"
   ]
  },
  {
   "cell_type": "code",
   "execution_count": 4,
   "metadata": {},
   "outputs": [],
   "source": [
    "police = pd.read_csv('./군집화된_외부데이터/경찰_파출소.csv')\n",
    "\n",
    "police_1 = police.groupby(['행정동명'])['ADM_DR_CD'].count().reset_index()\n",
    "police_1.to_csv('./군집화된_외부데이터/경찰관할_행정동별_분포.csv', encoding='utf-8', index=False)\n",
    "\n",
    "police_2 = police.groupby(['군집번호'])['ADM_DR_CD'].count().reset_index()\n",
    "police_2.to_csv('./군집화된_외부데이터/경찰관할_군집별_분포.csv', encoding='utf-8', index=False)"
   ]
  },
  {
   "cell_type": "markdown",
   "metadata": {},
   "source": [
    "### 교통약자이동지원센터"
   ]
  },
  {
   "cell_type": "code",
   "execution_count": 5,
   "metadata": {},
   "outputs": [],
   "source": [
    "center = pd.read_csv('./군집화된_외부데이터/교통약자이동지원센터.csv')\n",
    "\n",
    "center_1 = center.groupby(['행정동명'])['ADM_DR_CD'].count().reset_index()\n",
    "center_1.to_csv('./군집화된_외부데이터/교통약자이동지원센터_행정동별_분포.csv', encoding='utf-8', index=False)\n",
    "\n",
    "center_2 = center.groupby(['군집번호'])['ADM_DR_CD'].count().reset_index()\n",
    "center_2.to_csv('./군집화된_외부데이터/교통약자이동지원센터_군집별_분포.csv', encoding='utf-8', index=False)"
   ]
  },
  {
   "cell_type": "markdown",
   "metadata": {},
   "source": [
    "### 노인복지시설"
   ]
  },
  {
   "cell_type": "code",
   "execution_count": 6,
   "metadata": {},
   "outputs": [],
   "source": [
    "elder = pd.read_csv('./군집화된_외부데이터/노인복지시설_현황.csv')\n",
    "\n",
    "elder_1 = elder.groupby(['행정동명'])['ADM_DR_CD'].count().reset_index()\n",
    "elder_1.to_csv('./군집화된_외부데이터/노인복지_행정동별_분포.csv', encoding='utf-8', index=False)\n",
    "\n",
    "elder_2 = elder.groupby(['군집번호'])['ADM_DR_CD'].count().reset_index()\n",
    "elder_2.to_csv('./군집화된_외부데이터/노인복지_군집별_분포.csv', encoding='utf-8', index=False)"
   ]
  },
  {
   "cell_type": "markdown",
   "metadata": {},
   "source": [
    "### 도서관"
   ]
  },
  {
   "cell_type": "code",
   "execution_count": 7,
   "metadata": {},
   "outputs": [],
   "source": [
    "library = pd.read_csv('./군집화된_외부데이터/도서관.csv')\n",
    "\n",
    "lib_1 = library.groupby(['행정동명'])['ADM_DR_CD'].count().reset_index()\n",
    "lib_1.to_csv('./군집화된_외부데이터/도서관_행정동별_분포.csv', encoding='utf-8', index=False)\n",
    "\n",
    "lib_2 = library.groupby(['군집번호'])['ADM_DR_CD'].count().reset_index()\n",
    "lib_2.to_csv('./군집화된_외부데이터/도서관_군집별_분포.csv', encoding='utf-8', index=False)"
   ]
  },
  {
   "cell_type": "markdown",
   "metadata": {},
   "source": [
    "### 마을회관"
   ]
  },
  {
   "cell_type": "code",
   "execution_count": 8,
   "metadata": {},
   "outputs": [],
   "source": [
    "hole = pd.read_csv('./군집화된_외부데이터/마을회관.csv')\n",
    "\n",
    "hole_1 = hole.groupby(['행정동명'])['ADM_DR_CD'].count().reset_index()\n",
    "hole_1.to_csv('./군집화된_외부데이터/마을회관_행정동별_분포.csv', encoding='utf-8', index=False)\n",
    "\n",
    "hole_2 = hole.groupby(['군집번호'])['ADM_DR_CD'].count().reset_index()\n",
    "hole_2.to_csv('./군집화된_외부데이터/마을회관_군집별_분포.csv', encoding='utf-8', index=False)"
   ]
  },
  {
   "cell_type": "markdown",
   "metadata": {},
   "source": [
    "### 건강증진센터"
   ]
  },
  {
   "cell_type": "code",
   "execution_count": 9,
   "metadata": {},
   "outputs": [],
   "source": [
    "care = pd.read_csv('./군집화된_외부데이터/건강증진센터.csv')\n",
    "\n",
    "care_1 = care.groupby(['행정동명'])['ADM_DR_CD'].count().reset_index()\n",
    "care_1.to_csv('./군집화된_외부데이터/복지시설_행정동별_분포.csv', encoding= 'utf-8', index=False)\n",
    "\n",
    "care_2 = care.groupby(['군집번호'])['ADM_DR_CD'].count().reset_index()\n",
    "care_2.to_csv('./군집화된_외부데이터/복지시설_군집별_분포.csv', encoding= 'utf-8', index=False)"
   ]
  },
  {
   "cell_type": "markdown",
   "metadata": {},
   "source": [
    "### 소방서"
   ]
  },
  {
   "cell_type": "code",
   "execution_count": 10,
   "metadata": {},
   "outputs": [],
   "source": [
    "fire = pd.read_csv('./군집화된_외부데이터/소방서.csv')\n",
    "\n",
    "fire1 = fire.groupby(['행정동명'])['ADM_DR_CD'].count().reset_index()\n",
    "fire1.to_csv('./군집화된_외부데이터/소방서_행정동별_분포.csv', encoding= 'utf-8', index=False)\n",
    "\n",
    "fire2 = fire.groupby(['군집번호'])['ADM_DR_CD'].count().reset_index()\n",
    "fire2.to_csv('./군집화된_외부데이터/소방서_군집별_분포.csv', encoding= 'utf-8', index=False)"
   ]
  },
  {
   "cell_type": "markdown",
   "metadata": {},
   "source": [
    "### 아동복지시설"
   ]
  },
  {
   "cell_type": "code",
   "execution_count": 11,
   "metadata": {},
   "outputs": [],
   "source": [
    "kid = pd.read_csv('./군집화된_외부데이터/아동복지시설.csv')\n",
    "\n",
    "kid_1 = kid.groupby(['행정동명'])['ADM_DR_CD'].count().reset_index()\n",
    "kid_1.to_csv('./군집화된_외부데이터/아동복지시설_행정동별_분포.csv', encoding= 'utf-8', index=False)\n",
    "\n",
    "kid_2 = kid.groupby(['군집번호'])['ADM_DR_CD'].count().reset_index()\n",
    "kid_2.to_csv('./군집화된_외부데이터/아동복지시설_군집별_분포.csv', encoding= 'utf-8', index=False)"
   ]
  },
  {
   "cell_type": "markdown",
   "metadata": {},
   "source": [
    "### 장애인복지시설"
   ]
  },
  {
   "cell_type": "code",
   "execution_count": 12,
   "metadata": {},
   "outputs": [],
   "source": [
    "disabled = pd.read_csv('./군집화된_외부데이터/장애인복지시설.csv')\n",
    "\n",
    "dis1 = disabled.groupby(['행정동명'])['ADM_DR_CD'].count().reset_index()\n",
    "dis1.to_csv('./군집화된_외부데이터/장애인복지시설_행정동별_분포.csv', encoding= 'utf-8', index=False)\n",
    "\n",
    "dis2 = disabled.groupby(['군집번호'])['ADM_DR_CD'].count().reset_index()\n",
    "dis2.to_csv('./군집화된_외부데이터/장애인복지시설_군집별_분포.csv', encoding= 'utf-8', index=False)"
   ]
  },
  {
   "cell_type": "markdown",
   "metadata": {},
   "source": [
    "### 장애인이용센터"
   ]
  },
  {
   "cell_type": "code",
   "execution_count": 13,
   "metadata": {},
   "outputs": [],
   "source": [
    "disabled_2 = pd.read_csv('./군집화된_외부데이터/장애인이용센터.csv')\n",
    "\n",
    "dis_1 = disabled_2.groupby(['행정동명'])['ADM_DR_CD'].count().reset_index()\n",
    "dis_1.to_csv('./군집화된_외부데이터/장애인이용센터_행정동별_분포.csv', encoding= 'utf-8', index=False)\n",
    "\n",
    "dis_2 = disabled_2.groupby(['군집번호'])['ADM_DR_CD'].count().reset_index()\n",
    "dis_2.to_csv('./군집화된_외부데이터/장애인이용센터_군집별_분포.csv', encoding= 'utf-8', index=False)"
   ]
  },
  {
   "cell_type": "markdown",
   "metadata": {},
   "source": [
    "### 종합사회복지관"
   ]
  },
  {
   "cell_type": "code",
   "execution_count": 14,
   "metadata": {},
   "outputs": [],
   "source": [
    "society = pd.read_csv('./군집화된_외부데이터/종합사회복지관.csv')\n",
    "\n",
    "soc1 = society.groupby(['행정동명'])['ADM_DR_CD'].count().reset_index()\n",
    "soc1.to_csv('./군집화된_외부데이터/종합사회복지관_행정동별_분포.csv', encoding= 'utf-8', index=False)\n",
    "\n",
    "soc2 = society.groupby(['군집번호'])['ADM_DR_CD'].count().reset_index()\n",
    "soc2.to_csv('./군집화된_외부데이터/종합사회복지관_군집별_분포.csv', encoding= 'utf-8', index=False)"
   ]
  },
  {
   "cell_type": "markdown",
   "metadata": {},
   "source": [
    "### 치매센터"
   ]
  },
  {
   "cell_type": "code",
   "execution_count": 15,
   "metadata": {},
   "outputs": [],
   "source": [
    "brain_ = pd.read_csv('./군집화된_외부데이터/치매센터.csv')\n",
    "\n",
    "brain_1 = brain_.groupby(['행정동명'])['ADM_DR_CD'].count().reset_index()\n",
    "brain_1.to_csv('./군집화된_외부데이터/치매센터_행정동별_분포.csv', encoding= 'utf-8', index=False)\n",
    "\n",
    "brain_2 = brain_.groupby(['군집번호'])['ADM_DR_CD'].count().reset_index()\n",
    "brain_2.to_csv('./군집화된_외부데이터/치매센터_군집별_분포.csv', encoding= 'utf-8', index=False)"
   ]
  },
  {
   "cell_type": "markdown",
   "metadata": {},
   "source": [
    "### 버스정류장"
   ]
  },
  {
   "cell_type": "code",
   "execution_count": 16,
   "metadata": {
    "scrolled": true
   },
   "outputs": [],
   "source": [
    "bus_station = pd.read_csv('./군집화된_외부데이터/세종시_버스정류장_군집행정동추가.csv')\n",
    "\n",
    "bus1 = bus_station.groupby(['ADM_DR_NM'])['ADM_DR_CD'].count().reset_index()\n",
    "bus1.to_csv('./군집화된_외부데이터/버스정류장_행정동별_분포.csv', encoding= 'utf-8', index=False)\n",
    "\n",
    "bus2 = bus_station.groupby(['군집'])['ADM_DR_CD'].count().reset_index()\n",
    "bus2.to_csv('./군집화된_외부데이터/버스정류장_군집별_분포.csv', encoding= 'utf-8', index=False)"
   ]
  },
  {
   "cell_type": "markdown",
   "metadata": {},
   "source": [
    "## 치안시설"
   ]
  },
  {
   "cell_type": "code",
   "execution_count": 17,
   "metadata": {},
   "outputs": [],
   "source": [
    "# CCTV, 소방서, 경찰_파출소\n",
    "fire1.columns = ['행정동명','소방서']\n",
    "cctv_1.columns = ['행정동명','CCTV']\n",
    "police_1.columns = ['행정동명','경찰_파출소']\n",
    "fire2.columns = ['군집번호','소방서']\n",
    "cctv_2.columns = ['군집번호','CCTV']\n",
    "police_2.columns = ['군집번호','경찰_파출소']"
   ]
  },
  {
   "cell_type": "code",
   "execution_count": 18,
   "metadata": {},
   "outputs": [],
   "source": [
    "merge1 = pd.merge(fire1, cctv_1, on = '행정동명', how = 'outer')"
   ]
  },
  {
   "cell_type": "code",
   "execution_count": 19,
   "metadata": {},
   "outputs": [],
   "source": [
    "merge2 = pd.merge(merge1, police_1, on = '행정동명', how = 'outer')\n",
    "#merge2.to_csv('치안시설_행정동별_분포.csv', encoding = 'utf-8', index=False)"
   ]
  },
  {
   "cell_type": "code",
   "execution_count": 20,
   "metadata": {},
   "outputs": [],
   "source": [
    "merge3 = pd.merge(fire2, cctv_2, on = '군집번호', how = 'outer')"
   ]
  },
  {
   "cell_type": "code",
   "execution_count": 21,
   "metadata": {},
   "outputs": [],
   "source": [
    "merge4 = pd.merge(merge3, police_2, on = '군집번호', how = 'outer')\n",
    "#merge4.to_csv('치안시설_군집별_분포.csv', encoding = 'utf-8', index=False)"
   ]
  },
  {
   "cell_type": "markdown",
   "metadata": {},
   "source": [
    "## 복지시설"
   ]
  },
  {
   "cell_type": "code",
   "execution_count": 22,
   "metadata": {},
   "outputs": [],
   "source": [
    "center_1.columns = ['행정동명','교통약자지원센터']\n",
    "center_2.columns = ['군집번호','교통약자지원센터']\n",
    "elder_1.columns = ['행정동명','노인복지시설']\n",
    "elder_2.columns = ['군집번호','노인복지시설']\n",
    "lib_1.columns = ['행정동명','도서관']\n",
    "lib_2.columns = ['군집번호','도서관']\n",
    "hole_1.columns = ['행정동명','마을회관']\n",
    "hole_2.columns = ['군집번호','마을회관']\n",
    "care_1.columns = ['행정동명','복지시설']\n",
    "care_2.columns = ['군집번호','복지시설']\n",
    "kid_1.columns = ['행정동명','아동복지시설']\n",
    "kid_2.columns = ['군집번호','아동복지시설']\n",
    "dis1.columns = ['행정동명','장애인복지시설']\n",
    "dis2.columns = ['군집번호','장애인복지시설']\n",
    "dis_1.columns = ['행정동명','장애인이용센터']\n",
    "dis_2.columns = ['군집번호','장애인이용센터']\n",
    "soc1.columns = ['행정동명','종합사회복지관']\n",
    "soc2.columns = ['군집번호','종합사회복지관']\n",
    "brain_1.columns = ['행정동명','치매센터']\n",
    "brain_2.columns = ['군집번호','치매센터']\n",
    "\n",
    "Data_set_1 = [center_1,elder_1,lib_1,hole_1,care_1,kid_1,dis1,dis_1,soc1,brain_1]\n",
    "Data_set_2 = [center_2,elder_2,lib_2,hole_2,care_2,kid_2,dis2,dis_2,soc2,brain_2]"
   ]
  },
  {
   "cell_type": "code",
   "execution_count": 23,
   "metadata": {},
   "outputs": [],
   "source": [
    "for i in range(len(Data_set_1)-1) :\n",
    "    if i == 0 :\n",
    "        merged = pd.merge(Data_set_1[i], Data_set_1[i+1], how = 'outer', on = '행정동명')\n",
    "    else :\n",
    "        merged = pd.merge(merged, Data_set_1[i+1], how = 'outer', on = '행정동명')\n",
    "merged.to_csv('./군집화된_외부데이터/복지시설_행정동별_분포.csv',encoding='utf-8', index=False)"
   ]
  },
  {
   "cell_type": "code",
   "execution_count": 24,
   "metadata": {},
   "outputs": [
    {
     "data": {
      "text/html": [
       "<div>\n",
       "<style scoped>\n",
       "    .dataframe tbody tr th:only-of-type {\n",
       "        vertical-align: middle;\n",
       "    }\n",
       "\n",
       "    .dataframe tbody tr th {\n",
       "        vertical-align: top;\n",
       "    }\n",
       "\n",
       "    .dataframe thead th {\n",
       "        text-align: right;\n",
       "    }\n",
       "</style>\n",
       "<table border=\"1\" class=\"dataframe\">\n",
       "  <thead>\n",
       "    <tr style=\"text-align: right;\">\n",
       "      <th></th>\n",
       "      <th>행정동명</th>\n",
       "      <th>교통약자지원센터</th>\n",
       "      <th>노인복지시설</th>\n",
       "      <th>도서관</th>\n",
       "      <th>마을회관</th>\n",
       "      <th>복지시설</th>\n",
       "      <th>아동복지시설</th>\n",
       "      <th>장애인복지시설</th>\n",
       "      <th>장애인이용센터</th>\n",
       "      <th>종합사회복지관</th>\n",
       "      <th>치매센터</th>\n",
       "    </tr>\n",
       "  </thead>\n",
       "  <tbody>\n",
       "    <tr>\n",
       "      <th>0</th>\n",
       "      <td>연서면</td>\n",
       "      <td>1.0</td>\n",
       "      <td>4.0</td>\n",
       "      <td>NaN</td>\n",
       "      <td>46.0</td>\n",
       "      <td>NaN</td>\n",
       "      <td>2.0</td>\n",
       "      <td>1.0</td>\n",
       "      <td>1.0</td>\n",
       "      <td>NaN</td>\n",
       "      <td>NaN</td>\n",
       "    </tr>\n",
       "    <tr>\n",
       "      <th>1</th>\n",
       "      <td>금남면</td>\n",
       "      <td>NaN</td>\n",
       "      <td>4.0</td>\n",
       "      <td>NaN</td>\n",
       "      <td>47.0</td>\n",
       "      <td>NaN</td>\n",
       "      <td>NaN</td>\n",
       "      <td>NaN</td>\n",
       "      <td>NaN</td>\n",
       "      <td>NaN</td>\n",
       "      <td>NaN</td>\n",
       "    </tr>\n",
       "    <tr>\n",
       "      <th>2</th>\n",
       "      <td>도담동</td>\n",
       "      <td>NaN</td>\n",
       "      <td>1.0</td>\n",
       "      <td>1.0</td>\n",
       "      <td>NaN</td>\n",
       "      <td>NaN</td>\n",
       "      <td>1.0</td>\n",
       "      <td>NaN</td>\n",
       "      <td>2.0</td>\n",
       "      <td>NaN</td>\n",
       "      <td>1.0</td>\n",
       "    </tr>\n",
       "    <tr>\n",
       "      <th>3</th>\n",
       "      <td>연기면</td>\n",
       "      <td>NaN</td>\n",
       "      <td>1.0</td>\n",
       "      <td>NaN</td>\n",
       "      <td>14.0</td>\n",
       "      <td>NaN</td>\n",
       "      <td>1.0</td>\n",
       "      <td>1.0</td>\n",
       "      <td>NaN</td>\n",
       "      <td>NaN</td>\n",
       "      <td>NaN</td>\n",
       "    </tr>\n",
       "    <tr>\n",
       "      <th>4</th>\n",
       "      <td>연동면</td>\n",
       "      <td>NaN</td>\n",
       "      <td>1.0</td>\n",
       "      <td>NaN</td>\n",
       "      <td>26.0</td>\n",
       "      <td>NaN</td>\n",
       "      <td>NaN</td>\n",
       "      <td>NaN</td>\n",
       "      <td>NaN</td>\n",
       "      <td>NaN</td>\n",
       "      <td>NaN</td>\n",
       "    </tr>\n",
       "    <tr>\n",
       "      <th>5</th>\n",
       "      <td>장군면</td>\n",
       "      <td>NaN</td>\n",
       "      <td>1.0</td>\n",
       "      <td>NaN</td>\n",
       "      <td>31.0</td>\n",
       "      <td>NaN</td>\n",
       "      <td>1.0</td>\n",
       "      <td>NaN</td>\n",
       "      <td>NaN</td>\n",
       "      <td>NaN</td>\n",
       "      <td>NaN</td>\n",
       "    </tr>\n",
       "    <tr>\n",
       "      <th>6</th>\n",
       "      <td>전동면</td>\n",
       "      <td>NaN</td>\n",
       "      <td>3.0</td>\n",
       "      <td>NaN</td>\n",
       "      <td>31.0</td>\n",
       "      <td>NaN</td>\n",
       "      <td>1.0</td>\n",
       "      <td>3.0</td>\n",
       "      <td>NaN</td>\n",
       "      <td>NaN</td>\n",
       "      <td>NaN</td>\n",
       "    </tr>\n",
       "    <tr>\n",
       "      <th>7</th>\n",
       "      <td>전의면</td>\n",
       "      <td>NaN</td>\n",
       "      <td>3.0</td>\n",
       "      <td>NaN</td>\n",
       "      <td>45.0</td>\n",
       "      <td>NaN</td>\n",
       "      <td>NaN</td>\n",
       "      <td>3.0</td>\n",
       "      <td>NaN</td>\n",
       "      <td>NaN</td>\n",
       "      <td>NaN</td>\n",
       "    </tr>\n",
       "    <tr>\n",
       "      <th>8</th>\n",
       "      <td>조치원읍</td>\n",
       "      <td>NaN</td>\n",
       "      <td>17.0</td>\n",
       "      <td>NaN</td>\n",
       "      <td>80.0</td>\n",
       "      <td>1.0</td>\n",
       "      <td>5.0</td>\n",
       "      <td>6.0</td>\n",
       "      <td>2.0</td>\n",
       "      <td>1.0</td>\n",
       "      <td>2.0</td>\n",
       "    </tr>\n",
       "    <tr>\n",
       "      <th>9</th>\n",
       "      <td>종촌동</td>\n",
       "      <td>NaN</td>\n",
       "      <td>1.0</td>\n",
       "      <td>1.0</td>\n",
       "      <td>NaN</td>\n",
       "      <td>NaN</td>\n",
       "      <td>1.0</td>\n",
       "      <td>4.0</td>\n",
       "      <td>NaN</td>\n",
       "      <td>1.0</td>\n",
       "      <td>NaN</td>\n",
       "    </tr>\n",
       "    <tr>\n",
       "      <th>10</th>\n",
       "      <td>고운동</td>\n",
       "      <td>NaN</td>\n",
       "      <td>NaN</td>\n",
       "      <td>1.0</td>\n",
       "      <td>1.0</td>\n",
       "      <td>NaN</td>\n",
       "      <td>1.0</td>\n",
       "      <td>NaN</td>\n",
       "      <td>NaN</td>\n",
       "      <td>NaN</td>\n",
       "      <td>NaN</td>\n",
       "    </tr>\n",
       "    <tr>\n",
       "      <th>11</th>\n",
       "      <td>대평동</td>\n",
       "      <td>NaN</td>\n",
       "      <td>NaN</td>\n",
       "      <td>1.0</td>\n",
       "      <td>1.0</td>\n",
       "      <td>NaN</td>\n",
       "      <td>1.0</td>\n",
       "      <td>NaN</td>\n",
       "      <td>NaN</td>\n",
       "      <td>NaN</td>\n",
       "      <td>NaN</td>\n",
       "    </tr>\n",
       "    <tr>\n",
       "      <th>12</th>\n",
       "      <td>보람동</td>\n",
       "      <td>NaN</td>\n",
       "      <td>NaN</td>\n",
       "      <td>1.0</td>\n",
       "      <td>NaN</td>\n",
       "      <td>NaN</td>\n",
       "      <td>NaN</td>\n",
       "      <td>1.0</td>\n",
       "      <td>1.0</td>\n",
       "      <td>NaN</td>\n",
       "      <td>NaN</td>\n",
       "    </tr>\n",
       "    <tr>\n",
       "      <th>13</th>\n",
       "      <td>새롬동</td>\n",
       "      <td>NaN</td>\n",
       "      <td>NaN</td>\n",
       "      <td>1.0</td>\n",
       "      <td>1.0</td>\n",
       "      <td>NaN</td>\n",
       "      <td>3.0</td>\n",
       "      <td>NaN</td>\n",
       "      <td>NaN</td>\n",
       "      <td>NaN</td>\n",
       "      <td>NaN</td>\n",
       "    </tr>\n",
       "    <tr>\n",
       "      <th>14</th>\n",
       "      <td>아름동</td>\n",
       "      <td>NaN</td>\n",
       "      <td>NaN</td>\n",
       "      <td>1.0</td>\n",
       "      <td>NaN</td>\n",
       "      <td>NaN</td>\n",
       "      <td>NaN</td>\n",
       "      <td>2.0</td>\n",
       "      <td>NaN</td>\n",
       "      <td>NaN</td>\n",
       "      <td>NaN</td>\n",
       "    </tr>\n",
       "    <tr>\n",
       "      <th>15</th>\n",
       "      <td>한솔동</td>\n",
       "      <td>NaN</td>\n",
       "      <td>NaN</td>\n",
       "      <td>1.0</td>\n",
       "      <td>NaN</td>\n",
       "      <td>NaN</td>\n",
       "      <td>NaN</td>\n",
       "      <td>NaN</td>\n",
       "      <td>NaN</td>\n",
       "      <td>NaN</td>\n",
       "      <td>NaN</td>\n",
       "    </tr>\n",
       "    <tr>\n",
       "      <th>16</th>\n",
       "      <td>부강면</td>\n",
       "      <td>NaN</td>\n",
       "      <td>NaN</td>\n",
       "      <td>NaN</td>\n",
       "      <td>34.0</td>\n",
       "      <td>NaN</td>\n",
       "      <td>2.0</td>\n",
       "      <td>NaN</td>\n",
       "      <td>NaN</td>\n",
       "      <td>NaN</td>\n",
       "      <td>NaN</td>\n",
       "    </tr>\n",
       "    <tr>\n",
       "      <th>17</th>\n",
       "      <td>소정면</td>\n",
       "      <td>NaN</td>\n",
       "      <td>NaN</td>\n",
       "      <td>NaN</td>\n",
       "      <td>11.0</td>\n",
       "      <td>NaN</td>\n",
       "      <td>NaN</td>\n",
       "      <td>NaN</td>\n",
       "      <td>NaN</td>\n",
       "      <td>NaN</td>\n",
       "      <td>NaN</td>\n",
       "    </tr>\n",
       "    <tr>\n",
       "      <th>18</th>\n",
       "      <td>소담동</td>\n",
       "      <td>NaN</td>\n",
       "      <td>NaN</td>\n",
       "      <td>NaN</td>\n",
       "      <td>NaN</td>\n",
       "      <td>NaN</td>\n",
       "      <td>1.0</td>\n",
       "      <td>NaN</td>\n",
       "      <td>NaN</td>\n",
       "      <td>NaN</td>\n",
       "      <td>NaN</td>\n",
       "    </tr>\n",
       "  </tbody>\n",
       "</table>\n",
       "</div>"
      ],
      "text/plain": [
       "    행정동명  교통약자지원센터  노인복지시설  도서관  마을회관  복지시설  아동복지시설  장애인복지시설  장애인이용센터  \\\n",
       "0    연서면       1.0     4.0  NaN  46.0   NaN     2.0      1.0      1.0   \n",
       "1    금남면       NaN     4.0  NaN  47.0   NaN     NaN      NaN      NaN   \n",
       "2    도담동       NaN     1.0  1.0   NaN   NaN     1.0      NaN      2.0   \n",
       "3    연기면       NaN     1.0  NaN  14.0   NaN     1.0      1.0      NaN   \n",
       "4    연동면       NaN     1.0  NaN  26.0   NaN     NaN      NaN      NaN   \n",
       "5    장군면       NaN     1.0  NaN  31.0   NaN     1.0      NaN      NaN   \n",
       "6    전동면       NaN     3.0  NaN  31.0   NaN     1.0      3.0      NaN   \n",
       "7    전의면       NaN     3.0  NaN  45.0   NaN     NaN      3.0      NaN   \n",
       "8   조치원읍       NaN    17.0  NaN  80.0   1.0     5.0      6.0      2.0   \n",
       "9    종촌동       NaN     1.0  1.0   NaN   NaN     1.0      4.0      NaN   \n",
       "10   고운동       NaN     NaN  1.0   1.0   NaN     1.0      NaN      NaN   \n",
       "11   대평동       NaN     NaN  1.0   1.0   NaN     1.0      NaN      NaN   \n",
       "12   보람동       NaN     NaN  1.0   NaN   NaN     NaN      1.0      1.0   \n",
       "13   새롬동       NaN     NaN  1.0   1.0   NaN     3.0      NaN      NaN   \n",
       "14   아름동       NaN     NaN  1.0   NaN   NaN     NaN      2.0      NaN   \n",
       "15   한솔동       NaN     NaN  1.0   NaN   NaN     NaN      NaN      NaN   \n",
       "16   부강면       NaN     NaN  NaN  34.0   NaN     2.0      NaN      NaN   \n",
       "17   소정면       NaN     NaN  NaN  11.0   NaN     NaN      NaN      NaN   \n",
       "18   소담동       NaN     NaN  NaN   NaN   NaN     1.0      NaN      NaN   \n",
       "\n",
       "    종합사회복지관  치매센터  \n",
       "0       NaN   NaN  \n",
       "1       NaN   NaN  \n",
       "2       NaN   1.0  \n",
       "3       NaN   NaN  \n",
       "4       NaN   NaN  \n",
       "5       NaN   NaN  \n",
       "6       NaN   NaN  \n",
       "7       NaN   NaN  \n",
       "8       1.0   2.0  \n",
       "9       1.0   NaN  \n",
       "10      NaN   NaN  \n",
       "11      NaN   NaN  \n",
       "12      NaN   NaN  \n",
       "13      NaN   NaN  \n",
       "14      NaN   NaN  \n",
       "15      NaN   NaN  \n",
       "16      NaN   NaN  \n",
       "17      NaN   NaN  \n",
       "18      NaN   NaN  "
      ]
     },
     "execution_count": 24,
     "metadata": {},
     "output_type": "execute_result"
    }
   ],
   "source": [
    "merged"
   ]
  },
  {
   "cell_type": "code",
   "execution_count": 25,
   "metadata": {},
   "outputs": [],
   "source": [
    "for i in range(len(Data_set_2)-1) :\n",
    "    if i == 0 :\n",
    "        cluster_merged = pd.merge(Data_set_2[i], Data_set_2[i+1], how = 'outer', on = '군집번호')\n",
    "    else :\n",
    "        cluster_merged = pd.merge(cluster_merged, Data_set_2[i+1], how = 'outer', on = '군집번호')\n",
    "cluster_merged.to_csv('./군집화된_외부데이터/복지시설_군집별_분포.csv',encoding='utf-8', index=False)"
   ]
  },
  {
   "cell_type": "markdown",
   "metadata": {},
   "source": [
    "### 행정동별, 군집별 "
   ]
  },
  {
   "cell_type": "code",
   "execution_count": 26,
   "metadata": {},
   "outputs": [],
   "source": [
    "merge = pd.merge(merge2, merged, how = 'outer', on='행정동명')\n",
    "merge.to_csv('./군집화된_외부데이터/행정동별_데이터_종합.csv',encoding='utf-8',index=False)"
   ]
  },
  {
   "cell_type": "code",
   "execution_count": 27,
   "metadata": {},
   "outputs": [],
   "source": [
    "merge = pd.merge(merge4, cluster_merged, how = 'outer', on='군집번호')\n",
    "merge.to_csv('./군집화된_외부데이터/군집별_데이터_종합.csv',encoding='utf-8',index=False)"
   ]
  }
 ],
 "metadata": {
  "kernelspec": {
   "display_name": "Python 3",
   "language": "python",
   "name": "python3"
  },
  "language_info": {
   "codemirror_mode": {
    "name": "ipython",
    "version": 3
   },
   "file_extension": ".py",
   "mimetype": "text/x-python",
   "name": "python",
   "nbconvert_exporter": "python",
   "pygments_lexer": "ipython3",
   "version": "3.8.3"
  }
 },
 "nbformat": 4,
 "nbformat_minor": 4
}
