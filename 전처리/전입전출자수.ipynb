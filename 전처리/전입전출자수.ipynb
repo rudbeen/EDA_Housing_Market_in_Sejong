{
 "cells": [
  {
   "cell_type": "code",
   "execution_count": 10,
   "metadata": {},
   "outputs": [],
   "source": [
    "import pandas as pd\n",
    "import numpy as np\n",
    "from IPython.display import display\n",
    "import matplotlib.pyplot as plt\n",
    "import xgboost\n",
    "import sklearn.cluster"
   ]
  },
  {
   "cell_type": "code",
   "execution_count": 11,
   "metadata": {},
   "outputs": [],
   "source": [
    "세종시_전입자수 = pd.read_csv('../input_raw//20.세종시_전입자수.csv',encoding='UTF-8')\n",
    "세종시_전출자수 = pd.read_csv('../input_raw/21.세종시_전출자수.csv',encoding='UTF-8')"
   ]
  },
  {
   "cell_type": "markdown",
   "metadata": {},
   "source": [
    "## 2017년 부터 전입 및 전출자수를 행정동 기준으로 더해준 것입니다"
   ]
  },
  {
   "cell_type": "code",
   "execution_count": 12,
   "metadata": {},
   "outputs": [],
   "source": [
    "data1=세종시_전입자수.groupby(['세종전입행정동'])['전입자수'].agg(sum)\n",
    "세종시_행정동별_전입자수 = pd.DataFrame(data1).reset_index()\n",
    "data2 = 세종시_전출자수.groupby(['세종전출행정동'])['전출자수'].agg(sum)\n",
    "세종시_행정동별_전출자수 = pd.DataFrame(data2).reset_index()\n",
    "\n",
    "세종시_행정동별_전입전출자수 = pd.merge(세종시_행정동별_전입자수,세종시_행정동별_전출자수,left_on='세종전입행정동',right_on='세종전출행정동')"
   ]
  },
  {
   "cell_type": "markdown",
   "metadata": {},
   "source": [
    "## 전입데이터와 전출 데이터를 병합하여 전입대비 전출자 수를 구할 수 있습니다"
   ]
  },
  {
   "cell_type": "code",
   "execution_count": 13,
   "metadata": {},
   "outputs": [],
   "source": [
    "세종시_행정동별_전입전출자수=세종시_행정동별_전입전출자수.drop('세종전출행정동',axis=1)\n",
    "세종시_행정동별_전입전출자수.columns=['행정동명','전입자수','전출자수']\n",
    "세종시_행정동별_전입전출자수.loc[7] = 세종시_행정동별_전입전출자수.loc[7] +  세종시_행정동별_전입전출자수.loc[2] \n",
    "\n",
    "세종시_행정동별_전입전출자수 = 세종시_행정동별_전입전출자수.drop(2)\n",
    "\n",
    "세종시_행정동별_전입전출자수.loc[7,'행정동명'] = '새롬동'\n",
    "\n",
    "세종시_행정동별_전입전출자수['전출_대비_전입_비율']=(세종시_행정동별_전입전출자수['전입자수']/세종시_행정동별_전입전출자수['전출자수'])*100\n",
    "\n",
    "세종시_행정동별_전입전출자수 = 세종시_행정동별_전입전출자수.sort_values('전출_대비_전입_비율',ascending=False)"
   ]
  },
  {
   "cell_type": "code",
   "execution_count": 14,
   "metadata": {},
   "outputs": [],
   "source": [
    "A = ['아름동', '연동면', '연서면', '금남면', '고운동', '도담동', '종촌동','조치원읍', '연기면']\n",
    "B = ['전동면', '부강면', '소정면', '전의면', '장군면']\n",
    "C = ['소담동', '한솔동', '새롬동', '대평동', '보람동']"
   ]
  },
  {
   "cell_type": "code",
   "execution_count": 15,
   "metadata": {},
   "outputs": [],
   "source": [
    "cluster_number = []\n",
    "for i in 세종시_행정동별_전입전출자수.행정동명 :\n",
    "    if i in A :\n",
    "        cluster_number.append('A')\n",
    "    elif i in B :\n",
    "        cluster_number.append('B')\n",
    "    elif i in C : \n",
    "        cluster_number.append('C')\n",
    "세종시_행정동별_전입전출자수['군집번호'] = cluster_number"
   ]
  },
  {
   "cell_type": "code",
   "execution_count": 16,
   "metadata": {},
   "outputs": [],
   "source": [
    "세종시_행정동별_전입전출자수.to_csv('../부동산분석/부동산_관련_자료/세종시_행정동별_전입전출자수.csv', index = False)"
   ]
  },
  {
   "cell_type": "code",
   "execution_count": null,
   "metadata": {},
   "outputs": [],
   "source": []
  }
 ],
 "metadata": {
  "kernelspec": {
   "display_name": "Python 3",
   "language": "python",
   "name": "python3"
  },
  "language_info": {
   "codemirror_mode": {
    "name": "ipython",
    "version": 3
   },
   "file_extension": ".py",
   "mimetype": "text/x-python",
   "name": "python",
   "nbconvert_exporter": "python",
   "pygments_lexer": "ipython3",
   "version": "3.8.3"
  }
 },
 "nbformat": 4,
 "nbformat_minor": 5
}
