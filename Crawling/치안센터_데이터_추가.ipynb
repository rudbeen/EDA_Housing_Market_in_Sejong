{
 "cells": [
  {
   "cell_type": "code",
   "execution_count": 1,
   "metadata": {},
   "outputs": [],
   "source": [
    "import pandas as pd\n",
    "from bs4 import BeautifulSoup\n",
    "\n",
    "import selenium\n",
    "from selenium import webdriver\n",
    "from selenium.webdriver import Chrome\n",
    "from selenium.webdriver.common.keys import Keys\n",
    "import time\n",
    "import urllib.request\n",
    "from bs4 import BeautifulSoup\n",
    "import requests\n",
    "import numpy as np"
   ]
  },
  {
   "cell_type": "code",
   "execution_count": null,
   "metadata": {},
   "outputs": [],
   "source": [
    "center = []\n",
    "url = 'https://ko.wikipedia.org/wiki/%EC%84%B8%EC%A2%85%EA%B2%BD%EC%B0%B0%EC%84%9C'\n",
    "browser = webdriver.Chrome()\n",
    "browser.get(url)"
   ]
  },
  {
   "cell_type": "code",
   "execution_count": null,
   "metadata": {},
   "outputs": [],
   "source": [
    "center = []\n",
    "center.append(browser.find_element_by_css_selector('#mw-content-text > div.mw-parser-output > table.wikitable > tbody > tr:nth-child(2) > td:nth-child(4)').text)\n",
    "center.append(browser.find_element_by_css_selector('#mw-content-text > div.mw-parser-output > table.wikitable > tbody > tr:nth-child(3) > td:nth-child(4)').text)\n",
    "center.append(browser.find_element_by_css_selector('#mw-content-text > div.mw-parser-output > table.wikitable > tbody > tr:nth-child(7) > td:nth-child(4)').text)"
   ]
  },
  {
   "cell_type": "code",
   "execution_count": null,
   "metadata": {},
   "outputs": [],
   "source": [
    "url = 'https://search.naver.com/search.naver?where=nexearch&sm=top_hty&fbm=1&ie=utf8&query='\n",
    "browser.get(url)\n",
    "center_loc = []\n",
    "for i in range(len(center)) :\n",
    "    if i in [0,1] :\n",
    "        browser.find_element_by_css_selector('#nx_query').send_keys(center[i])\n",
    "        time.sleep(2)\n",
    "        browser.find_element_by_css_selector('#nx_query').send_keys(Keys.ENTER)\n",
    "        center_loc.append(browser.find_element_by_css_selector('#loc-main-section-root > div > div > div:nth-child(2) > div:nth-child(2) > ul > li:nth-child(1) > div.Stgs- > div._10EWh > a').text)\n",
    "        browser.find_element_by_css_selector('#nx_query').clear()\n",
    "    else :\n",
    "        browser.find_element_by_css_selector('#nx_query').send_keys(center[i])\n",
    "        time.sleep(2)\n",
    "        browser.find_element_by_css_selector('#nx_query').send_keys(Keys.ENTER)\n",
    "        center_loc.append(browser.find_element_by_xpath('//*[@id=\"loc-main-section-root\"]/div/div/div[2]/div[2]/div[2]/div[2]/div').text)"
   ]
  },
  {
   "cell_type": "code",
   "execution_count": null,
   "metadata": {},
   "outputs": [],
   "source": [
    "center_loc[2] = center_loc[2][:20]"
   ]
  },
  {
   "cell_type": "code",
   "execution_count": null,
   "metadata": {},
   "outputs": [],
   "source": [
    "center = pd.DataFrame({'지구대파출소' : center,\n",
    "             '위치' : center_loc})"
   ]
  },
  {
   "cell_type": "code",
   "execution_count": null,
   "metadata": {},
   "outputs": [],
   "source": [
    "#center.to_csv('치안센터.csv', index = False)"
   ]
  },
  {
   "cell_type": "markdown",
   "metadata": {},
   "source": [
    "# 지오코딩 후 경찰_파출소 데이터와 병합"
   ]
  },
  {
   "cell_type": "code",
   "execution_count": 4,
   "metadata": {
    "scrolled": true
   },
   "outputs": [],
   "source": [
    "df_1 = pd.read_csv('../지역별_외부데이터/행정동_not_joined/경찰청_경찰관서_위치,_주소.csv')\n",
    "df_1 = df_1[df_1.서 == '세종경찰서']\n",
    "df_2 = pd.read_csv('../지역별_외부데이터/행정동_not_joined/치안센터.csv')"
   ]
  },
  {
   "cell_type": "code",
   "execution_count": 5,
   "metadata": {},
   "outputs": [],
   "source": [
    "df_2 = df_2.iloc[:,[0,3,4,1]]\n",
    "df_2.columns = ['지구대파출소','X좌표','Y좌표','주소']"
   ]
  },
  {
   "cell_type": "code",
   "execution_count": 6,
   "metadata": {},
   "outputs": [],
   "source": [
    "df_1 = df_1.iloc[:,2:]"
   ]
  },
  {
   "cell_type": "code",
   "execution_count": 11,
   "metadata": {},
   "outputs": [],
   "source": [
    "merged = pd.concat([df_1,df_2])\n",
    "merged.to_csv('../지역별_외부데이터/행정동_not_joined/경찰_파출소_치안센터.csv',index = False)"
   ]
  }
 ],
 "metadata": {
  "kernelspec": {
   "display_name": "Python 3",
   "language": "python",
   "name": "python3"
  },
  "language_info": {
   "codemirror_mode": {
    "name": "ipython",
    "version": 3
   },
   "file_extension": ".py",
   "mimetype": "text/x-python",
   "name": "python",
   "nbconvert_exporter": "python",
   "pygments_lexer": "ipython3",
   "version": "3.8.3"
  }
 },
 "nbformat": 4,
 "nbformat_minor": 2
}
