{
 "cells": [
  {
   "cell_type": "code",
   "execution_count": 3,
   "metadata": {},
   "outputs": [
    {
     "name": "stdout",
     "output_type": "stream",
     "text": [
      "1\n"
     ]
    }
   ],
   "source": [
    "import pandas as pd\n",
    "\n",
    "url = 'https://www.sejong.go.kr/prog/life/sub05_0102/list.do?pageIndex=1&drs_cd=1&amp;area='\n",
    "\n",
    "dfs = pd.read_html(url)\n",
    "\n",
    "print(len(dfs))"
   ]
  },
  {
   "cell_type": "code",
   "execution_count": 4,
   "metadata": {},
   "outputs": [],
   "source": [
    "data = []\n",
    "for i in range(1,3):\n",
    "    url = ('https://www.sejong.go.kr/prog/life/sub05_0102/list.do?pageIndex=%d&drs_cd=1&amp;area='%i)\n",
    "    dfs = pd.read_html(url)\n",
    "    \n",
    "    data.append(dfs)"
   ]
  },
  {
   "cell_type": "code",
   "execution_count": 5,
   "metadata": {},
   "outputs": [],
   "source": [
    "for i in range(1,21):\n",
    "    url = ('https://www.sejong.go.kr/prog/life/sub05_0103/list.do?pageIndex=%d&drs_cd=2&amp;area='%i)\n",
    "    dfs = pd.read_html(url)\n",
    "    \n",
    "    data.append(dfs)"
   ]
  },
  {
   "cell_type": "code",
   "execution_count": 6,
   "metadata": {},
   "outputs": [],
   "source": [
    "for i in range(1,11):\n",
    "    url = ('https://www.sejong.go.kr/prog/life/sub05_0104/list.do?pageIndex=%d&drs_cd=3&amp;area='%i)\n",
    "    dfs = pd.read_html(url)\n",
    "    \n",
    "    data.append(dfs)"
   ]
  },
  {
   "cell_type": "code",
   "execution_count": 7,
   "metadata": {},
   "outputs": [],
   "source": [
    "for i in range(1,10):\n",
    "    url = ('https://www.sejong.go.kr/prog/life/sub05_0105/list.do?pageIndex=%d&drs_cd=4&amp;area='%i)\n",
    "    dfs = pd.read_html(url)\n",
    "    \n",
    "    data.append(dfs)"
   ]
  },
  {
   "cell_type": "code",
   "execution_count": 8,
   "metadata": {
    "scrolled": true
   },
   "outputs": [],
   "source": [
    "data_df = pd.DataFrame()\n",
    "for i in range(0,41) :\n",
    "    data1 = data[i] \n",
    "    data1 = pd.DataFrame(data1[0])\n",
    "    data_df=pd.concat([data_df,data1])"
   ]
  },
  {
   "cell_type": "code",
   "execution_count": 11,
   "metadata": {},
   "outputs": [],
   "source": [
    "data_df.to_csv('../지역별_외부데이터/행정동_not_joined/세종시_병원현황.csv',index = False)"
   ]
  }
 ],
 "metadata": {
  "kernelspec": {
   "display_name": "Python 3",
   "language": "python",
   "name": "python3"
  },
  "language_info": {
   "codemirror_mode": {
    "name": "ipython",
    "version": 3
   },
   "file_extension": ".py",
   "mimetype": "text/x-python",
   "name": "python",
   "nbconvert_exporter": "python",
   "pygments_lexer": "ipython3",
   "version": "3.7.3"
  }
 },
 "nbformat": 4,
 "nbformat_minor": 5
}
